{
 "cells": [
  {
   "cell_type": "markdown",
   "id": "db0d04b8",
   "metadata": {},
   "source": [
    "# Data Analysis Framework for Photographic Collection Data from the KHI"
   ]
  },
  {
   "cell_type": "markdown",
   "id": "3777f80b",
   "metadata": {},
   "source": [
    "Information about the project\n",
    "- Framework\n",
    "- Development Context\n",
    "- KHI"
   ]
  },
  {
   "cell_type": "markdown",
   "id": "352ee69f",
   "metadata": {},
   "source": [
    "# Table of contents"
   ]
  },
  {
   "cell_type": "markdown",
   "id": "a2941105",
   "metadata": {},
   "source": [
    "<ul>\n",
    "    <li><a href='#start'>Getting started: How to use this notebook</a></li>\n",
    "    <li><a href='#jnglossary'>Notebook Glossary</a></li>\n",
    "    <li><a href='#khiglossary'>KHI Dataset Glossary</a></li>\n",
    "    <li><a href='#preparation'>Setting Up the Environment</a></li>\n",
    "    <li><a href='#upload'>Uploading and Preparing Data</a></li>\n",
    "    <li><a href='#refining'>Refining the Dataset: Applying Filters</a></li>\n",
    "    <li><a href='#sort'>Sorting Your Data</a></li>\n",
    "    <li><a href='#specific'>Get Individual Artwork or Photograph Information</a></li>\n",
    "    <li><a href='#visualization'>Data Visualization Tool</a></li>\n",
    "    <li><a href='#useful'>Helpful Resources and Links</a></li>\n",
    "    <li><a href='#contact'>Contacts</a></li>\n",
    "</ul>"
   ]
  },
  {
   "cell_type": "markdown",
   "id": "882935e2",
   "metadata": {},
   "source": [
    "# Getting Started: How to Use This Notebook<a id='howto'></a>"
   ]
  },
  {
   "cell_type": "markdown",
   "id": "e952f9c1",
   "metadata": {},
   "source": [
    "Welcome to this interactive data analysis experience!</br>\n",
    "This Jupyter Notebook is designed to help you analyze archival data efficiently, even if you're new to programming. Follow the instructions carefully to execute your analysis. If you want more information on <a href=\"https://docs.jupyter.org/en/latest/#\" target=\"_blank\">what a Jupyter Notebook is</a>, you can visit this link. Here's how to get started:"
   ]
  },
  {
   "cell_type": "markdown",
   "id": "08bc72b9",
   "metadata": {},
   "source": [
    "<h3 style=\"display:inline-block \"><img style=\"display:inline-block; height:24px\" src= 'resources/magn.png' alt='Download icon'> <b>Understanding Jupyter Notebooks:</b></h3></br>"
   ]
  },
  {
   "cell_type": "markdown",
   "id": "ee86c8bc",
   "metadata": {},
   "source": [
    "- Each section in this notebook is contained within a **\"cell\"**. Cells can contain explanatory text (like this), Python code, or both.\n",
    "- To **execute** a cell and see its output, select the cell and press `Shift + Enter` or click on the `Run` button in the menu above.\n",
    "- When you execute a cell, you may notice a **\\* symbol** next to the cell. This indicates that the cell is currently running. Once the cell has finished executing, the * symbol will be **replaced by a number**, which represents the order of execution for that particular cell.\n",
    "- The notebook operates using a computational engine known as a **\"kernel\"**, responsible for executing code and maintaining variable states.\n",
    "- Sometimes it may be necessary to **restart the kernel**, especially if you encounter unexpected behavior or want to clear all previous variable assignments. You can restart the kernel by clicking on the \"Kernel\" menu above and selecting \"Restart Kernel\" or \"Restart & Clear Output\"."
   ]
  },
  {
   "cell_type": "markdown",
   "id": "c47e60ec",
   "metadata": {},
   "source": [
    "<h3 style=\"display:inline-block \"><img style=\"display:inline-block; height:28px\" src= 'resources/interact.png' alt='Download icon'> <b> Interacting with the Notebook:</b></h3></br>"
   ]
  },
  {
   "cell_type": "markdown",
   "id": "98e0048d",
   "metadata": {},
   "source": [
    "- Use the provided cells to **upload** your archival data files (in XML format) using the upload button.\n",
    "- **Run the cells in order** to execute the pre-written code and perform data analysis tasks."
   ]
  },
  {
   "cell_type": "markdown",
   "id": "e6c77976",
   "metadata": {},
   "source": [
    "<h3 style=\"display:inline-block \"><img style=\"display:inline-block; height:28px\" src= 'resources/download2.png' alt='Download icon'> <b> Download results:</b></h3></br>"
   ]
  },
  {
   "cell_type": "markdown",
   "id": "09a32c22",
   "metadata": {},
   "source": [
    "- This notebook allows you to download the results of your analysis to your device. The data will be saved in **CSV format** (see the Notebook Glossary for more details).\n",
    "- Look for the yellow box to locate the download section for each step of the analysis:\n",
    "<div class=\"alert alert-block alert-warning\"style=\"padding: 6pt !important;\">\n",
    "<p style=\"display:inline-block; font-size:9pt; margin: 0 !important; \"><img style=\"display:inline-block; height:22px\" src= 'resources/download2.png' alt='Download icon'> <b>Download Section</b></p>\n",
    "</div>"
   ]
  },
  {
   "cell_type": "markdown",
   "id": "073b269b",
   "metadata": {},
   "source": [
    "<h3 style=\"display:inline-block \"><img style=\"display:inline-block; height:32px\" src= 'resources/help.png' alt='help icon'> <b> Getting help</b></h3></br>"
   ]
  },
  {
   "cell_type": "markdown",
   "id": "78a8f573",
   "metadata": {},
   "source": [
    "- If you encounter any **issues or have questions**, refer to the explanatory texts, comments, glossary, and links section for clarification.\n",
    "- Feel free to **modify and experiment** with the code to suit your specific research needs. Just be careful when making changes, especially if you're new to coding. Tweaking the code can **affect how it works** and might cause unexpected issues or errors. It's a good idea to save a backup of your notebook before making big changes to avoid any problems with your original work.\n",
    "- For additional assistance or inquiries, please see the <a href=\"#contact\">Contact information</a> section."
   ]
  },
  {
   "cell_type": "markdown",
   "id": "c42bb772",
   "metadata": {},
   "source": [
    "<div class=\"alert alert-block alert-info\">\n",
    "<b>Note:</b> Don't worry about the technical details - simply execute the cells and observe the outputs that are generated. The notebook is designed to handle the computational tasks behind the scenes, allowing you to focus on exploring and interpreting the results.\n",
    "</div>"
   ]
  },
  {
   "cell_type": "markdown",
   "id": "fbf2c438",
   "metadata": {},
   "source": [
    "# Notebook Glossary<a id='jnglossary'></a>"
   ]
  },
  {
   "cell_type": "markdown",
   "id": "e65c06ff",
   "metadata": {},
   "source": [
    "This glossary provides definitions for key terms and concepts commonly used in Jupyter Notebooks and programming. Whether you're new to coding or looking to deepen your understanding, this resource will help clarify important terms you'll encounter while working with notebooks."
   ]
  },
  {
   "cell_type": "markdown",
   "id": "b9ff170b",
   "metadata": {},
   "source": [
    "<a id='cell'></a><b>Cell:</b>\n",
    ">A cell is a container within a Jupyter Notebook where you can write and execute code, display text or include other content like images and multimedia. Each cell can be individually executed to see its output."
   ]
  },
  {
   "cell_type": "markdown",
   "id": "0ab4001a",
   "metadata": {},
   "source": [
    "<a id='exec'></a><b>Execute/Run:</b>\n",
    ">In the context of programming and Jupyter Notebooks, \"execute\" or \"run\" refers to the process of running a cell containing code to perform the actions specified within that code. Pressing Shift+Enter in a Jupyter Notebook or using the \"Run\" button in the notebook interface cell executes the code and displays the output."
   ]
  },
  {
   "cell_type": "markdown",
   "id": "77f8dd20",
   "metadata": {},
   "source": [
    "<b><a id='dataset'></a>Dataset:</b>\n",
    ">A dataset is a collection of organized data used for analysis or research. It consists of structured or semi-structured information presented in a specific format, such as rows and columns. Datasets are important for tasks like analyzing trends, drawing conclusions, and conducting research in various fields."
   ]
  },
  {
   "cell_type": "markdown",
   "id": "8f5e1f54",
   "metadata": {},
   "source": [
    "<b>Python:</b>\n",
    ">Python is a popular programming language known for its simplicity and readability. It is widely used for various purposes, including web development, data analysis, and automation. Python's clear and straightforward syntax makes it beginner-friendly and accessible for people learning to code."
   ]
  },
  {
   "cell_type": "markdown",
   "id": "1a7d978c",
   "metadata": {},
   "source": [
    "<b><a id='string'></a>String:</b>\n",
    ">A string is a sequence of characters enclosed in quotes (e.g., 'hello', \"world\"). Strings are used to represent textual data in programming and can be manipulated using various string operations."
   ]
  },
  {
   "cell_type": "markdown",
   "id": "7ad8b5c4",
   "metadata": {},
   "source": [
    "<b>List:</b>\n",
    ">A list is a data structure that represents an ordered collection of items, where each item can be of any data type (e.g., numbers, strings, other lists). Lists are versatile and widely used for storing and manipulating data."
   ]
  },
  {
   "cell_type": "markdown",
   "id": "dd293cb8",
   "metadata": {},
   "source": [
    "<b><a id='df'></a>DataFrame:</b>\n",
    ">A DataFrame is a two-dimensional tabular data structure in pandas (a Python library for data manipulation and analysis). It consists of rows and columns, where each column can have a different <a href=\"https://docs.python.org/3/library/datatypes.html\" target=\"_blank\">data type</a> (e.g., integer, string, float). DataFrames are widely used for data analysis and manipulation tasks."
   ]
  },
  {
   "cell_type": "markdown",
   "id": "2b189cf4",
   "metadata": {},
   "source": [
    "<b><a id='csv'></a>CSV:</b>\n",
    ">CSV (Comma-Separated Values) is a simple file format used to store tabular data, where each line in the file corresponds to a row of data, and fields are separated by commas. CSV files are commonly used for data exchange between different software applications."
   ]
  },
  {
   "cell_type": "markdown",
   "id": "0c842c91",
   "metadata": {},
   "source": [
    "<b>Library:</b>\n",
    ">In programming, a library refers to a collection of reusable code and functions that can be imported and used in your own programs. Libraries like pandas, matplotlib, and numpy are commonly used in data analysis with Python."
   ]
  },
  {
   "cell_type": "markdown",
   "id": "c1ad8053",
   "metadata": {},
   "source": [
    "<b>Function:</b>\n",
    ">A function is a block of reusable code that performs a specific task. Functions are designed to take inputs (arguments) and produce outputs, allowing you to modularize code and make it more organized and reusable."
   ]
  },
  {
   "cell_type": "markdown",
   "id": "163fbd39",
   "metadata": {},
   "source": [
    "<b>Argument:</b> \n",
    ">An argument (or parameter) is a value passed to a function or method when it is called. Arguments provide input data that the function can operate on, allowing for customization and flexibility in function behavior"
   ]
  },
  {
   "cell_type": "markdown",
   "id": "14dcc87f",
   "metadata": {},
   "source": [
    "<b>Error/Exception:</b>\n",
    ">An error or exception is a problem that occurs during the execution of a program, causing it to behave unexpectedly or fail. Errors can arise due to syntax mistakes, logical errors, or issues with input data. Common examples are syntax errors (e.g., typos in code), runtime errors (e.g., division by zero), or name errors (e.g., referencing undefined variables)."
   ]
  },
  {
   "cell_type": "markdown",
   "id": "6eb66e49",
   "metadata": {},
   "source": [
    "<b><a id='widget'></a>Widget:</b>\n",
    ">A widget in Jupyter Notebook is a graphical tool that allows users to interact with and control elements in the notebook environment. Widgets can be used to input data, make selections, or trigger actions."
   ]
  },
  {
   "cell_type": "markdown",
   "id": "999b3e38",
   "metadata": {},
   "source": [
    "<b><a id='xml'></a>XML:</b>\n",
    ">XML is a markup language that defines a set of rules for encoding documents in a format that is both human-readable and machine-readable. XML uses tags to define the structure and meaning of data elements, making it suitable for representing structured data with nested hierarchies."
   ]
  },
  {
   "cell_type": "markdown",
   "id": "9ff8c602",
   "metadata": {},
   "source": [
    "# KHI Dataset Glossary<a id='khiglossary'></a>"
   ]
  },
  {
   "cell_type": "markdown",
   "id": "dfc9c6d4",
   "metadata": {},
   "source": [
    "**Photo ID `(photo_id)`:**\n",
    ">Unique ID identifying photographs within the dataset."
   ]
  },
  {
   "cell_type": "markdown",
   "id": "14d771db",
   "metadata": {},
   "source": [
    "**Art Object ID `(object_id)`:** Unique ID identifying artworks within the dataset."
   ]
  },
  {
   "cell_type": "markdown",
   "id": "c7018870",
   "metadata": {},
   "source": [
    "**Iconography `(iconography)`:** IconClass"
   ]
  },
  {
   "cell_type": "markdown",
   "id": "da5caccf",
   "metadata": {},
   "source": [
    "**Photo ID `(photo_id)`:** Unique ID identifying photographs within the dataset."
   ]
  },
  {
   "cell_type": "markdown",
   "id": "b75bec3e",
   "metadata": {},
   "source": [
    "**Photo ID `(photo_id)`:** Unique ID identifying photographs within the dataset."
   ]
  },
  {
   "cell_type": "markdown",
   "id": "fa5b64cd",
   "metadata": {},
   "source": [
    "**Photo ID `(photo_id)`:** Unique ID identifying photographs within the dataset."
   ]
  },
  {
   "cell_type": "markdown",
   "id": "c9d7f08e-e3d9-4f9b-9b68-133f3ace508e",
   "metadata": {},
   "source": [
    "# Setting Up the Environment<a id='preparation'></a>"
   ]
  },
  {
   "cell_type": "markdown",
   "id": "a75c19f1",
   "metadata": {},
   "source": [
    "The <a href=\"#cell\">cells</a> below are responsible for downloading necessary **libraries** (dependencies) and importing them into our notebook environment. Dependencies are additional pieces of code that provide specific functionality, such as data manipulation, visualization, or analysis tools. The installations will not affect your device, as these  are **temporary** and specific to this notebook session."
   ]
  },
  {
   "cell_type": "markdown",
   "id": "361b4858",
   "metadata": {},
   "source": [
    "When you **<a href=\"#exec\">run these cells</a> by pressing `Shift + Enter`**, the notebook will automatically download the required dependencies if they are not already installed on your system. This process may take a moment, but it ensures that all the tools we need to analyze and work with data are readily available."
   ]
  },
  {
   "cell_type": "markdown",
   "id": "9d6aca3f",
   "metadata": {},
   "source": [
    "Once the dependencies are downloaded and imported, you can proceed with the rest of the notebook.  To check if the installation is done, look for an **asterisk (*)** in the cell's **square brackets [ ]** on its left while it's running. Once finished, you'll see a **number (e.g., [1])**, that conferms the successful installation."
   ]
  },
  {
   "cell_type": "markdown",
   "id": "b81b1dd2",
   "metadata": {},
   "source": [
    "Proceed by **running the next two cells**:"
   ]
  },
  {
   "cell_type": "code",
   "execution_count": 1,
   "id": "db84a716",
   "metadata": {
    "scrolled": true
   },
   "outputs": [
    {
     "name": "stdout",
     "output_type": "stream",
     "text": [
      "Requirement already satisfied: pathlib in /Users/alessandrafailla/anaconda3/lib/python3.10/site-packages (1.0.1)\n",
      "Requirement already satisfied: numpy in /Users/alessandrafailla/anaconda3/lib/python3.10/site-packages (1.23.5)\n",
      "Requirement already satisfied: matplotlib in /Users/alessandrafailla/anaconda3/lib/python3.10/site-packages (3.7.0)\n",
      "Requirement already satisfied: contourpy>=1.0.1 in /Users/alessandrafailla/anaconda3/lib/python3.10/site-packages (from matplotlib) (1.0.5)\n",
      "Requirement already satisfied: cycler>=0.10 in /Users/alessandrafailla/anaconda3/lib/python3.10/site-packages (from matplotlib) (0.11.0)\n",
      "Requirement already satisfied: fonttools>=4.22.0 in /Users/alessandrafailla/anaconda3/lib/python3.10/site-packages (from matplotlib) (4.25.0)\n",
      "Requirement already satisfied: kiwisolver>=1.0.1 in /Users/alessandrafailla/anaconda3/lib/python3.10/site-packages (from matplotlib) (1.4.4)\n",
      "Requirement already satisfied: numpy>=1.20 in /Users/alessandrafailla/anaconda3/lib/python3.10/site-packages (from matplotlib) (1.23.5)\n",
      "Requirement already satisfied: packaging>=20.0 in /Users/alessandrafailla/anaconda3/lib/python3.10/site-packages (from matplotlib) (23.1)\n",
      "Requirement already satisfied: pillow>=6.2.0 in /Users/alessandrafailla/anaconda3/lib/python3.10/site-packages (from matplotlib) (9.4.0)\n",
      "Requirement already satisfied: pyparsing>=2.3.1 in /Users/alessandrafailla/anaconda3/lib/python3.10/site-packages (from matplotlib) (3.0.9)\n",
      "Requirement already satisfied: python-dateutil>=2.7 in /Users/alessandrafailla/anaconda3/lib/python3.10/site-packages (from matplotlib) (2.8.2)\n",
      "Requirement already satisfied: six>=1.5 in /Users/alessandrafailla/anaconda3/lib/python3.10/site-packages (from python-dateutil>=2.7->matplotlib) (1.16.0)\n",
      "Requirement already satisfied: pandas in /Users/alessandrafailla/anaconda3/lib/python3.10/site-packages (1.5.3)\n",
      "Requirement already satisfied: python-dateutil>=2.8.1 in /Users/alessandrafailla/anaconda3/lib/python3.10/site-packages (from pandas) (2.8.2)\n",
      "Requirement already satisfied: pytz>=2020.1 in /Users/alessandrafailla/anaconda3/lib/python3.10/site-packages (from pandas) (2022.7)\n",
      "Requirement already satisfied: numpy>=1.21.0 in /Users/alessandrafailla/anaconda3/lib/python3.10/site-packages (from pandas) (1.23.5)\n",
      "Requirement already satisfied: six>=1.5 in /Users/alessandrafailla/anaconda3/lib/python3.10/site-packages (from python-dateutil>=2.8.1->pandas) (1.16.0)\n",
      "Requirement already satisfied: seaborn in /Users/alessandrafailla/anaconda3/lib/python3.10/site-packages (0.12.2)\n",
      "Requirement already satisfied: numpy!=1.24.0,>=1.17 in /Users/alessandrafailla/anaconda3/lib/python3.10/site-packages (from seaborn) (1.23.5)\n",
      "Requirement already satisfied: pandas>=0.25 in /Users/alessandrafailla/anaconda3/lib/python3.10/site-packages (from seaborn) (1.5.3)\n",
      "Requirement already satisfied: matplotlib!=3.6.1,>=3.1 in /Users/alessandrafailla/anaconda3/lib/python3.10/site-packages (from seaborn) (3.7.0)\n",
      "Requirement already satisfied: contourpy>=1.0.1 in /Users/alessandrafailla/anaconda3/lib/python3.10/site-packages (from matplotlib!=3.6.1,>=3.1->seaborn) (1.0.5)\n",
      "Requirement already satisfied: cycler>=0.10 in /Users/alessandrafailla/anaconda3/lib/python3.10/site-packages (from matplotlib!=3.6.1,>=3.1->seaborn) (0.11.0)\n",
      "Requirement already satisfied: fonttools>=4.22.0 in /Users/alessandrafailla/anaconda3/lib/python3.10/site-packages (from matplotlib!=3.6.1,>=3.1->seaborn) (4.25.0)\n",
      "Requirement already satisfied: kiwisolver>=1.0.1 in /Users/alessandrafailla/anaconda3/lib/python3.10/site-packages (from matplotlib!=3.6.1,>=3.1->seaborn) (1.4.4)\n",
      "Requirement already satisfied: packaging>=20.0 in /Users/alessandrafailla/anaconda3/lib/python3.10/site-packages (from matplotlib!=3.6.1,>=3.1->seaborn) (23.1)\n",
      "Requirement already satisfied: pillow>=6.2.0 in /Users/alessandrafailla/anaconda3/lib/python3.10/site-packages (from matplotlib!=3.6.1,>=3.1->seaborn) (9.4.0)\n",
      "Requirement already satisfied: pyparsing>=2.3.1 in /Users/alessandrafailla/anaconda3/lib/python3.10/site-packages (from matplotlib!=3.6.1,>=3.1->seaborn) (3.0.9)\n",
      "Requirement already satisfied: python-dateutil>=2.7 in /Users/alessandrafailla/anaconda3/lib/python3.10/site-packages (from matplotlib!=3.6.1,>=3.1->seaborn) (2.8.2)\n",
      "Requirement already satisfied: pytz>=2020.1 in /Users/alessandrafailla/anaconda3/lib/python3.10/site-packages (from pandas>=0.25->seaborn) (2022.7)\n",
      "Requirement already satisfied: six>=1.5 in /Users/alessandrafailla/anaconda3/lib/python3.10/site-packages (from python-dateutil>=2.7->matplotlib!=3.6.1,>=3.1->seaborn) (1.16.0)\n"
     ]
    }
   ],
   "source": [
    "!pip install pathlib\n",
    "!pip install numpy\n",
    "!pip install matplotlib\n",
    "!pip install pandas\n",
    "!pip install seaborn\n",
    "%load_ext autoreload\n",
    "%autoreload 2"
   ]
  },
  {
   "cell_type": "code",
   "execution_count": 2,
   "id": "989f89a8",
   "metadata": {},
   "outputs": [],
   "source": [
    "# To prevent SSL certificate failure\n",
    "import os, ssl\n",
    "if (not os.environ.get('PYTHONHTTPSVERIFY', '') and\n",
    "    getattr(ssl, '_create_unverified_context', None)):\n",
    "    ssl._create_default_https_context = ssl._create_unverified_context\n",
    "import pathlib\n",
    "import xml.etree.ElementTree as ET\n",
    "import re\n",
    "from pprint import pprint\n",
    "import codecs\n",
    "from resources.PhotoAttributes import PhotoAttributes\n",
    "from resources.dictionaries_file import *\n",
    "from resources.Classes_file import *\n",
    "from Thesis_project_main import *\n",
    "from module import *\n",
    "import numpy\n",
    "import matplotlib.pyplot as plt\n",
    "import seaborn as sns\n",
    "import pandas as pd\n",
    "from pandas.api.types import is_datetime64_any_dtype as is_datetime\n",
    "import ipywidgets as widgets\n",
    "from ipywidgets import HTML\n",
    "from IPython.display import display\n",
    "import base64\n",
    "from ipywidgets import interact, interactive, fixed, interact_manual\n",
    "%run ./resources/dataclasses_creation.py"
   ]
  },
  {
   "cell_type": "markdown",
   "id": "317b450a",
   "metadata": {},
   "source": [
    "# Uploading and Preparing Data<a id='upload'></a>\n",
    "***"
   ]
  },
  {
   "cell_type": "markdown",
   "id": "40f4e3bc",
   "metadata": {},
   "source": [
    "This section allows you to **upload your <a href=\"#xml\">XML file</a>** containing data about the collections of the KHI. If you'd rather use a pre-existing <a href=\"#dataset\">dataset</a>, you can **skip the \"Upload\" option** and continue with the notebook.\n",
    "Otherwise, follow these steps to upload your file:\n",
    "\n",
    "1. Run the following cell.\n",
    "2. Click on the \"Upload\" button that will appear below.\n",
    "3. Choose the **XML file** from your device."
   ]
  },
  {
   "cell_type": "markdown",
   "id": "6f7c300f",
   "metadata": {},
   "source": [
    "<div class=\"alert alert-block alert-info\">\n",
    "    <p><b>Note</b>: Please be aware that Jupyter notebooks have a maximum file size limit, restricting the upload of files larger than 25 MB.</p>\n",
    "</div>"
   ]
  },
  {
   "cell_type": "code",
   "execution_count": 3,
   "id": "b179d908",
   "metadata": {},
   "outputs": [
    {
     "data": {
      "application/vnd.jupyter.widget-view+json": {
       "model_id": "f01c2193ba7d479f8fd89ab030bbb0f5",
       "version_major": 2,
       "version_minor": 0
      },
      "text/plain": [
       "FileUpload(value=(), accept='.xml', description='Upload')"
      ]
     },
     "metadata": {},
     "output_type": "display_data"
    }
   ],
   "source": [
    "display(upload)"
   ]
  },
  {
   "cell_type": "markdown",
   "id": "d7db97c2",
   "metadata": {},
   "source": [
    "If you prefer, you can explore one of the provided **test files** without the need to upload any additional file. Just run the cell below and choose one file from the dropdown menu, and the test data will load automatically. This way, you can start exploring and analyzing the dataset right away following the notebook's instructions."
   ]
  },
  {
   "cell_type": "markdown",
   "id": "c4bd1a4a",
   "metadata": {},
   "source": [
    "* <b>Photographs of paintings from Kornél Fabriczy's photographic collection:</b> Photograph of paintings from the collection of the art historian Kornél Fabriczy and all photos of the same artworks within the Photothek's archive.(read more about <a href=\"http://artchives.fondazionezeri.unibo.it/historian-Q995470\" target=\"_blank\">Kornél Fabriczy</a> the \"<a href=\"http://artchives.fondazionezeri.unibo.it/collection-1594141385-08\" target=\"_blank\">Nachlass Cornelius von Fabriczy</a>\" on the ArtChives project website)\n",
    "* <b>Photographs by Hilde Lotz-Bauer</b>: the collection of photographs by the German art historian and photographer Hilde Lotz-Bauer and all photos of the same subjects within the Photothek's archive.. A selection of the photograph were the object of the recent exhibition <a href=\"https://www.khi.fi.it/en/aktuelles/ausstellungen/20240117_hilde-in-italia.php\" target=\"_blank\">Hilde in Italia. Arte e vita nelle fotografie di Hilde Lotz-Bauer</a>, while the Digital Photothek of the Kunsthistorisches Institut features an <a href=\"https://photothek.khi.fi.it/documents/oau/00000195\" target=\"_blank\">online exhibition</a> of Lotz-Bauer's photographs.\n",
    "* <b>Candido Verri's photographs</b>: A photographic collection including photos of the photographer Verri, as well as all photos of the same artworks within the Photothek's archive.\n"
   ]
  },
  {
   "cell_type": "code",
   "execution_count": 4,
   "id": "b432558e",
   "metadata": {
    "scrolled": true
   },
   "outputs": [
    {
     "data": {
      "application/vnd.jupyter.widget-view+json": {
       "model_id": "570b4c0d633a436a82c32ca637b35a87",
       "version_major": 2,
       "version_minor": 0
      },
      "text/plain": [
       "Dropdown(description='Collection:', options=(('Choose a dataset', ''), ('Kornél Fabriczy (Paintings)', 'metada…"
      ]
     },
     "execution_count": 4,
     "metadata": {},
     "output_type": "execute_result"
    }
   ],
   "source": [
    "input_file_dropdown"
   ]
  },
  {
   "cell_type": "markdown",
   "id": "29345dd7-1d3d-4b03-99de-fcbccd669e9d",
   "metadata": {},
   "source": [
    "**Execute the following cell** by pressing `Shift + Enter` to decode your data and save the content in a text file. This file will be used for the next steps of the analysis."
   ]
  },
  {
   "cell_type": "code",
   "execution_count": 5,
   "id": "5bcbce67",
   "metadata": {
    "scrolled": true
   },
   "outputs": [
    {
     "name": "stdout",
     "output_type": "stream",
     "text": [
      "You can start exploring the test file!\n"
     ]
    }
   ],
   "source": [
    "try:\n",
    "    if upload.value and len(upload.value) > 0 and upload.value[0] is not None:\n",
    "        uploaded_file = upload.value[0]\n",
    "        codecs.decode(uploaded_file.content, encoding=\"windows-1252\")\n",
    "        with open(\"./saved-output.txt\", \"wb\") as fp:\n",
    "            fp.write(uploaded_file.content)\n",
    "        print('Your file has been uploaded successfully!')\n",
    "    elif input_file_dropdown.value != '':\n",
    "        with open(f\"{input_file_dropdown.value}\", \"rb\") as testfile:\n",
    "            uploaded_file = testfile.read()\n",
    "            codecs.decode(uploaded_file, encoding=\"windows-1252\")\n",
    "            with open(\"./saved-output.txt\", \"wb\") as fp:\n",
    "                fp.write(uploaded_file)\n",
    "        print('You can start exploring the test file!')\n",
    "    else:\n",
    "        print(\"Error: Please upload an XML file or choose a test file and try again.\")\n",
    "except IndexError:\n",
    "    print(\"Error: Please upload an XML file or choose a test file and try again.\")\n",
    "\n",
    "photos_collection = functions_for_KHI_data_extraction.get_dataframe(\"./saved-output.txt\")"
   ]
  },
  {
   "cell_type": "markdown",
   "id": "ba9a7440",
   "metadata": {},
   "source": [
    "### Dataset description"
   ]
  },
  {
   "cell_type": "markdown",
   "id": "eaaeeae1-99b1-4382-9967-4ff618366d74",
   "metadata": {},
   "source": [
    "Execute the cell below to view a brief <b>description of the dataset</b> you're going to explore.  Please note that loading this cell may take some time, depending on the file size."
   ]
  },
  {
   "cell_type": "code",
   "execution_count": 6,
   "id": "5ab7963a",
   "metadata": {},
   "outputs": [
    {
     "name": "stdout",
     "output_type": "stream",
     "text": [
      "About this dataset:\n",
      "Number of photos: 187\n",
      "Number of objects: 44\n"
     ]
    }
   ],
   "source": [
    "# Convert the text file into a dataframe.\n",
    "print(photos_collection.get_dataset_description())"
   ]
  },
  {
   "cell_type": "markdown",
   "id": "e27c798a",
   "metadata": {},
   "source": [
    "### Overview of your dataset"
   ]
  },
  {
   "cell_type": "markdown",
   "id": "b9d84712",
   "metadata": {},
   "source": [
    "Execute the following cell to get an overview of your dataset. The data will be presented within a <a href=\"#df\">**DataFrame**</a>, which is a structured way to organize and manipulate tabular data in computer programming and data analysis, particularly with large datasets. In this DataFrame:\n",
    "\n",
    "- Each **row** represents an individual entry or record in your dataset.\n",
    "- Each **column** represents a specific type of information, specified in the column name.\n",
    "\n",
    "DataFrames let you organize, explore, and manipulate data easily, allowing tasks such as **filtering**, **sorting**, and **summarizing data**. You can also perform statistical analysis, create visualizations, and prepare data for machine learning models using DataFrames in Python and other programming languages. \n",
    "\n"
   ]
  },
  {
   "cell_type": "code",
   "execution_count": null,
   "id": "bc6a1acc",
   "metadata": {},
   "outputs": [],
   "source": [
    "# The dataframe \"photos_dataframe\" also includes entries of the photographs' digital version. \n",
    "photos_dataframe = photos_collection.dataframe\n",
    "\n",
    "# The dataframe \"photos_dataframe_no_digital\" excludes entries of digital photos.\n",
    "# If you prefer not to include data about digital versions of photographs in your results,\n",
    "# this dataframe will provide more accurate outcomes for your analysis\n",
    "photos_dataframe_no_digital = photos_collection.dataframe_no_scan\n",
    "photos_dataframe_no_digital = photos_dataframe_no_digital.set_index('photo_id')\n",
    "\n",
    "# Display the first 100 rows of the dataset\n",
    "display(photos_dataframe_no_digital.head(100).style.set_sticky(axis=\"index\"))"
   ]
  },
  {
   "cell_type": "markdown",
   "id": "e8449149",
   "metadata": {},
   "source": [
    "<div class=\"alert alert-block alert-warning\">\n",
    "<p style=\"display:inline-block \"><img style=\"display:inline-block; height:22px\" src= 'resources/download2.png' alt='Download icon'> <b>Download Section</b></p>\n",
    "</div>"
   ]
  },
  {
   "cell_type": "markdown",
   "id": "b1e9a063",
   "metadata": {},
   "source": [
    "Notice that only the first 100 rows of the DataFrame are shown above. If you want to see the whole DataFrame or work with it outside of this notebook, you can <b>download your table as <a href='#csv'>CSV</a> file</b>\n",
    "\n",
    "- Run the cell below.\n",
    "- Click on the download button below. The download should start immediately."
   ]
  },
  {
   "cell_type": "code",
   "execution_count": 8,
   "id": "5b807f5f",
   "metadata": {},
   "outputs": [
    {
     "data": {
      "application/vnd.jupyter.widget-view+json": {
       "model_id": "12bbcb5f35054298a963b4fc5adb59df",
       "version_major": 2,
       "version_minor": 0
      },
      "text/plain": [
       "HTML(value='<html>\\n<head>\\n<meta name=\"viewport\" content=\"width=device-width, initial-scale=1\">\\n</head>\\n<bo…"
      ]
     },
     "metadata": {},
     "output_type": "display_data"
    }
   ],
   "source": [
    "try:\n",
    "    res_start = photos_dataframe_no_digital.to_csv()\n",
    "    #File\n",
    "    filename_start = 'photo_collection_data.csv'\n",
    "    b64_start = base64.b64encode(res_start.encode())\n",
    "    payload_start = b64_start.decode()\n",
    "except NameError:\n",
    "    print('Your file is empty. Check the previous cells and try again.')\n",
    "\n",
    "\n",
    "#Display download button\n",
    "try:\n",
    "    html_button = html_buttons.format(payload=payload_start,filename=filename_start)\n",
    "    display(HTML(html_button))\n",
    "except NameError:\n",
    "    print('')"
   ]
  },
  {
   "cell_type": "markdown",
   "id": "78e6e2fc",
   "metadata": {},
   "source": [
    "<div class=\"alert alert-block alert-info\">\n",
    "<b>Note:</b> You can change the file name by replacing the <a href='#string'>string</a> \"photos_data_table.csv\" within brackets.</br>You can explore the documentation on the pandas.DataFrame.to_csv() download method here: <a href=\"https://pandas.pydata.org/pandas-docs/stable/reference/api/pandas.DataFrame.to_csv.html\" target=\"_blank\">pandas.Dataframe.to_csv()</a> (official documentation).</div>"
   ]
  },
  {
   "cell_type": "markdown",
   "id": "c9bdae34",
   "metadata": {},
   "source": [
    "# Refining the Dataset: Applying  Filters <a id='refining'></a>\n",
    "***"
   ]
  },
  {
   "cell_type": "markdown",
   "id": "d22915b5-d526-44a8-a1ad-b04ff17ab20d",
   "metadata": {},
   "source": [
    "DataFrames are a powerful data structure that allow easy manipulation and filtering of data. In this section, you can filter the dataset by specifying a search text and the column in which you want to perform the search."
   ]
  },
  {
   "cell_type": "markdown",
   "id": "79ad1659",
   "metadata": {},
   "source": [
    "<div class=\"alert alert-block alert-info\">\n",
    "<b>Note:</b> The KHI dataset is typically in German, as German is the default language used for photo cataloguing within the KHI.\n",
    "</div>"
   ]
  },
  {
   "cell_type": "markdown",
   "id": "87fef4c3-bda8-4caa-96b9-5a486f702fe3",
   "metadata": {},
   "source": [
    "\n",
    "### Filter by any column"
   ]
  },
  {
   "cell_type": "markdown",
   "id": "cb34b7ed-0a31-47e3-ac55-30d23d75d955",
   "metadata": {},
   "source": [
    "* Execute the following cell to <b>display your filter tools</b>.</br>\n",
    "* Choose the column you want to filter from the dropdown menu and write your search text in the dedicated field:"
   ]
  },
  {
   "cell_type": "markdown",
   "id": "6ea93450",
   "metadata": {},
   "source": [
    "Keep in mind that this filtering feature offers flexible and advanced search options:\n",
    "* **Searching iconography**: To search the column **iconograpy** you can input an <a href=\"https://iconclass.org/en/_\" target=\"_blank\"><b>Iconclass</b></a> code or any word (like \"Madonna\", \"Jupiter\", etc.). The system can find the data you are looking for and will show the corresponding Iconclass codes (you can look up these on the Iconclass website). If you are using plain text as input, using **German words** can improve the chances of finding matching results.\n",
    "</br>\n",
    "</br>\n",
    "* **Filtering artists by alternative names**: The system can also find **artists by alternative names** that are not directly shown in the DataFrame but are included in the XML dataset of the Kunsthistorisches Institut. For instance, if you search for \"Filipepi, Alessandro\", the system will display matching results with the standard name of the artist \"Botticelli, Sandro\". Please note that you should **use the format \"Surname, Name\"** to increase the probability of matching results. You can also use single names or surnames, and the system will find all artists with the that value."
   ]
  },
  {
   "cell_type": "code",
   "execution_count": 17,
   "id": "3faefc8c-50e7-4dff-86a7-a7ce96a25471",
   "metadata": {
    "scrolled": true
   },
   "outputs": [
    {
     "data": {
      "application/vnd.jupyter.widget-view+json": {
       "model_id": "bb5e7f2109674291851a25424534f46b",
       "version_major": 2,
       "version_minor": 0
      },
      "text/plain": [
       "Dropdown(description='Column:', options=('obj_id', 'obj_id_level2', 'artist', 'other_artist_attribution', 'tit…"
      ]
     },
     "metadata": {},
     "output_type": "display_data"
    },
    {
     "data": {
      "application/vnd.jupyter.widget-view+json": {
       "model_id": "2301ad691d0c4c1f9d63b9f5a0651b89",
       "version_major": 2,
       "version_minor": 0
      },
      "text/plain": [
       "Text(value='', description='Search text:', placeholder='Type your text here')"
      ]
     },
     "metadata": {},
     "output_type": "display_data"
    }
   ],
   "source": [
    "filter_column_widget.options=[column for column in photos_collection.dataframe_no_scan.columns if column != 'date']\n",
    "filter_column_widget.value=photos_collection.dataframe_no_scan.columns[0]\n",
    "display(filter_column_widget)\n",
    "display(text_to_filter)"
   ]
  },
  {
   "cell_type": "markdown",
   "id": "bb66bcdc",
   "metadata": {},
   "source": [
    "Execute the following cell to **see the results**.</br>\n",
    "Notice that, **if you leave the search text box blank**, no filter will be applied and you will see an overview of the whole DataFrame."
   ]
  },
  {
   "cell_type": "code",
   "execution_count": 18,
   "id": "f02af7d4-b75e-4071-a452-be8fa038a891",
   "metadata": {
    "scrolled": true
   },
   "outputs": [
    {
     "data": {
      "text/html": [
       "<div>\n",
       "<style scoped>\n",
       "    .dataframe tbody tr th:only-of-type {\n",
       "        vertical-align: middle;\n",
       "    }\n",
       "\n",
       "    .dataframe tbody tr th {\n",
       "        vertical-align: top;\n",
       "    }\n",
       "\n",
       "    .dataframe thead th {\n",
       "        text-align: right;\n",
       "    }\n",
       "</style>\n",
       "<table border=\"1\" class=\"dataframe\">\n",
       "  <thead>\n",
       "    <tr style=\"text-align: right;\">\n",
       "      <th></th>\n",
       "      <th>obj_id</th>\n",
       "      <th>obj_id_level2</th>\n",
       "      <th>artist</th>\n",
       "      <th>other_artist_attribution</th>\n",
       "      <th>date</th>\n",
       "      <th>title</th>\n",
       "      <th>description_khi</th>\n",
       "      <th>status</th>\n",
       "      <th>genre</th>\n",
       "      <th>type_description</th>\n",
       "      <th>...</th>\n",
       "      <th>photo_file_format</th>\n",
       "      <th>photo_equipment</th>\n",
       "      <th>photo_dimension</th>\n",
       "      <th>photo_subject</th>\n",
       "      <th>photo_comment</th>\n",
       "      <th>photo_file_number</th>\n",
       "      <th>photo_availability</th>\n",
       "      <th>photo_credit_line</th>\n",
       "      <th>photo_old_archival_section</th>\n",
       "      <th>photo_preservation_status</th>\n",
       "    </tr>\n",
       "  </thead>\n",
       "  <tbody>\n",
       "    <tr>\n",
       "      <th>0</th>\n",
       "      <td>07580354</td>\n",
       "      <td>None</td>\n",
       "      <td>[Piccolpasso, Cipriano]</td>\n",
       "      <td>None</td>\n",
       "      <td>None</td>\n",
       "      <td>Plan der Fortezza Paolina in Perugia</td>\n",
       "      <td>None</td>\n",
       "      <td>None</td>\n",
       "      <td>Zeichenkunst</td>\n",
       "      <td>None</td>\n",
       "      <td>...</td>\n",
       "      <td>None</td>\n",
       "      <td>None</td>\n",
       "      <td>[24 x 15,9 cm (Foto)]</td>\n",
       "      <td>Gesamtansicht</td>\n",
       "      <td>Signatur zuvor: Arch. Festg. &amp; Signatur zuvor:...</td>\n",
       "      <td>jouve_KHI-Test3354</td>\n",
       "      <td>gesperrt</td>\n",
       "      <td>None</td>\n",
       "      <td>None</td>\n",
       "      <td>None</td>\n",
       "    </tr>\n",
       "    <tr>\n",
       "      <th>1</th>\n",
       "      <td>07580354</td>\n",
       "      <td>None</td>\n",
       "      <td>[Piccolpasso, Cipriano]</td>\n",
       "      <td>None</td>\n",
       "      <td>None</td>\n",
       "      <td>Plan der Fortezza Paolina in Perugia</td>\n",
       "      <td>None</td>\n",
       "      <td>None</td>\n",
       "      <td>Zeichenkunst</td>\n",
       "      <td>None</td>\n",
       "      <td>...</td>\n",
       "      <td>None</td>\n",
       "      <td>None</td>\n",
       "      <td>[23,9 x 16,1 cm (Foto)]</td>\n",
       "      <td>Gesamtansicht</td>\n",
       "      <td>None</td>\n",
       "      <td>None</td>\n",
       "      <td>None</td>\n",
       "      <td>None</td>\n",
       "      <td>None</td>\n",
       "      <td>None</td>\n",
       "    </tr>\n",
       "    <tr>\n",
       "      <th>2</th>\n",
       "      <td>70005169</td>\n",
       "      <td>None</td>\n",
       "      <td>None</td>\n",
       "      <td>None</td>\n",
       "      <td>[Datierung: 1401/1600]</td>\n",
       "      <td>Teile zweier Hochzeitstruhen</td>\n",
       "      <td>Cassone</td>\n",
       "      <td>Fragment</td>\n",
       "      <td>Angewandte Kunst</td>\n",
       "      <td>None</td>\n",
       "      <td>...</td>\n",
       "      <td>tif</td>\n",
       "      <td>Digitalkamera</td>\n",
       "      <td>None</td>\n",
       "      <td>Gesamtansicht</td>\n",
       "      <td>P001924_RS1244_co_GUBBIO_Pinakoteca</td>\n",
       "      <td>fle0011762x_p</td>\n",
       "      <td>None</td>\n",
       "      <td>Kunsthistorisches Institut in Florenz – Max-Pl...</td>\n",
       "      <td>None</td>\n",
       "      <td>None</td>\n",
       "    </tr>\n",
       "    <tr>\n",
       "      <th>3</th>\n",
       "      <td>70005169</td>\n",
       "      <td>None</td>\n",
       "      <td>None</td>\n",
       "      <td>None</td>\n",
       "      <td>[Datierung: 1401/1600]</td>\n",
       "      <td>Teile zweier Hochzeitstruhen</td>\n",
       "      <td>Cassone</td>\n",
       "      <td>Fragment</td>\n",
       "      <td>Angewandte Kunst</td>\n",
       "      <td>None</td>\n",
       "      <td>...</td>\n",
       "      <td>None</td>\n",
       "      <td>None</td>\n",
       "      <td>[11,8 x 16,9 cm (Foto)]</td>\n",
       "      <td>Gesamtansicht der Decke</td>\n",
       "      <td>None</td>\n",
       "      <td>None</td>\n",
       "      <td>None</td>\n",
       "      <td>None</td>\n",
       "      <td>None</td>\n",
       "      <td>None</td>\n",
       "    </tr>\n",
       "    <tr>\n",
       "      <th>4</th>\n",
       "      <td>07580895</td>\n",
       "      <td>None</td>\n",
       "      <td>[Allegretto Nuzi]</td>\n",
       "      <td>None</td>\n",
       "      <td>[Datierung: um 1371/1373]</td>\n",
       "      <td>Die Heiligen Nikolaus von Tolentino, Augustinu...</td>\n",
       "      <td>None</td>\n",
       "      <td>None</td>\n",
       "      <td>Tafelmalerei</td>\n",
       "      <td>None</td>\n",
       "      <td>...</td>\n",
       "      <td>tif</td>\n",
       "      <td>None</td>\n",
       "      <td>None</td>\n",
       "      <td>Gesamtansicht</td>\n",
       "      <td>None</td>\n",
       "      <td>fle0009144x_p</td>\n",
       "      <td>None</td>\n",
       "      <td>Kunsthistorisches Institut in Florenz – Max-Pl...</td>\n",
       "      <td>None</td>\n",
       "      <td>None</td>\n",
       "    </tr>\n",
       "    <tr>\n",
       "      <th>...</th>\n",
       "      <td>...</td>\n",
       "      <td>...</td>\n",
       "      <td>...</td>\n",
       "      <td>...</td>\n",
       "      <td>...</td>\n",
       "      <td>...</td>\n",
       "      <td>...</td>\n",
       "      <td>...</td>\n",
       "      <td>...</td>\n",
       "      <td>...</td>\n",
       "      <td>...</td>\n",
       "      <td>...</td>\n",
       "      <td>...</td>\n",
       "      <td>...</td>\n",
       "      <td>...</td>\n",
       "      <td>...</td>\n",
       "      <td>...</td>\n",
       "      <td>...</td>\n",
       "      <td>...</td>\n",
       "      <td>...</td>\n",
       "      <td>...</td>\n",
       "    </tr>\n",
       "    <tr>\n",
       "      <th>182</th>\n",
       "      <td>07650338</td>\n",
       "      <td>None</td>\n",
       "      <td>[Piero di Cosimo]</td>\n",
       "      <td>None</td>\n",
       "      <td>None</td>\n",
       "      <td>Beweinung Christi</td>\n",
       "      <td>None</td>\n",
       "      <td>None</td>\n",
       "      <td>Tafelmalerei</td>\n",
       "      <td>None</td>\n",
       "      <td>...</td>\n",
       "      <td>tif</td>\n",
       "      <td>Scanner Imacon Flextight 848</td>\n",
       "      <td>[6x9]</td>\n",
       "      <td>Gesamtansicht</td>\n",
       "      <td>None</td>\n",
       "      <td>fln0451144z_p</td>\n",
       "      <td>None</td>\n",
       "      <td>Kunsthistorisches Institut in Florenz – Max-Pl...</td>\n",
       "      <td>None</td>\n",
       "      <td>None</td>\n",
       "    </tr>\n",
       "    <tr>\n",
       "      <th>183</th>\n",
       "      <td>07650338</td>\n",
       "      <td>None</td>\n",
       "      <td>[Piero di Cosimo]</td>\n",
       "      <td>None</td>\n",
       "      <td>None</td>\n",
       "      <td>Beweinung Christi</td>\n",
       "      <td>None</td>\n",
       "      <td>None</td>\n",
       "      <td>Tafelmalerei</td>\n",
       "      <td>None</td>\n",
       "      <td>...</td>\n",
       "      <td>None</td>\n",
       "      <td>None</td>\n",
       "      <td>None</td>\n",
       "      <td>Gesamtansicht</td>\n",
       "      <td>None</td>\n",
       "      <td>None</td>\n",
       "      <td>None</td>\n",
       "      <td>None</td>\n",
       "      <td>None</td>\n",
       "      <td>None</td>\n",
       "    </tr>\n",
       "    <tr>\n",
       "      <th>184</th>\n",
       "      <td>07650338</td>\n",
       "      <td>None</td>\n",
       "      <td>[Piero di Cosimo]</td>\n",
       "      <td>None</td>\n",
       "      <td>None</td>\n",
       "      <td>Beweinung Christi</td>\n",
       "      <td>None</td>\n",
       "      <td>None</td>\n",
       "      <td>Tafelmalerei</td>\n",
       "      <td>None</td>\n",
       "      <td>...</td>\n",
       "      <td>None</td>\n",
       "      <td>None</td>\n",
       "      <td>[17,3 x 23,4 cm (Foto), 31,6 x 24,4 cm (Karton)]</td>\n",
       "      <td>Ausschnitt</td>\n",
       "      <td>None</td>\n",
       "      <td>None</td>\n",
       "      <td>None</td>\n",
       "      <td>None</td>\n",
       "      <td>None</td>\n",
       "      <td>None</td>\n",
       "    </tr>\n",
       "    <tr>\n",
       "      <th>185</th>\n",
       "      <td>70014939</td>\n",
       "      <td>None</td>\n",
       "      <td>[Pintoricchio, Bernardino]</td>\n",
       "      <td>None</td>\n",
       "      <td>None</td>\n",
       "      <td>Maria mit Kind</td>\n",
       "      <td>None</td>\n",
       "      <td>unvollendet</td>\n",
       "      <td>Tafelmalerei</td>\n",
       "      <td>None</td>\n",
       "      <td>...</td>\n",
       "      <td>None</td>\n",
       "      <td>None</td>\n",
       "      <td>None</td>\n",
       "      <td>Gesamtansicht</td>\n",
       "      <td>None</td>\n",
       "      <td>None</td>\n",
       "      <td>None</td>\n",
       "      <td>None</td>\n",
       "      <td>None</td>\n",
       "      <td>None</td>\n",
       "    </tr>\n",
       "    <tr>\n",
       "      <th>186</th>\n",
       "      <td>70014939</td>\n",
       "      <td>None</td>\n",
       "      <td>[Pintoricchio, Bernardino]</td>\n",
       "      <td>None</td>\n",
       "      <td>None</td>\n",
       "      <td>Maria mit Kind</td>\n",
       "      <td>None</td>\n",
       "      <td>unvollendet</td>\n",
       "      <td>Tafelmalerei</td>\n",
       "      <td>None</td>\n",
       "      <td>...</td>\n",
       "      <td>None</td>\n",
       "      <td>None</td>\n",
       "      <td>[23,4 x 17,3 cm (Foto), 31,4 x 23,9 cm (Karton)]</td>\n",
       "      <td>Gesamtansicht</td>\n",
       "      <td>None</td>\n",
       "      <td>None</td>\n",
       "      <td>None</td>\n",
       "      <td>None</td>\n",
       "      <td>None</td>\n",
       "      <td>None</td>\n",
       "    </tr>\n",
       "  </tbody>\n",
       "</table>\n",
       "<p>187 rows × 53 columns</p>\n",
       "</div>"
      ],
      "text/plain": [
       "       obj_id obj_id_level2                      artist  \\\n",
       "0    07580354          None     [Piccolpasso, Cipriano]   \n",
       "1    07580354          None     [Piccolpasso, Cipriano]   \n",
       "2    70005169          None                        None   \n",
       "3    70005169          None                        None   \n",
       "4    07580895          None           [Allegretto Nuzi]   \n",
       "..        ...           ...                         ...   \n",
       "182  07650338          None           [Piero di Cosimo]   \n",
       "183  07650338          None           [Piero di Cosimo]   \n",
       "184  07650338          None           [Piero di Cosimo]   \n",
       "185  70014939          None  [Pintoricchio, Bernardino]   \n",
       "186  70014939          None  [Pintoricchio, Bernardino]   \n",
       "\n",
       "    other_artist_attribution                       date  \\\n",
       "0                       None                       None   \n",
       "1                       None                       None   \n",
       "2                       None     [Datierung: 1401/1600]   \n",
       "3                       None     [Datierung: 1401/1600]   \n",
       "4                       None  [Datierung: um 1371/1373]   \n",
       "..                       ...                        ...   \n",
       "182                     None                       None   \n",
       "183                     None                       None   \n",
       "184                     None                       None   \n",
       "185                     None                       None   \n",
       "186                     None                       None   \n",
       "\n",
       "                                                 title description_khi  \\\n",
       "0                 Plan der Fortezza Paolina in Perugia            None   \n",
       "1                 Plan der Fortezza Paolina in Perugia            None   \n",
       "2                         Teile zweier Hochzeitstruhen         Cassone   \n",
       "3                         Teile zweier Hochzeitstruhen         Cassone   \n",
       "4    Die Heiligen Nikolaus von Tolentino, Augustinu...            None   \n",
       "..                                                 ...             ...   \n",
       "182                                  Beweinung Christi            None   \n",
       "183                                  Beweinung Christi            None   \n",
       "184                                  Beweinung Christi            None   \n",
       "185                                     Maria mit Kind            None   \n",
       "186                                     Maria mit Kind            None   \n",
       "\n",
       "          status             genre type_description  ... photo_file_format  \\\n",
       "0           None      Zeichenkunst             None  ...              None   \n",
       "1           None      Zeichenkunst             None  ...              None   \n",
       "2       Fragment  Angewandte Kunst             None  ...               tif   \n",
       "3       Fragment  Angewandte Kunst             None  ...              None   \n",
       "4           None      Tafelmalerei             None  ...               tif   \n",
       "..           ...               ...              ...  ...               ...   \n",
       "182         None      Tafelmalerei             None  ...               tif   \n",
       "183         None      Tafelmalerei             None  ...              None   \n",
       "184         None      Tafelmalerei             None  ...              None   \n",
       "185  unvollendet      Tafelmalerei             None  ...              None   \n",
       "186  unvollendet      Tafelmalerei             None  ...              None   \n",
       "\n",
       "                  photo_equipment  \\\n",
       "0                            None   \n",
       "1                            None   \n",
       "2                   Digitalkamera   \n",
       "3                            None   \n",
       "4                            None   \n",
       "..                            ...   \n",
       "182  Scanner Imacon Flextight 848   \n",
       "183                          None   \n",
       "184                          None   \n",
       "185                          None   \n",
       "186                          None   \n",
       "\n",
       "                                      photo_dimension  \\\n",
       "0                               [24 x 15,9 cm (Foto)]   \n",
       "1                             [23,9 x 16,1 cm (Foto)]   \n",
       "2                                                None   \n",
       "3                             [11,8 x 16,9 cm (Foto)]   \n",
       "4                                                None   \n",
       "..                                                ...   \n",
       "182                                             [6x9]   \n",
       "183                                              None   \n",
       "184  [17,3 x 23,4 cm (Foto), 31,6 x 24,4 cm (Karton)]   \n",
       "185                                              None   \n",
       "186  [23,4 x 17,3 cm (Foto), 31,4 x 23,9 cm (Karton)]   \n",
       "\n",
       "               photo_subject  \\\n",
       "0              Gesamtansicht   \n",
       "1              Gesamtansicht   \n",
       "2              Gesamtansicht   \n",
       "3    Gesamtansicht der Decke   \n",
       "4              Gesamtansicht   \n",
       "..                       ...   \n",
       "182            Gesamtansicht   \n",
       "183            Gesamtansicht   \n",
       "184               Ausschnitt   \n",
       "185            Gesamtansicht   \n",
       "186            Gesamtansicht   \n",
       "\n",
       "                                         photo_comment   photo_file_number  \\\n",
       "0    Signatur zuvor: Arch. Festg. & Signatur zuvor:...  jouve_KHI-Test3354   \n",
       "1                                                 None                None   \n",
       "2                  P001924_RS1244_co_GUBBIO_Pinakoteca       fle0011762x_p   \n",
       "3                                                 None                None   \n",
       "4                                                 None       fle0009144x_p   \n",
       "..                                                 ...                 ...   \n",
       "182                                               None       fln0451144z_p   \n",
       "183                                               None                None   \n",
       "184                                               None                None   \n",
       "185                                               None                None   \n",
       "186                                               None                None   \n",
       "\n",
       "    photo_availability                                  photo_credit_line  \\\n",
       "0             gesperrt                                               None   \n",
       "1                 None                                               None   \n",
       "2                 None  Kunsthistorisches Institut in Florenz – Max-Pl...   \n",
       "3                 None                                               None   \n",
       "4                 None  Kunsthistorisches Institut in Florenz – Max-Pl...   \n",
       "..                 ...                                                ...   \n",
       "182               None  Kunsthistorisches Institut in Florenz – Max-Pl...   \n",
       "183               None                                               None   \n",
       "184               None                                               None   \n",
       "185               None                                               None   \n",
       "186               None                                               None   \n",
       "\n",
       "    photo_old_archival_section photo_preservation_status  \n",
       "0                         None                      None  \n",
       "1                         None                      None  \n",
       "2                         None                      None  \n",
       "3                         None                      None  \n",
       "4                         None                      None  \n",
       "..                         ...                       ...  \n",
       "182                       None                      None  \n",
       "183                       None                      None  \n",
       "184                       None                      None  \n",
       "185                       None                      None  \n",
       "186                       None                      None  \n",
       "\n",
       "[187 rows x 53 columns]"
      ]
     },
     "execution_count": 18,
     "metadata": {},
     "output_type": "execute_result"
    }
   ],
   "source": [
    "filter_by_column = photos_collection.filter_by(filter_column_widget.value, text_to_filter.value)\n",
    "filter_by_column"
   ]
  },
  {
   "cell_type": "markdown",
   "id": "90d09dd3",
   "metadata": {},
   "source": [
    "<div class=\"alert alert-block alert-info\">\n",
    "    <b>Note:</b> When you filter data in a DataFrame, the numbers that label each row (indices) might not stay in order. This happens if some rows are left out when you filter the data. But don't worry! Even if the numbers aren't in order, you can still look at and work with the filtered data just fine. Each row still has all the same information it had before, so you can use it for whatever you need, like analyzing or comparing different pieces of data.</div>"
   ]
  },
  {
   "cell_type": "markdown",
   "id": "41d5e98a",
   "metadata": {},
   "source": [
    "<div class=\"alert alert-block alert-warning\">\n",
    "<p style=\"display:inline-block \"><img style=\"display:inline-block; height:22px\" src= 'resources/download2.png' alt='Download icon'> <b>Download Section</b></p>\n",
    "</div>"
   ]
  },
  {
   "cell_type": "markdown",
   "id": "b488993c",
   "metadata": {},
   "source": [
    "Follow the instructions to <b>download your DataFrame as CSV file:</b>\n",
    "\n",
    "- Run the cell below.\n",
    "- Click on the download button below. The download should start immediately."
   ]
  },
  {
   "cell_type": "code",
   "execution_count": 19,
   "id": "f5ebd2eb",
   "metadata": {},
   "outputs": [
    {
     "data": {
      "application/vnd.jupyter.widget-view+json": {
       "model_id": "7f8c12926bbe499ab4eda28e78f911c1",
       "version_major": 2,
       "version_minor": 0
      },
      "text/plain": [
       "HTML(value='<html>\\n<head>\\n<meta name=\"viewport\" content=\"width=device-width, initial-scale=1\">\\n</head>\\n<bo…"
      ]
     },
     "metadata": {},
     "output_type": "display_data"
    }
   ],
   "source": [
    "try:\n",
    "    res_filter = filter_by_column.to_csv()    \n",
    "    #File\n",
    "    filename_filter = 'table_filtered_by_column.csv'\n",
    "    b64_filter = base64.b64encode(res_filter.encode())\n",
    "    payload_filter = b64_filter.decode()\n",
    "except NameError:\n",
    "    print('Your file is empty. Check the previous cells and try again.')\n",
    "\n",
    "\n",
    "#Display download button\n",
    "try:\n",
    "    html_button = html_buttons.format(payload=payload_filter,filename=filename_filter)\n",
    "    display(HTML(html_button))\n",
    "except NameError:\n",
    "    print('')"
   ]
  },
  {
   "cell_type": "markdown",
   "id": "7cbf12c4-1622-43c8-be60-06c467e4c27e",
   "metadata": {},
   "source": [
    "### Filter by year range"
   ]
  },
  {
   "cell_type": "markdown",
   "id": "d9cd52d2",
   "metadata": {},
   "source": [
    "In this section, you can filter photographs based on a **year range** to find photos with artwork year, archival year, or photo production year within that range."
   ]
  },
  {
   "cell_type": "markdown",
   "id": "257aef54",
   "metadata": {},
   "source": [
    "- Run the following cell to see the filtering tools.\n",
    "- Use the tools to enter two years to specify the range of years you want to filter and the column to filter."
   ]
  },
  {
   "cell_type": "code",
   "execution_count": 20,
   "id": "5ab74c8b",
   "metadata": {
    "scrolled": true
   },
   "outputs": [
    {
     "data": {
      "application/vnd.jupyter.widget-view+json": {
       "model_id": "1a9501a679124b699eb72411739b4dac",
       "version_major": 2,
       "version_minor": 0
      },
      "text/plain": [
       "Text(value='', description='Year:', placeholder='Type a start year')"
      ]
     },
     "metadata": {},
     "output_type": "display_data"
    },
    {
     "data": {
      "application/vnd.jupyter.widget-view+json": {
       "model_id": "529d07e5a04f4de59d9b48262e2e40df",
       "version_major": 2,
       "version_minor": 0
      },
      "text/plain": [
       "Text(value='', description='Year 2:', placeholder='Type a end year')"
      ]
     },
     "metadata": {},
     "output_type": "display_data"
    },
    {
     "data": {
      "application/vnd.jupyter.widget-view+json": {
       "model_id": "a70591617ba545788224cf41f20f7375",
       "version_major": 2,
       "version_minor": 0
      },
      "text/plain": [
       "Dropdown(description='Column:', options=('date', 'photo_entry_archival_date', 'photo_date'), value='date')"
      ]
     },
     "metadata": {},
     "output_type": "display_data"
    }
   ],
   "source": [
    "filter_date_column_widget.options=[column for column in photos_collection.dataframe_no_scan.columns \n",
    "                                   if column in DATE_KEY_LIST or column == 'date']\n",
    "display(text_date_to_filter, text_date_to_filter_2, filter_date_column_widget)"
   ]
  },
  {
   "cell_type": "markdown",
   "id": "be1a2ca8",
   "metadata": {},
   "source": [
    "Execute the following cell to see the result:"
   ]
  },
  {
   "cell_type": "code",
   "execution_count": 24,
   "id": "4fde23ef",
   "metadata": {
    "scrolled": true
   },
   "outputs": [
    {
     "data": {
      "text/html": [
       "<div>\n",
       "<style scoped>\n",
       "    .dataframe tbody tr th:only-of-type {\n",
       "        vertical-align: middle;\n",
       "    }\n",
       "\n",
       "    .dataframe tbody tr th {\n",
       "        vertical-align: top;\n",
       "    }\n",
       "\n",
       "    .dataframe thead th {\n",
       "        text-align: right;\n",
       "    }\n",
       "</style>\n",
       "<table border=\"1\" class=\"dataframe\">\n",
       "  <thead>\n",
       "    <tr style=\"text-align: right;\">\n",
       "      <th></th>\n",
       "      <th>obj_id</th>\n",
       "      <th>obj_id_level2</th>\n",
       "      <th>artist</th>\n",
       "      <th>other_artist_attribution</th>\n",
       "      <th>date</th>\n",
       "      <th>title</th>\n",
       "      <th>description_khi</th>\n",
       "      <th>status</th>\n",
       "      <th>genre</th>\n",
       "      <th>type_description</th>\n",
       "      <th>...</th>\n",
       "      <th>photo_file_format</th>\n",
       "      <th>photo_equipment</th>\n",
       "      <th>photo_dimension</th>\n",
       "      <th>photo_subject</th>\n",
       "      <th>photo_comment</th>\n",
       "      <th>photo_file_number</th>\n",
       "      <th>photo_availability</th>\n",
       "      <th>photo_credit_line</th>\n",
       "      <th>photo_old_archival_section</th>\n",
       "      <th>photo_preservation_status</th>\n",
       "    </tr>\n",
       "  </thead>\n",
       "  <tbody>\n",
       "    <tr>\n",
       "      <th>0</th>\n",
       "      <td>70005169</td>\n",
       "      <td>None</td>\n",
       "      <td>None</td>\n",
       "      <td>None</td>\n",
       "      <td>[Datierung: 1401/1600]</td>\n",
       "      <td>Teile zweier Hochzeitstruhen</td>\n",
       "      <td>Cassone</td>\n",
       "      <td>Fragment</td>\n",
       "      <td>Angewandte Kunst</td>\n",
       "      <td>None</td>\n",
       "      <td>...</td>\n",
       "      <td>tif</td>\n",
       "      <td>Digitalkamera</td>\n",
       "      <td>None</td>\n",
       "      <td>Gesamtansicht</td>\n",
       "      <td>P001924_RS1244_co_GUBBIO_Pinakoteca</td>\n",
       "      <td>fle0011762x_p</td>\n",
       "      <td>None</td>\n",
       "      <td>Kunsthistorisches Institut in Florenz – Max-Pl...</td>\n",
       "      <td>None</td>\n",
       "      <td>None</td>\n",
       "    </tr>\n",
       "    <tr>\n",
       "      <th>1</th>\n",
       "      <td>70005169</td>\n",
       "      <td>None</td>\n",
       "      <td>None</td>\n",
       "      <td>None</td>\n",
       "      <td>[Datierung: 1401/1600]</td>\n",
       "      <td>Teile zweier Hochzeitstruhen</td>\n",
       "      <td>Cassone</td>\n",
       "      <td>Fragment</td>\n",
       "      <td>Angewandte Kunst</td>\n",
       "      <td>None</td>\n",
       "      <td>...</td>\n",
       "      <td>None</td>\n",
       "      <td>None</td>\n",
       "      <td>[11,8 x 16,9 cm (Foto)]</td>\n",
       "      <td>Gesamtansicht der Decke</td>\n",
       "      <td>None</td>\n",
       "      <td>None</td>\n",
       "      <td>None</td>\n",
       "      <td>None</td>\n",
       "      <td>None</td>\n",
       "      <td>None</td>\n",
       "    </tr>\n",
       "    <tr>\n",
       "      <th>2</th>\n",
       "      <td>07580895</td>\n",
       "      <td>None</td>\n",
       "      <td>[Allegretto Nuzi]</td>\n",
       "      <td>None</td>\n",
       "      <td>[Datierung: um 1371/1373]</td>\n",
       "      <td>Die Heiligen Nikolaus von Tolentino, Augustinu...</td>\n",
       "      <td>None</td>\n",
       "      <td>None</td>\n",
       "      <td>Tafelmalerei</td>\n",
       "      <td>None</td>\n",
       "      <td>...</td>\n",
       "      <td>tif</td>\n",
       "      <td>None</td>\n",
       "      <td>None</td>\n",
       "      <td>Gesamtansicht</td>\n",
       "      <td>None</td>\n",
       "      <td>fle0009144x_p</td>\n",
       "      <td>None</td>\n",
       "      <td>Kunsthistorisches Institut in Florenz – Max-Pl...</td>\n",
       "      <td>None</td>\n",
       "      <td>None</td>\n",
       "    </tr>\n",
       "    <tr>\n",
       "      <th>3</th>\n",
       "      <td>07580895</td>\n",
       "      <td>None</td>\n",
       "      <td>[Allegretto Nuzi]</td>\n",
       "      <td>None</td>\n",
       "      <td>[Datierung: um 1371/1373]</td>\n",
       "      <td>Die Heiligen Nikolaus von Tolentino, Augustinu...</td>\n",
       "      <td>None</td>\n",
       "      <td>None</td>\n",
       "      <td>Tafelmalerei</td>\n",
       "      <td>None</td>\n",
       "      <td>...</td>\n",
       "      <td>None</td>\n",
       "      <td>None</td>\n",
       "      <td>None</td>\n",
       "      <td>Gesamtansicht</td>\n",
       "      <td>None</td>\n",
       "      <td>None</td>\n",
       "      <td>None</td>\n",
       "      <td>None</td>\n",
       "      <td>None</td>\n",
       "      <td>None</td>\n",
       "    </tr>\n",
       "    <tr>\n",
       "      <th>4</th>\n",
       "      <td>07580895</td>\n",
       "      <td>None</td>\n",
       "      <td>[Allegretto Nuzi]</td>\n",
       "      <td>None</td>\n",
       "      <td>[Datierung: um 1371/1373]</td>\n",
       "      <td>Die Heiligen Nikolaus von Tolentino, Augustinu...</td>\n",
       "      <td>None</td>\n",
       "      <td>None</td>\n",
       "      <td>Tafelmalerei</td>\n",
       "      <td>None</td>\n",
       "      <td>...</td>\n",
       "      <td>None</td>\n",
       "      <td>None</td>\n",
       "      <td>[22,1 x 28,8 cm (Foto)]</td>\n",
       "      <td>Gesamtansicht</td>\n",
       "      <td>None</td>\n",
       "      <td>None</td>\n",
       "      <td>None</td>\n",
       "      <td>None</td>\n",
       "      <td>None</td>\n",
       "      <td>None</td>\n",
       "    </tr>\n",
       "    <tr>\n",
       "      <th>...</th>\n",
       "      <td>...</td>\n",
       "      <td>...</td>\n",
       "      <td>...</td>\n",
       "      <td>...</td>\n",
       "      <td>...</td>\n",
       "      <td>...</td>\n",
       "      <td>...</td>\n",
       "      <td>...</td>\n",
       "      <td>...</td>\n",
       "      <td>...</td>\n",
       "      <td>...</td>\n",
       "      <td>...</td>\n",
       "      <td>...</td>\n",
       "      <td>...</td>\n",
       "      <td>...</td>\n",
       "      <td>...</td>\n",
       "      <td>...</td>\n",
       "      <td>...</td>\n",
       "      <td>...</td>\n",
       "      <td>...</td>\n",
       "      <td>...</td>\n",
       "    </tr>\n",
       "    <tr>\n",
       "      <th>131</th>\n",
       "      <td>07651668</td>\n",
       "      <td>None</td>\n",
       "      <td>[Niccolò di Liberatore di Giacomo di Mariano]</td>\n",
       "      <td>None</td>\n",
       "      <td>[Datierung: 1482]</td>\n",
       "      <td>Madonna mit Kind und den Heiligen Johannes der...</td>\n",
       "      <td>None</td>\n",
       "      <td>None</td>\n",
       "      <td>Malerei</td>\n",
       "      <td>None</td>\n",
       "      <td>...</td>\n",
       "      <td>None</td>\n",
       "      <td>None</td>\n",
       "      <td>None</td>\n",
       "      <td>Detail: Heiliger Sebastian</td>\n",
       "      <td>None</td>\n",
       "      <td>None</td>\n",
       "      <td>None</td>\n",
       "      <td>None</td>\n",
       "      <td>None</td>\n",
       "      <td>None</td>\n",
       "    </tr>\n",
       "    <tr>\n",
       "      <th>132</th>\n",
       "      <td>07651668</td>\n",
       "      <td>None</td>\n",
       "      <td>[Niccolò di Liberatore di Giacomo di Mariano]</td>\n",
       "      <td>None</td>\n",
       "      <td>[Datierung: 1482]</td>\n",
       "      <td>Madonna mit Kind und den Heiligen Johannes der...</td>\n",
       "      <td>None</td>\n",
       "      <td>None</td>\n",
       "      <td>Malerei</td>\n",
       "      <td>None</td>\n",
       "      <td>...</td>\n",
       "      <td>None</td>\n",
       "      <td>None</td>\n",
       "      <td>[17,2 x 12 cm (Foto)]</td>\n",
       "      <td>Detail: Madonna mit Kind</td>\n",
       "      <td>None</td>\n",
       "      <td>None</td>\n",
       "      <td>None</td>\n",
       "      <td>None</td>\n",
       "      <td>None</td>\n",
       "      <td>Ausbleichen</td>\n",
       "    </tr>\n",
       "    <tr>\n",
       "      <th>133</th>\n",
       "      <td>07651668</td>\n",
       "      <td>None</td>\n",
       "      <td>[Niccolò di Liberatore di Giacomo di Mariano]</td>\n",
       "      <td>None</td>\n",
       "      <td>[Datierung: 1482]</td>\n",
       "      <td>Madonna mit Kind und den Heiligen Johannes der...</td>\n",
       "      <td>None</td>\n",
       "      <td>None</td>\n",
       "      <td>Malerei</td>\n",
       "      <td>None</td>\n",
       "      <td>...</td>\n",
       "      <td>None</td>\n",
       "      <td>None</td>\n",
       "      <td>[17,3 x 12,2 cm (Foto)]</td>\n",
       "      <td>Detail: Jesuskind</td>\n",
       "      <td>None</td>\n",
       "      <td>None</td>\n",
       "      <td>None</td>\n",
       "      <td>None</td>\n",
       "      <td>None</td>\n",
       "      <td>None</td>\n",
       "    </tr>\n",
       "    <tr>\n",
       "      <th>134</th>\n",
       "      <td>70014753</td>\n",
       "      <td>None</td>\n",
       "      <td>None</td>\n",
       "      <td>None</td>\n",
       "      <td>[Datierung: 1401/1500]</td>\n",
       "      <td>Dekorierter Vase</td>\n",
       "      <td>None</td>\n",
       "      <td>None</td>\n",
       "      <td>Angewandte Kunst</td>\n",
       "      <td>None</td>\n",
       "      <td>...</td>\n",
       "      <td>None</td>\n",
       "      <td>None</td>\n",
       "      <td>[12,9 x 14 cm (Foto)]</td>\n",
       "      <td>Gesamtansicht</td>\n",
       "      <td>None</td>\n",
       "      <td>None</td>\n",
       "      <td>None</td>\n",
       "      <td>None</td>\n",
       "      <td>None</td>\n",
       "      <td>Klebstoffe</td>\n",
       "    </tr>\n",
       "    <tr>\n",
       "      <th>135</th>\n",
       "      <td>70014329</td>\n",
       "      <td>None</td>\n",
       "      <td>None</td>\n",
       "      <td>None</td>\n",
       "      <td>[Datierung: 1450/1500]</td>\n",
       "      <td>Madonna mit Engeln</td>\n",
       "      <td>None</td>\n",
       "      <td>beschädigt</td>\n",
       "      <td>Malerei</td>\n",
       "      <td>None</td>\n",
       "      <td>...</td>\n",
       "      <td>None</td>\n",
       "      <td>None</td>\n",
       "      <td>[16,5 x 11,6 cm (Foto)]</td>\n",
       "      <td>Gesamtansicht</td>\n",
       "      <td>None</td>\n",
       "      <td>None</td>\n",
       "      <td>None</td>\n",
       "      <td>None</td>\n",
       "      <td>None</td>\n",
       "      <td>None</td>\n",
       "    </tr>\n",
       "  </tbody>\n",
       "</table>\n",
       "<p>131 rows × 53 columns</p>\n",
       "</div>"
      ],
      "text/plain": [
       "       obj_id obj_id_level2                                         artist  \\\n",
       "0    70005169          None                                           None   \n",
       "1    70005169          None                                           None   \n",
       "2    07580895          None                              [Allegretto Nuzi]   \n",
       "3    07580895          None                              [Allegretto Nuzi]   \n",
       "4    07580895          None                              [Allegretto Nuzi]   \n",
       "..        ...           ...                                            ...   \n",
       "131  07651668          None  [Niccolò di Liberatore di Giacomo di Mariano]   \n",
       "132  07651668          None  [Niccolò di Liberatore di Giacomo di Mariano]   \n",
       "133  07651668          None  [Niccolò di Liberatore di Giacomo di Mariano]   \n",
       "134  70014753          None                                           None   \n",
       "135  70014329          None                                           None   \n",
       "\n",
       "    other_artist_attribution                       date  \\\n",
       "0                       None     [Datierung: 1401/1600]   \n",
       "1                       None     [Datierung: 1401/1600]   \n",
       "2                       None  [Datierung: um 1371/1373]   \n",
       "3                       None  [Datierung: um 1371/1373]   \n",
       "4                       None  [Datierung: um 1371/1373]   \n",
       "..                       ...                        ...   \n",
       "131                     None          [Datierung: 1482]   \n",
       "132                     None          [Datierung: 1482]   \n",
       "133                     None          [Datierung: 1482]   \n",
       "134                     None     [Datierung: 1401/1500]   \n",
       "135                     None     [Datierung: 1450/1500]   \n",
       "\n",
       "                                                 title description_khi  \\\n",
       "0                         Teile zweier Hochzeitstruhen         Cassone   \n",
       "1                         Teile zweier Hochzeitstruhen         Cassone   \n",
       "2    Die Heiligen Nikolaus von Tolentino, Augustinu...            None   \n",
       "3    Die Heiligen Nikolaus von Tolentino, Augustinu...            None   \n",
       "4    Die Heiligen Nikolaus von Tolentino, Augustinu...            None   \n",
       "..                                                 ...             ...   \n",
       "131  Madonna mit Kind und den Heiligen Johannes der...            None   \n",
       "132  Madonna mit Kind und den Heiligen Johannes der...            None   \n",
       "133  Madonna mit Kind und den Heiligen Johannes der...            None   \n",
       "134                                   Dekorierter Vase            None   \n",
       "135                                 Madonna mit Engeln            None   \n",
       "\n",
       "         status             genre type_description  ... photo_file_format  \\\n",
       "0      Fragment  Angewandte Kunst             None  ...               tif   \n",
       "1      Fragment  Angewandte Kunst             None  ...              None   \n",
       "2          None      Tafelmalerei             None  ...               tif   \n",
       "3          None      Tafelmalerei             None  ...              None   \n",
       "4          None      Tafelmalerei             None  ...              None   \n",
       "..          ...               ...              ...  ...               ...   \n",
       "131        None           Malerei             None  ...              None   \n",
       "132        None           Malerei             None  ...              None   \n",
       "133        None           Malerei             None  ...              None   \n",
       "134        None  Angewandte Kunst             None  ...              None   \n",
       "135  beschädigt           Malerei             None  ...              None   \n",
       "\n",
       "    photo_equipment          photo_dimension               photo_subject  \\\n",
       "0     Digitalkamera                     None               Gesamtansicht   \n",
       "1              None  [11,8 x 16,9 cm (Foto)]     Gesamtansicht der Decke   \n",
       "2              None                     None               Gesamtansicht   \n",
       "3              None                     None               Gesamtansicht   \n",
       "4              None  [22,1 x 28,8 cm (Foto)]               Gesamtansicht   \n",
       "..              ...                      ...                         ...   \n",
       "131            None                     None  Detail: Heiliger Sebastian   \n",
       "132            None    [17,2 x 12 cm (Foto)]    Detail: Madonna mit Kind   \n",
       "133            None  [17,3 x 12,2 cm (Foto)]           Detail: Jesuskind   \n",
       "134            None    [12,9 x 14 cm (Foto)]               Gesamtansicht   \n",
       "135            None  [16,5 x 11,6 cm (Foto)]               Gesamtansicht   \n",
       "\n",
       "                           photo_comment photo_file_number photo_availability  \\\n",
       "0    P001924_RS1244_co_GUBBIO_Pinakoteca     fle0011762x_p               None   \n",
       "1                                   None              None               None   \n",
       "2                                   None     fle0009144x_p               None   \n",
       "3                                   None              None               None   \n",
       "4                                   None              None               None   \n",
       "..                                   ...               ...                ...   \n",
       "131                                 None              None               None   \n",
       "132                                 None              None               None   \n",
       "133                                 None              None               None   \n",
       "134                                 None              None               None   \n",
       "135                                 None              None               None   \n",
       "\n",
       "                                     photo_credit_line  \\\n",
       "0    Kunsthistorisches Institut in Florenz – Max-Pl...   \n",
       "1                                                 None   \n",
       "2    Kunsthistorisches Institut in Florenz – Max-Pl...   \n",
       "3                                                 None   \n",
       "4                                                 None   \n",
       "..                                                 ...   \n",
       "131                                               None   \n",
       "132                                               None   \n",
       "133                                               None   \n",
       "134                                               None   \n",
       "135                                               None   \n",
       "\n",
       "    photo_old_archival_section photo_preservation_status  \n",
       "0                         None                      None  \n",
       "1                         None                      None  \n",
       "2                         None                      None  \n",
       "3                         None                      None  \n",
       "4                         None                      None  \n",
       "..                         ...                       ...  \n",
       "131                       None                      None  \n",
       "132                       None               Ausbleichen  \n",
       "133                       None                      None  \n",
       "134                       None                Klebstoffe  \n",
       "135                       None                      None  \n",
       "\n",
       "[131 rows x 53 columns]"
      ]
     },
     "metadata": {},
     "output_type": "display_data"
    }
   ],
   "source": [
    "if text_date_to_filter.value and text_date_to_filter_2.value:\n",
    "    filter_year_range = photos_collection.filter_by(filter_date_column_widget.value,\n",
    "                                                    text_date_to_filter.value,\n",
    "                                                    text_date_to_filter_2.value)\n",
    "    display(filter_year_range)\n",
    "else:\n",
    "    print('Write a valid year range in the cells above to see the filtered result.')"
   ]
  },
  {
   "cell_type": "markdown",
   "id": "36ba24eb",
   "metadata": {},
   "source": [
    "<div class=\"alert alert-block alert-warning\">\n",
    "<p style=\"display:inline-block \"><img style=\"display:inline-block; height:22px\" src= 'resources/download2.png' alt='Download icon'> <b>Download Section</b></p>\n",
    "</div>"
   ]
  },
  {
   "cell_type": "markdown",
   "id": "c43e0f01",
   "metadata": {},
   "source": [
    "Follow the instructions to <b>download your DataFrame as CSV file:</b>\n",
    "\n",
    "\n",
    "- Run the cell below.\n",
    "- Click on the download button below. The download should start immediately."
   ]
  },
  {
   "cell_type": "code",
   "execution_count": 25,
   "id": "ad953b47",
   "metadata": {},
   "outputs": [
    {
     "data": {
      "application/vnd.jupyter.widget-view+json": {
       "model_id": "2057c6e0fbde4971ac8d341c6e7e4895",
       "version_major": 2,
       "version_minor": 0
      },
      "text/plain": [
       "HTML(value='<html>\\n<head>\\n<meta name=\"viewport\" content=\"width=device-width, initial-scale=1\">\\n</head>\\n<bo…"
      ]
     },
     "metadata": {},
     "output_type": "display_data"
    }
   ],
   "source": [
    "try:\n",
    "    res_yrange = filter_year_range.to_csv()\n",
    "    #File\n",
    "    filename_yrange = 'table_filtered_with_two_years.csv'\n",
    "    b64_yrange = base64.b64encode(res_yrange.encode())\n",
    "    payload_yrange = b64_yrange.decode()\n",
    "except NameError:\n",
    "    print('Your file is empty. Check the previous cells and try again.')\n",
    "\n",
    "\n",
    "#Display download button\n",
    "try:\n",
    "    html_button = html_buttons.format(payload=payload_yrange,filename=filename_yrange)\n",
    "    display(HTML(html_button))\n",
    "except NameError:\n",
    "    print('')"
   ]
  },
  {
   "cell_type": "markdown",
   "id": "9f34fddd",
   "metadata": {},
   "source": [
    "### Filter by year and operator"
   ]
  },
  {
   "cell_type": "markdown",
   "id": "73ec02dc",
   "metadata": {},
   "source": [
    "You can filter photographs by artwork year, archival year, or photo production year.</br>\n",
    "Select a year and decide if you want want exact matches, or dates before or after that year.\n",
    "* Run the following cell to see the filtering tools.\n",
    "* Use the <a href=\"#widget\">widgets</a> below to specify a **year**, an **operator**, and the **column** that should be filtered."
   ]
  },
  {
   "cell_type": "code",
   "execution_count": 26,
   "id": "b0396f30",
   "metadata": {
    "scrolled": false
   },
   "outputs": [
    {
     "data": {
      "application/vnd.jupyter.widget-view+json": {
       "model_id": "1a9501a679124b699eb72411739b4dac",
       "version_major": 2,
       "version_minor": 0
      },
      "text/plain": [
       "Text(value='1200', description='Year:', placeholder='Type a start year')"
      ]
     },
     "metadata": {},
     "output_type": "display_data"
    },
    {
     "data": {
      "application/vnd.jupyter.widget-view+json": {
       "model_id": "d29588d0e1574fe08adaa872e4c4f647",
       "version_major": 2,
       "version_minor": 0
      },
      "text/plain": [
       "Dropdown(description='Operator:', options=(('Choose an operator', ''), ('Match exact year', '='), ('Before', '…"
      ]
     },
     "metadata": {},
     "output_type": "display_data"
    },
    {
     "data": {
      "application/vnd.jupyter.widget-view+json": {
       "model_id": "a70591617ba545788224cf41f20f7375",
       "version_major": 2,
       "version_minor": 0
      },
      "text/plain": [
       "Dropdown(description='Column:', options=('date', 'photo_entry_archival_date', 'photo_date'), value='date')"
      ]
     },
     "metadata": {},
     "output_type": "display_data"
    }
   ],
   "source": [
    "filter_date_column_widget.options=[column for column in photos_collection.dataframe_no_scan.columns \n",
    "                                   if column in DATE_KEY_LIST or column == 'date']\n",
    "display(text_date_to_filter, year_operator, filter_date_column_widget)"
   ]
  },
  {
   "cell_type": "markdown",
   "id": "b1067dec",
   "metadata": {},
   "source": [
    "Run the next cell to show the filtered result:"
   ]
  },
  {
   "cell_type": "code",
   "execution_count": 27,
   "id": "bb500717-3bdc-4d07-b741-641f25f2f164",
   "metadata": {
    "scrolled": true
   },
   "outputs": [
    {
     "data": {
      "text/html": [
       "<div>\n",
       "<style scoped>\n",
       "    .dataframe tbody tr th:only-of-type {\n",
       "        vertical-align: middle;\n",
       "    }\n",
       "\n",
       "    .dataframe tbody tr th {\n",
       "        vertical-align: top;\n",
       "    }\n",
       "\n",
       "    .dataframe thead th {\n",
       "        text-align: right;\n",
       "    }\n",
       "</style>\n",
       "<table border=\"1\" class=\"dataframe\">\n",
       "  <thead>\n",
       "    <tr style=\"text-align: right;\">\n",
       "      <th></th>\n",
       "      <th>obj_id</th>\n",
       "      <th>obj_id_level2</th>\n",
       "      <th>artist</th>\n",
       "      <th>other_artist_attribution</th>\n",
       "      <th>date</th>\n",
       "      <th>title</th>\n",
       "      <th>description_khi</th>\n",
       "      <th>status</th>\n",
       "      <th>genre</th>\n",
       "      <th>type_description</th>\n",
       "      <th>...</th>\n",
       "      <th>photo_file_format</th>\n",
       "      <th>photo_equipment</th>\n",
       "      <th>photo_dimension</th>\n",
       "      <th>photo_subject</th>\n",
       "      <th>photo_comment</th>\n",
       "      <th>photo_file_number</th>\n",
       "      <th>photo_availability</th>\n",
       "      <th>photo_credit_line</th>\n",
       "      <th>photo_old_archival_section</th>\n",
       "      <th>photo_preservation_status</th>\n",
       "    </tr>\n",
       "  </thead>\n",
       "  <tbody>\n",
       "    <tr>\n",
       "      <th>0</th>\n",
       "      <td>70005169</td>\n",
       "      <td>None</td>\n",
       "      <td>None</td>\n",
       "      <td>None</td>\n",
       "      <td>[Datierung: 1401/1600]</td>\n",
       "      <td>Teile zweier Hochzeitstruhen</td>\n",
       "      <td>Cassone</td>\n",
       "      <td>Fragment</td>\n",
       "      <td>Angewandte Kunst</td>\n",
       "      <td>None</td>\n",
       "      <td>...</td>\n",
       "      <td>tif</td>\n",
       "      <td>Digitalkamera</td>\n",
       "      <td>None</td>\n",
       "      <td>Gesamtansicht</td>\n",
       "      <td>P001924_RS1244_co_GUBBIO_Pinakoteca</td>\n",
       "      <td>fle0011762x_p</td>\n",
       "      <td>None</td>\n",
       "      <td>Kunsthistorisches Institut in Florenz – Max-Pl...</td>\n",
       "      <td>None</td>\n",
       "      <td>None</td>\n",
       "    </tr>\n",
       "    <tr>\n",
       "      <th>1</th>\n",
       "      <td>70005169</td>\n",
       "      <td>None</td>\n",
       "      <td>None</td>\n",
       "      <td>None</td>\n",
       "      <td>[Datierung: 1401/1600]</td>\n",
       "      <td>Teile zweier Hochzeitstruhen</td>\n",
       "      <td>Cassone</td>\n",
       "      <td>Fragment</td>\n",
       "      <td>Angewandte Kunst</td>\n",
       "      <td>None</td>\n",
       "      <td>...</td>\n",
       "      <td>None</td>\n",
       "      <td>None</td>\n",
       "      <td>[11,8 x 16,9 cm (Foto)]</td>\n",
       "      <td>Gesamtansicht der Decke</td>\n",
       "      <td>None</td>\n",
       "      <td>None</td>\n",
       "      <td>None</td>\n",
       "      <td>None</td>\n",
       "      <td>None</td>\n",
       "      <td>None</td>\n",
       "    </tr>\n",
       "    <tr>\n",
       "      <th>2</th>\n",
       "      <td>07580895</td>\n",
       "      <td>None</td>\n",
       "      <td>[Allegretto Nuzi]</td>\n",
       "      <td>None</td>\n",
       "      <td>[Datierung: um 1371/1373]</td>\n",
       "      <td>Die Heiligen Nikolaus von Tolentino, Augustinu...</td>\n",
       "      <td>None</td>\n",
       "      <td>None</td>\n",
       "      <td>Tafelmalerei</td>\n",
       "      <td>None</td>\n",
       "      <td>...</td>\n",
       "      <td>tif</td>\n",
       "      <td>None</td>\n",
       "      <td>None</td>\n",
       "      <td>Gesamtansicht</td>\n",
       "      <td>None</td>\n",
       "      <td>fle0009144x_p</td>\n",
       "      <td>None</td>\n",
       "      <td>Kunsthistorisches Institut in Florenz – Max-Pl...</td>\n",
       "      <td>None</td>\n",
       "      <td>None</td>\n",
       "    </tr>\n",
       "    <tr>\n",
       "      <th>3</th>\n",
       "      <td>07580895</td>\n",
       "      <td>None</td>\n",
       "      <td>[Allegretto Nuzi]</td>\n",
       "      <td>None</td>\n",
       "      <td>[Datierung: um 1371/1373]</td>\n",
       "      <td>Die Heiligen Nikolaus von Tolentino, Augustinu...</td>\n",
       "      <td>None</td>\n",
       "      <td>None</td>\n",
       "      <td>Tafelmalerei</td>\n",
       "      <td>None</td>\n",
       "      <td>...</td>\n",
       "      <td>None</td>\n",
       "      <td>None</td>\n",
       "      <td>None</td>\n",
       "      <td>Gesamtansicht</td>\n",
       "      <td>None</td>\n",
       "      <td>None</td>\n",
       "      <td>None</td>\n",
       "      <td>None</td>\n",
       "      <td>None</td>\n",
       "      <td>None</td>\n",
       "    </tr>\n",
       "    <tr>\n",
       "      <th>4</th>\n",
       "      <td>07580895</td>\n",
       "      <td>None</td>\n",
       "      <td>[Allegretto Nuzi]</td>\n",
       "      <td>None</td>\n",
       "      <td>[Datierung: um 1371/1373]</td>\n",
       "      <td>Die Heiligen Nikolaus von Tolentino, Augustinu...</td>\n",
       "      <td>None</td>\n",
       "      <td>None</td>\n",
       "      <td>Tafelmalerei</td>\n",
       "      <td>None</td>\n",
       "      <td>...</td>\n",
       "      <td>None</td>\n",
       "      <td>None</td>\n",
       "      <td>[22,1 x 28,8 cm (Foto)]</td>\n",
       "      <td>Gesamtansicht</td>\n",
       "      <td>None</td>\n",
       "      <td>None</td>\n",
       "      <td>None</td>\n",
       "      <td>None</td>\n",
       "      <td>None</td>\n",
       "      <td>None</td>\n",
       "    </tr>\n",
       "    <tr>\n",
       "      <th>...</th>\n",
       "      <td>...</td>\n",
       "      <td>...</td>\n",
       "      <td>...</td>\n",
       "      <td>...</td>\n",
       "      <td>...</td>\n",
       "      <td>...</td>\n",
       "      <td>...</td>\n",
       "      <td>...</td>\n",
       "      <td>...</td>\n",
       "      <td>...</td>\n",
       "      <td>...</td>\n",
       "      <td>...</td>\n",
       "      <td>...</td>\n",
       "      <td>...</td>\n",
       "      <td>...</td>\n",
       "      <td>...</td>\n",
       "      <td>...</td>\n",
       "      <td>...</td>\n",
       "      <td>...</td>\n",
       "      <td>...</td>\n",
       "      <td>...</td>\n",
       "    </tr>\n",
       "    <tr>\n",
       "      <th>131</th>\n",
       "      <td>07651668</td>\n",
       "      <td>None</td>\n",
       "      <td>[Niccolò di Liberatore di Giacomo di Mariano]</td>\n",
       "      <td>None</td>\n",
       "      <td>[Datierung: 1482]</td>\n",
       "      <td>Madonna mit Kind und den Heiligen Johannes der...</td>\n",
       "      <td>None</td>\n",
       "      <td>None</td>\n",
       "      <td>Malerei</td>\n",
       "      <td>None</td>\n",
       "      <td>...</td>\n",
       "      <td>None</td>\n",
       "      <td>None</td>\n",
       "      <td>None</td>\n",
       "      <td>Detail: Heiliger Sebastian</td>\n",
       "      <td>None</td>\n",
       "      <td>None</td>\n",
       "      <td>None</td>\n",
       "      <td>None</td>\n",
       "      <td>None</td>\n",
       "      <td>None</td>\n",
       "    </tr>\n",
       "    <tr>\n",
       "      <th>132</th>\n",
       "      <td>07651668</td>\n",
       "      <td>None</td>\n",
       "      <td>[Niccolò di Liberatore di Giacomo di Mariano]</td>\n",
       "      <td>None</td>\n",
       "      <td>[Datierung: 1482]</td>\n",
       "      <td>Madonna mit Kind und den Heiligen Johannes der...</td>\n",
       "      <td>None</td>\n",
       "      <td>None</td>\n",
       "      <td>Malerei</td>\n",
       "      <td>None</td>\n",
       "      <td>...</td>\n",
       "      <td>None</td>\n",
       "      <td>None</td>\n",
       "      <td>[17,2 x 12 cm (Foto)]</td>\n",
       "      <td>Detail: Madonna mit Kind</td>\n",
       "      <td>None</td>\n",
       "      <td>None</td>\n",
       "      <td>None</td>\n",
       "      <td>None</td>\n",
       "      <td>None</td>\n",
       "      <td>Ausbleichen</td>\n",
       "    </tr>\n",
       "    <tr>\n",
       "      <th>133</th>\n",
       "      <td>07651668</td>\n",
       "      <td>None</td>\n",
       "      <td>[Niccolò di Liberatore di Giacomo di Mariano]</td>\n",
       "      <td>None</td>\n",
       "      <td>[Datierung: 1482]</td>\n",
       "      <td>Madonna mit Kind und den Heiligen Johannes der...</td>\n",
       "      <td>None</td>\n",
       "      <td>None</td>\n",
       "      <td>Malerei</td>\n",
       "      <td>None</td>\n",
       "      <td>...</td>\n",
       "      <td>None</td>\n",
       "      <td>None</td>\n",
       "      <td>[17,3 x 12,2 cm (Foto)]</td>\n",
       "      <td>Detail: Jesuskind</td>\n",
       "      <td>None</td>\n",
       "      <td>None</td>\n",
       "      <td>None</td>\n",
       "      <td>None</td>\n",
       "      <td>None</td>\n",
       "      <td>None</td>\n",
       "    </tr>\n",
       "    <tr>\n",
       "      <th>134</th>\n",
       "      <td>70014753</td>\n",
       "      <td>None</td>\n",
       "      <td>None</td>\n",
       "      <td>None</td>\n",
       "      <td>[Datierung: 1401/1500]</td>\n",
       "      <td>Dekorierter Vase</td>\n",
       "      <td>None</td>\n",
       "      <td>None</td>\n",
       "      <td>Angewandte Kunst</td>\n",
       "      <td>None</td>\n",
       "      <td>...</td>\n",
       "      <td>None</td>\n",
       "      <td>None</td>\n",
       "      <td>[12,9 x 14 cm (Foto)]</td>\n",
       "      <td>Gesamtansicht</td>\n",
       "      <td>None</td>\n",
       "      <td>None</td>\n",
       "      <td>None</td>\n",
       "      <td>None</td>\n",
       "      <td>None</td>\n",
       "      <td>Klebstoffe</td>\n",
       "    </tr>\n",
       "    <tr>\n",
       "      <th>135</th>\n",
       "      <td>70014329</td>\n",
       "      <td>None</td>\n",
       "      <td>None</td>\n",
       "      <td>None</td>\n",
       "      <td>[Datierung: 1450/1500]</td>\n",
       "      <td>Madonna mit Engeln</td>\n",
       "      <td>None</td>\n",
       "      <td>beschädigt</td>\n",
       "      <td>Malerei</td>\n",
       "      <td>None</td>\n",
       "      <td>...</td>\n",
       "      <td>None</td>\n",
       "      <td>None</td>\n",
       "      <td>[16,5 x 11,6 cm (Foto)]</td>\n",
       "      <td>Gesamtansicht</td>\n",
       "      <td>None</td>\n",
       "      <td>None</td>\n",
       "      <td>None</td>\n",
       "      <td>None</td>\n",
       "      <td>None</td>\n",
       "      <td>None</td>\n",
       "    </tr>\n",
       "  </tbody>\n",
       "</table>\n",
       "<p>131 rows × 53 columns</p>\n",
       "</div>"
      ],
      "text/plain": [
       "       obj_id obj_id_level2                                         artist  \\\n",
       "0    70005169          None                                           None   \n",
       "1    70005169          None                                           None   \n",
       "2    07580895          None                              [Allegretto Nuzi]   \n",
       "3    07580895          None                              [Allegretto Nuzi]   \n",
       "4    07580895          None                              [Allegretto Nuzi]   \n",
       "..        ...           ...                                            ...   \n",
       "131  07651668          None  [Niccolò di Liberatore di Giacomo di Mariano]   \n",
       "132  07651668          None  [Niccolò di Liberatore di Giacomo di Mariano]   \n",
       "133  07651668          None  [Niccolò di Liberatore di Giacomo di Mariano]   \n",
       "134  70014753          None                                           None   \n",
       "135  70014329          None                                           None   \n",
       "\n",
       "    other_artist_attribution                       date  \\\n",
       "0                       None     [Datierung: 1401/1600]   \n",
       "1                       None     [Datierung: 1401/1600]   \n",
       "2                       None  [Datierung: um 1371/1373]   \n",
       "3                       None  [Datierung: um 1371/1373]   \n",
       "4                       None  [Datierung: um 1371/1373]   \n",
       "..                       ...                        ...   \n",
       "131                     None          [Datierung: 1482]   \n",
       "132                     None          [Datierung: 1482]   \n",
       "133                     None          [Datierung: 1482]   \n",
       "134                     None     [Datierung: 1401/1500]   \n",
       "135                     None     [Datierung: 1450/1500]   \n",
       "\n",
       "                                                 title description_khi  \\\n",
       "0                         Teile zweier Hochzeitstruhen         Cassone   \n",
       "1                         Teile zweier Hochzeitstruhen         Cassone   \n",
       "2    Die Heiligen Nikolaus von Tolentino, Augustinu...            None   \n",
       "3    Die Heiligen Nikolaus von Tolentino, Augustinu...            None   \n",
       "4    Die Heiligen Nikolaus von Tolentino, Augustinu...            None   \n",
       "..                                                 ...             ...   \n",
       "131  Madonna mit Kind und den Heiligen Johannes der...            None   \n",
       "132  Madonna mit Kind und den Heiligen Johannes der...            None   \n",
       "133  Madonna mit Kind und den Heiligen Johannes der...            None   \n",
       "134                                   Dekorierter Vase            None   \n",
       "135                                 Madonna mit Engeln            None   \n",
       "\n",
       "         status             genre type_description  ... photo_file_format  \\\n",
       "0      Fragment  Angewandte Kunst             None  ...               tif   \n",
       "1      Fragment  Angewandte Kunst             None  ...              None   \n",
       "2          None      Tafelmalerei             None  ...               tif   \n",
       "3          None      Tafelmalerei             None  ...              None   \n",
       "4          None      Tafelmalerei             None  ...              None   \n",
       "..          ...               ...              ...  ...               ...   \n",
       "131        None           Malerei             None  ...              None   \n",
       "132        None           Malerei             None  ...              None   \n",
       "133        None           Malerei             None  ...              None   \n",
       "134        None  Angewandte Kunst             None  ...              None   \n",
       "135  beschädigt           Malerei             None  ...              None   \n",
       "\n",
       "    photo_equipment          photo_dimension               photo_subject  \\\n",
       "0     Digitalkamera                     None               Gesamtansicht   \n",
       "1              None  [11,8 x 16,9 cm (Foto)]     Gesamtansicht der Decke   \n",
       "2              None                     None               Gesamtansicht   \n",
       "3              None                     None               Gesamtansicht   \n",
       "4              None  [22,1 x 28,8 cm (Foto)]               Gesamtansicht   \n",
       "..              ...                      ...                         ...   \n",
       "131            None                     None  Detail: Heiliger Sebastian   \n",
       "132            None    [17,2 x 12 cm (Foto)]    Detail: Madonna mit Kind   \n",
       "133            None  [17,3 x 12,2 cm (Foto)]           Detail: Jesuskind   \n",
       "134            None    [12,9 x 14 cm (Foto)]               Gesamtansicht   \n",
       "135            None  [16,5 x 11,6 cm (Foto)]               Gesamtansicht   \n",
       "\n",
       "                           photo_comment photo_file_number photo_availability  \\\n",
       "0    P001924_RS1244_co_GUBBIO_Pinakoteca     fle0011762x_p               None   \n",
       "1                                   None              None               None   \n",
       "2                                   None     fle0009144x_p               None   \n",
       "3                                   None              None               None   \n",
       "4                                   None              None               None   \n",
       "..                                   ...               ...                ...   \n",
       "131                                 None              None               None   \n",
       "132                                 None              None               None   \n",
       "133                                 None              None               None   \n",
       "134                                 None              None               None   \n",
       "135                                 None              None               None   \n",
       "\n",
       "                                     photo_credit_line  \\\n",
       "0    Kunsthistorisches Institut in Florenz – Max-Pl...   \n",
       "1                                                 None   \n",
       "2    Kunsthistorisches Institut in Florenz – Max-Pl...   \n",
       "3                                                 None   \n",
       "4                                                 None   \n",
       "..                                                 ...   \n",
       "131                                               None   \n",
       "132                                               None   \n",
       "133                                               None   \n",
       "134                                               None   \n",
       "135                                               None   \n",
       "\n",
       "    photo_old_archival_section photo_preservation_status  \n",
       "0                         None                      None  \n",
       "1                         None                      None  \n",
       "2                         None                      None  \n",
       "3                         None                      None  \n",
       "4                         None                      None  \n",
       "..                         ...                       ...  \n",
       "131                       None                      None  \n",
       "132                       None               Ausbleichen  \n",
       "133                       None                      None  \n",
       "134                       None                Klebstoffe  \n",
       "135                       None                      None  \n",
       "\n",
       "[131 rows x 53 columns]"
      ]
     },
     "metadata": {},
     "output_type": "display_data"
    }
   ],
   "source": [
    "if text_date_to_filter.value and year_operator.value and filter_date_column_widget.value:\n",
    "    filter_year_operator = photos_collection.filter_by(filter_date_column_widget.value,\n",
    "                                                       text_date_to_filter.value,\n",
    "                                                       year_operator.value)\n",
    "    display(filter_year_operator)\n",
    "else:\n",
    "    print('Write a valid year and choose an operator in the cells above to see the filtered result.')"
   ]
  },
  {
   "cell_type": "markdown",
   "id": "7d66c551",
   "metadata": {},
   "source": [
    "<div class=\"alert alert-block alert-warning\">\n",
    "<p style=\"display:inline-block \"><img style=\"display:inline-block; height:22px\" src= 'resources/download2.png' alt='Download icon'> <b>Download Section</b></p>\n",
    "</div>"
   ]
  },
  {
   "cell_type": "markdown",
   "id": "5a494345",
   "metadata": {},
   "source": [
    "Follow the instructions to <b>download your DataFrame as CSV file:</b>\n",
    "\n",
    "- Run the cell below.\n",
    "- Click on the download button below. The download should start immediately."
   ]
  },
  {
   "cell_type": "code",
   "execution_count": 28,
   "id": "eac4a5e2",
   "metadata": {},
   "outputs": [
    {
     "data": {
      "application/vnd.jupyter.widget-view+json": {
       "model_id": "0ba1eedb76254634a10ba2bb0b9e4101",
       "version_major": 2,
       "version_minor": 0
      },
      "text/plain": [
       "HTML(value='<html>\\n<head>\\n<meta name=\"viewport\" content=\"width=device-width, initial-scale=1\">\\n</head>\\n<bo…"
      ]
     },
     "metadata": {},
     "output_type": "display_data"
    }
   ],
   "source": [
    "try:\n",
    "    res_yoper = filter_year_operator.to_csv()\n",
    "\n",
    "    #File\n",
    "    filename_yoper = 'table_filtered_year_and_operator.csv'\n",
    "    b64_yoper = base64.b64encode(res_yoper.encode())\n",
    "    payload_yoper = b64_yoper.decode()\n",
    "\n",
    "except NameError:\n",
    "    print('Your file is empty. Check the previous cells and try again.')\n",
    "    \n",
    "\n",
    "#Display download buttonù\n",
    "try:\n",
    "    html_button = html_buttons.format(payload=payload_yoper,filename=filename_yoper)\n",
    "    display(HTML(html_button))\n",
    "except NameError:\n",
    "    print('')"
   ]
  },
  {
   "cell_type": "markdown",
   "id": "3d76f129-c553-4e48-9972-fb70b27e1571",
   "metadata": {},
   "source": [
    "### Combining multiple filters"
   ]
  },
  {
   "cell_type": "markdown",
   "id": "f19f499a",
   "metadata": {},
   "source": [
    "If you've completed the filtering tasks in the above sections, you should have three DataFrames:\n",
    "* `filter_by_column`: This DataFrame has data filtered based on a specific column and input text.\n",
    "* `filter_year_range`: This DataFrame is filtered to show data between two specified years.\n",
    "* `filter_year_operator`: This DataFrame shows data filtered by artwork date using a specified operator."
   ]
  },
  {
   "cell_type": "markdown",
   "id": "9a13de4f",
   "metadata": {},
   "source": [
    "You can apply more filters on these DataFrames. Execute the following cells to prepare your data."
   ]
  },
  {
   "cell_type": "markdown",
   "id": "2fba6efb",
   "metadata": {},
   "source": [
    "Prepare the DataFrame `filter_by_column`: "
   ]
  },
  {
   "cell_type": "code",
   "execution_count": 29,
   "id": "38d465e3",
   "metadata": {},
   "outputs": [],
   "source": [
    "try:\n",
    "    new_filter_by_column = photos_collection.filter_by(filter_column_widget.value,\n",
    "                                                          text_to_filter.value,\n",
    "                                                          filter_by_column)\n",
    "except NameError:\n",
    "    print('This DataFrame does not exist, please check the previous cells and try again.')"
   ]
  },
  {
   "cell_type": "markdown",
   "id": "1082eede",
   "metadata": {},
   "source": [
    "Prepare the DataFrame `filter_year_range`: "
   ]
  },
  {
   "cell_type": "code",
   "execution_count": 30,
   "id": "91ebd9c6",
   "metadata": {},
   "outputs": [],
   "source": [
    "try:\n",
    "    new_filter_year_operator = photos_collection.filter_by(filter_column_widget.value,\n",
    "                                                                 text_to_filter.value,\n",
    "                                                                 filter_year_operator)\n",
    "except KeyError or NameError:\n",
    "    print('This DataFrame does not exist, please check the previous cells and try again.')"
   ]
  },
  {
   "cell_type": "markdown",
   "id": "b8c30a42",
   "metadata": {},
   "source": [
    "Prepare the DataFrame `filter_year_operator`: "
   ]
  },
  {
   "cell_type": "code",
   "execution_count": 31,
   "id": "15bac7f2",
   "metadata": {},
   "outputs": [],
   "source": [
    "try:\n",
    "    new_filter_year_range = photos_collection.filter_by(filter_column_widget.value,\n",
    "                                                               text_to_filter.value,\n",
    "                                                               filter_year_range)\n",
    "except NameError:\n",
    "    print('This DataFrame does not exist, please check the previous cells and try again.')"
   ]
  },
  {
   "cell_type": "markdown",
   "id": "7ecbe0d1",
   "metadata": {},
   "source": [
    "To apply an additional filter, execute the following cell, then paste the name of the selected DataFrame in the box that will appear. </br>\n",
    "Choose between the following DataFrames:\n",
    "* To filter the `filter_by_column` DataFrame, paste **`new_filter_by_column`** in the box below.\n",
    "* To filter the `filter_year_range` DataFrame, paste **`new_filter_year_range`** in the box below.\n",
    "* To filter the `filter_year_operator` DataFrame, paste **`new_filter_year_operator`** in the box below."
   ]
  },
  {
   "cell_type": "code",
   "execution_count": 32,
   "id": "ce7db7aa",
   "metadata": {
    "scrolled": true
   },
   "outputs": [
    {
     "data": {
      "application/vnd.jupyter.widget-view+json": {
       "model_id": "afe336a5d6d0431f8f24bf5bd7f082dd",
       "version_major": 2,
       "version_minor": 0
      },
      "text/plain": [
       "Combobox(value='', description='Data to filter:', ensure_option=True, options=('new_filter_by_column', 'new_fi…"
      ]
     },
     "metadata": {},
     "output_type": "display_data"
    }
   ],
   "source": [
    "display(add_filter)"
   ]
  },
  {
   "cell_type": "markdown",
   "id": "2629ba4f",
   "metadata": {},
   "source": [
    "Execute the following cell to see the filtering tools:"
   ]
  },
  {
   "cell_type": "code",
   "execution_count": 33,
   "id": "063f10af",
   "metadata": {},
   "outputs": [
    {
     "data": {
      "application/vnd.jupyter.widget-view+json": {
       "model_id": "bb5e7f2109674291851a25424534f46b",
       "version_major": 2,
       "version_minor": 0
      },
      "text/plain": [
       "Dropdown(description='Column:', options=('obj_id', 'obj_id_level2', 'artist', 'other_artist_attribution', 'tit…"
      ]
     },
     "metadata": {},
     "output_type": "display_data"
    },
    {
     "data": {
      "application/vnd.jupyter.widget-view+json": {
       "model_id": "2301ad691d0c4c1f9d63b9f5a0651b89",
       "version_major": 2,
       "version_minor": 0
      },
      "text/plain": [
       "Text(value='', description='Search text:', placeholder='Type your text here')"
      ]
     },
     "metadata": {},
     "output_type": "display_data"
    }
   ],
   "source": [
    "display(filter_column_widget)\n",
    "display(text_to_filter)"
   ]
  },
  {
   "cell_type": "code",
   "execution_count": 44,
   "id": "9501b610",
   "metadata": {
    "scrolled": true
   },
   "outputs": [
    {
     "data": {
      "text/html": [
       "<div>\n",
       "<style scoped>\n",
       "    .dataframe tbody tr th:only-of-type {\n",
       "        vertical-align: middle;\n",
       "    }\n",
       "\n",
       "    .dataframe tbody tr th {\n",
       "        vertical-align: top;\n",
       "    }\n",
       "\n",
       "    .dataframe thead th {\n",
       "        text-align: right;\n",
       "    }\n",
       "</style>\n",
       "<table border=\"1\" class=\"dataframe\">\n",
       "  <thead>\n",
       "    <tr style=\"text-align: right;\">\n",
       "      <th></th>\n",
       "      <th>obj_id</th>\n",
       "      <th>obj_id_level2</th>\n",
       "      <th>artist</th>\n",
       "      <th>other_artist_attribution</th>\n",
       "      <th>date</th>\n",
       "      <th>title</th>\n",
       "      <th>description_khi</th>\n",
       "      <th>status</th>\n",
       "      <th>genre</th>\n",
       "      <th>type_description</th>\n",
       "      <th>...</th>\n",
       "      <th>photo_file_format</th>\n",
       "      <th>photo_equipment</th>\n",
       "      <th>photo_dimension</th>\n",
       "      <th>photo_subject</th>\n",
       "      <th>photo_comment</th>\n",
       "      <th>photo_file_number</th>\n",
       "      <th>photo_availability</th>\n",
       "      <th>photo_credit_line</th>\n",
       "      <th>photo_old_archival_section</th>\n",
       "      <th>photo_preservation_status</th>\n",
       "    </tr>\n",
       "  </thead>\n",
       "  <tbody>\n",
       "    <tr>\n",
       "      <th>0</th>\n",
       "      <td>07580354</td>\n",
       "      <td>None</td>\n",
       "      <td>[Piccolpasso, Cipriano]</td>\n",
       "      <td>None</td>\n",
       "      <td>None</td>\n",
       "      <td>Plan der Fortezza Paolina in Perugia</td>\n",
       "      <td>None</td>\n",
       "      <td>None</td>\n",
       "      <td>Zeichenkunst</td>\n",
       "      <td>None</td>\n",
       "      <td>...</td>\n",
       "      <td>None</td>\n",
       "      <td>None</td>\n",
       "      <td>[24 x 15,9 cm (Foto)]</td>\n",
       "      <td>Gesamtansicht</td>\n",
       "      <td>Signatur zuvor: Arch. Festg. &amp; Signatur zuvor:...</td>\n",
       "      <td>jouve_KHI-Test3354</td>\n",
       "      <td>gesperrt</td>\n",
       "      <td>None</td>\n",
       "      <td>None</td>\n",
       "      <td>None</td>\n",
       "    </tr>\n",
       "    <tr>\n",
       "      <th>1</th>\n",
       "      <td>07580354</td>\n",
       "      <td>None</td>\n",
       "      <td>[Piccolpasso, Cipriano]</td>\n",
       "      <td>None</td>\n",
       "      <td>None</td>\n",
       "      <td>Plan der Fortezza Paolina in Perugia</td>\n",
       "      <td>None</td>\n",
       "      <td>None</td>\n",
       "      <td>Zeichenkunst</td>\n",
       "      <td>None</td>\n",
       "      <td>...</td>\n",
       "      <td>None</td>\n",
       "      <td>None</td>\n",
       "      <td>[23,9 x 16,1 cm (Foto)]</td>\n",
       "      <td>Gesamtansicht</td>\n",
       "      <td>None</td>\n",
       "      <td>None</td>\n",
       "      <td>None</td>\n",
       "      <td>None</td>\n",
       "      <td>None</td>\n",
       "      <td>None</td>\n",
       "    </tr>\n",
       "    <tr>\n",
       "      <th>2</th>\n",
       "      <td>70005169</td>\n",
       "      <td>None</td>\n",
       "      <td>None</td>\n",
       "      <td>None</td>\n",
       "      <td>[Datierung: 1401/1600]</td>\n",
       "      <td>Teile zweier Hochzeitstruhen</td>\n",
       "      <td>Cassone</td>\n",
       "      <td>Fragment</td>\n",
       "      <td>Angewandte Kunst</td>\n",
       "      <td>None</td>\n",
       "      <td>...</td>\n",
       "      <td>tif</td>\n",
       "      <td>Digitalkamera</td>\n",
       "      <td>None</td>\n",
       "      <td>Gesamtansicht</td>\n",
       "      <td>P001924_RS1244_co_GUBBIO_Pinakoteca</td>\n",
       "      <td>fle0011762x_p</td>\n",
       "      <td>None</td>\n",
       "      <td>Kunsthistorisches Institut in Florenz – Max-Pl...</td>\n",
       "      <td>None</td>\n",
       "      <td>None</td>\n",
       "    </tr>\n",
       "    <tr>\n",
       "      <th>3</th>\n",
       "      <td>70005169</td>\n",
       "      <td>None</td>\n",
       "      <td>None</td>\n",
       "      <td>None</td>\n",
       "      <td>[Datierung: 1401/1600]</td>\n",
       "      <td>Teile zweier Hochzeitstruhen</td>\n",
       "      <td>Cassone</td>\n",
       "      <td>Fragment</td>\n",
       "      <td>Angewandte Kunst</td>\n",
       "      <td>None</td>\n",
       "      <td>...</td>\n",
       "      <td>None</td>\n",
       "      <td>None</td>\n",
       "      <td>[11,8 x 16,9 cm (Foto)]</td>\n",
       "      <td>Gesamtansicht der Decke</td>\n",
       "      <td>None</td>\n",
       "      <td>None</td>\n",
       "      <td>None</td>\n",
       "      <td>None</td>\n",
       "      <td>None</td>\n",
       "      <td>None</td>\n",
       "    </tr>\n",
       "    <tr>\n",
       "      <th>4</th>\n",
       "      <td>07580895</td>\n",
       "      <td>None</td>\n",
       "      <td>[Allegretto Nuzi]</td>\n",
       "      <td>None</td>\n",
       "      <td>[Datierung: um 1371/1373]</td>\n",
       "      <td>Die Heiligen Nikolaus von Tolentino, Augustinu...</td>\n",
       "      <td>None</td>\n",
       "      <td>None</td>\n",
       "      <td>Tafelmalerei</td>\n",
       "      <td>None</td>\n",
       "      <td>...</td>\n",
       "      <td>tif</td>\n",
       "      <td>None</td>\n",
       "      <td>None</td>\n",
       "      <td>Gesamtansicht</td>\n",
       "      <td>None</td>\n",
       "      <td>fle0009144x_p</td>\n",
       "      <td>None</td>\n",
       "      <td>Kunsthistorisches Institut in Florenz – Max-Pl...</td>\n",
       "      <td>None</td>\n",
       "      <td>None</td>\n",
       "    </tr>\n",
       "    <tr>\n",
       "      <th>...</th>\n",
       "      <td>...</td>\n",
       "      <td>...</td>\n",
       "      <td>...</td>\n",
       "      <td>...</td>\n",
       "      <td>...</td>\n",
       "      <td>...</td>\n",
       "      <td>...</td>\n",
       "      <td>...</td>\n",
       "      <td>...</td>\n",
       "      <td>...</td>\n",
       "      <td>...</td>\n",
       "      <td>...</td>\n",
       "      <td>...</td>\n",
       "      <td>...</td>\n",
       "      <td>...</td>\n",
       "      <td>...</td>\n",
       "      <td>...</td>\n",
       "      <td>...</td>\n",
       "      <td>...</td>\n",
       "      <td>...</td>\n",
       "      <td>...</td>\n",
       "    </tr>\n",
       "    <tr>\n",
       "      <th>182</th>\n",
       "      <td>07650338</td>\n",
       "      <td>None</td>\n",
       "      <td>[Piero di Cosimo]</td>\n",
       "      <td>None</td>\n",
       "      <td>None</td>\n",
       "      <td>Beweinung Christi</td>\n",
       "      <td>None</td>\n",
       "      <td>None</td>\n",
       "      <td>Tafelmalerei</td>\n",
       "      <td>None</td>\n",
       "      <td>...</td>\n",
       "      <td>tif</td>\n",
       "      <td>Scanner Imacon Flextight 848</td>\n",
       "      <td>[6x9]</td>\n",
       "      <td>Gesamtansicht</td>\n",
       "      <td>None</td>\n",
       "      <td>fln0451144z_p</td>\n",
       "      <td>None</td>\n",
       "      <td>Kunsthistorisches Institut in Florenz – Max-Pl...</td>\n",
       "      <td>None</td>\n",
       "      <td>None</td>\n",
       "    </tr>\n",
       "    <tr>\n",
       "      <th>183</th>\n",
       "      <td>07650338</td>\n",
       "      <td>None</td>\n",
       "      <td>[Piero di Cosimo]</td>\n",
       "      <td>None</td>\n",
       "      <td>None</td>\n",
       "      <td>Beweinung Christi</td>\n",
       "      <td>None</td>\n",
       "      <td>None</td>\n",
       "      <td>Tafelmalerei</td>\n",
       "      <td>None</td>\n",
       "      <td>...</td>\n",
       "      <td>None</td>\n",
       "      <td>None</td>\n",
       "      <td>None</td>\n",
       "      <td>Gesamtansicht</td>\n",
       "      <td>None</td>\n",
       "      <td>None</td>\n",
       "      <td>None</td>\n",
       "      <td>None</td>\n",
       "      <td>None</td>\n",
       "      <td>None</td>\n",
       "    </tr>\n",
       "    <tr>\n",
       "      <th>184</th>\n",
       "      <td>07650338</td>\n",
       "      <td>None</td>\n",
       "      <td>[Piero di Cosimo]</td>\n",
       "      <td>None</td>\n",
       "      <td>None</td>\n",
       "      <td>Beweinung Christi</td>\n",
       "      <td>None</td>\n",
       "      <td>None</td>\n",
       "      <td>Tafelmalerei</td>\n",
       "      <td>None</td>\n",
       "      <td>...</td>\n",
       "      <td>None</td>\n",
       "      <td>None</td>\n",
       "      <td>[17,3 x 23,4 cm (Foto), 31,6 x 24,4 cm (Karton)]</td>\n",
       "      <td>Ausschnitt</td>\n",
       "      <td>None</td>\n",
       "      <td>None</td>\n",
       "      <td>None</td>\n",
       "      <td>None</td>\n",
       "      <td>None</td>\n",
       "      <td>None</td>\n",
       "    </tr>\n",
       "    <tr>\n",
       "      <th>185</th>\n",
       "      <td>70014939</td>\n",
       "      <td>None</td>\n",
       "      <td>[Pintoricchio, Bernardino]</td>\n",
       "      <td>None</td>\n",
       "      <td>None</td>\n",
       "      <td>Maria mit Kind</td>\n",
       "      <td>None</td>\n",
       "      <td>unvollendet</td>\n",
       "      <td>Tafelmalerei</td>\n",
       "      <td>None</td>\n",
       "      <td>...</td>\n",
       "      <td>None</td>\n",
       "      <td>None</td>\n",
       "      <td>None</td>\n",
       "      <td>Gesamtansicht</td>\n",
       "      <td>None</td>\n",
       "      <td>None</td>\n",
       "      <td>None</td>\n",
       "      <td>None</td>\n",
       "      <td>None</td>\n",
       "      <td>None</td>\n",
       "    </tr>\n",
       "    <tr>\n",
       "      <th>186</th>\n",
       "      <td>70014939</td>\n",
       "      <td>None</td>\n",
       "      <td>[Pintoricchio, Bernardino]</td>\n",
       "      <td>None</td>\n",
       "      <td>None</td>\n",
       "      <td>Maria mit Kind</td>\n",
       "      <td>None</td>\n",
       "      <td>unvollendet</td>\n",
       "      <td>Tafelmalerei</td>\n",
       "      <td>None</td>\n",
       "      <td>...</td>\n",
       "      <td>None</td>\n",
       "      <td>None</td>\n",
       "      <td>[23,4 x 17,3 cm (Foto), 31,4 x 23,9 cm (Karton)]</td>\n",
       "      <td>Gesamtansicht</td>\n",
       "      <td>None</td>\n",
       "      <td>None</td>\n",
       "      <td>None</td>\n",
       "      <td>None</td>\n",
       "      <td>None</td>\n",
       "      <td>None</td>\n",
       "    </tr>\n",
       "  </tbody>\n",
       "</table>\n",
       "<p>187 rows × 53 columns</p>\n",
       "</div>"
      ],
      "text/plain": [
       "       obj_id obj_id_level2                      artist  \\\n",
       "0    07580354          None     [Piccolpasso, Cipriano]   \n",
       "1    07580354          None     [Piccolpasso, Cipriano]   \n",
       "2    70005169          None                        None   \n",
       "3    70005169          None                        None   \n",
       "4    07580895          None           [Allegretto Nuzi]   \n",
       "..        ...           ...                         ...   \n",
       "182  07650338          None           [Piero di Cosimo]   \n",
       "183  07650338          None           [Piero di Cosimo]   \n",
       "184  07650338          None           [Piero di Cosimo]   \n",
       "185  70014939          None  [Pintoricchio, Bernardino]   \n",
       "186  70014939          None  [Pintoricchio, Bernardino]   \n",
       "\n",
       "    other_artist_attribution                       date  \\\n",
       "0                       None                       None   \n",
       "1                       None                       None   \n",
       "2                       None     [Datierung: 1401/1600]   \n",
       "3                       None     [Datierung: 1401/1600]   \n",
       "4                       None  [Datierung: um 1371/1373]   \n",
       "..                       ...                        ...   \n",
       "182                     None                       None   \n",
       "183                     None                       None   \n",
       "184                     None                       None   \n",
       "185                     None                       None   \n",
       "186                     None                       None   \n",
       "\n",
       "                                                 title description_khi  \\\n",
       "0                 Plan der Fortezza Paolina in Perugia            None   \n",
       "1                 Plan der Fortezza Paolina in Perugia            None   \n",
       "2                         Teile zweier Hochzeitstruhen         Cassone   \n",
       "3                         Teile zweier Hochzeitstruhen         Cassone   \n",
       "4    Die Heiligen Nikolaus von Tolentino, Augustinu...            None   \n",
       "..                                                 ...             ...   \n",
       "182                                  Beweinung Christi            None   \n",
       "183                                  Beweinung Christi            None   \n",
       "184                                  Beweinung Christi            None   \n",
       "185                                     Maria mit Kind            None   \n",
       "186                                     Maria mit Kind            None   \n",
       "\n",
       "          status             genre type_description  ... photo_file_format  \\\n",
       "0           None      Zeichenkunst             None  ...              None   \n",
       "1           None      Zeichenkunst             None  ...              None   \n",
       "2       Fragment  Angewandte Kunst             None  ...               tif   \n",
       "3       Fragment  Angewandte Kunst             None  ...              None   \n",
       "4           None      Tafelmalerei             None  ...               tif   \n",
       "..           ...               ...              ...  ...               ...   \n",
       "182         None      Tafelmalerei             None  ...               tif   \n",
       "183         None      Tafelmalerei             None  ...              None   \n",
       "184         None      Tafelmalerei             None  ...              None   \n",
       "185  unvollendet      Tafelmalerei             None  ...              None   \n",
       "186  unvollendet      Tafelmalerei             None  ...              None   \n",
       "\n",
       "                  photo_equipment  \\\n",
       "0                            None   \n",
       "1                            None   \n",
       "2                   Digitalkamera   \n",
       "3                            None   \n",
       "4                            None   \n",
       "..                            ...   \n",
       "182  Scanner Imacon Flextight 848   \n",
       "183                          None   \n",
       "184                          None   \n",
       "185                          None   \n",
       "186                          None   \n",
       "\n",
       "                                      photo_dimension  \\\n",
       "0                               [24 x 15,9 cm (Foto)]   \n",
       "1                             [23,9 x 16,1 cm (Foto)]   \n",
       "2                                                None   \n",
       "3                             [11,8 x 16,9 cm (Foto)]   \n",
       "4                                                None   \n",
       "..                                                ...   \n",
       "182                                             [6x9]   \n",
       "183                                              None   \n",
       "184  [17,3 x 23,4 cm (Foto), 31,6 x 24,4 cm (Karton)]   \n",
       "185                                              None   \n",
       "186  [23,4 x 17,3 cm (Foto), 31,4 x 23,9 cm (Karton)]   \n",
       "\n",
       "               photo_subject  \\\n",
       "0              Gesamtansicht   \n",
       "1              Gesamtansicht   \n",
       "2              Gesamtansicht   \n",
       "3    Gesamtansicht der Decke   \n",
       "4              Gesamtansicht   \n",
       "..                       ...   \n",
       "182            Gesamtansicht   \n",
       "183            Gesamtansicht   \n",
       "184               Ausschnitt   \n",
       "185            Gesamtansicht   \n",
       "186            Gesamtansicht   \n",
       "\n",
       "                                         photo_comment   photo_file_number  \\\n",
       "0    Signatur zuvor: Arch. Festg. & Signatur zuvor:...  jouve_KHI-Test3354   \n",
       "1                                                 None                None   \n",
       "2                  P001924_RS1244_co_GUBBIO_Pinakoteca       fle0011762x_p   \n",
       "3                                                 None                None   \n",
       "4                                                 None       fle0009144x_p   \n",
       "..                                                 ...                 ...   \n",
       "182                                               None       fln0451144z_p   \n",
       "183                                               None                None   \n",
       "184                                               None                None   \n",
       "185                                               None                None   \n",
       "186                                               None                None   \n",
       "\n",
       "    photo_availability                                  photo_credit_line  \\\n",
       "0             gesperrt                                               None   \n",
       "1                 None                                               None   \n",
       "2                 None  Kunsthistorisches Institut in Florenz – Max-Pl...   \n",
       "3                 None                                               None   \n",
       "4                 None  Kunsthistorisches Institut in Florenz – Max-Pl...   \n",
       "..                 ...                                                ...   \n",
       "182               None  Kunsthistorisches Institut in Florenz – Max-Pl...   \n",
       "183               None                                               None   \n",
       "184               None                                               None   \n",
       "185               None                                               None   \n",
       "186               None                                               None   \n",
       "\n",
       "    photo_old_archival_section photo_preservation_status  \n",
       "0                         None                      None  \n",
       "1                         None                      None  \n",
       "2                         None                      None  \n",
       "3                         None                      None  \n",
       "4                         None                      None  \n",
       "..                         ...                       ...  \n",
       "182                       None                      None  \n",
       "183                       None                      None  \n",
       "184                       None                      None  \n",
       "185                       None                      None  \n",
       "186                       None                      None  \n",
       "\n",
       "[187 rows x 53 columns]"
      ]
     },
     "metadata": {},
     "output_type": "display_data"
    }
   ],
   "source": [
    "# Replace 'INPUT TEXT' with one of the DataFrames mentioned in the above cell. Make sure to remove the quotes.\n",
    "try:\n",
    "    display(globals()[add_filter.value])\n",
    "except KeyError:\n",
    "    print('Please select a DataFrame to filter before executing.')"
   ]
  },
  {
   "cell_type": "markdown",
   "id": "580acb69",
   "metadata": {},
   "source": [
    "<div class=\"alert alert-block alert-warning\">\n",
    "<p style=\"display:inline-block \"><img style=\"display:inline-block; height:22px\" src= 'resources/download2.png' alt='Download icon'> <b>Download Section</b></p>\n",
    "</div>"
   ]
  },
  {
   "cell_type": "markdown",
   "id": "6dddcef5",
   "metadata": {},
   "source": [
    "Follow the instructions to <b>download your DataFrame as CSV file:</b>\n",
    "\n",
    "- Run the cell below.\n",
    "- Choose the file to download between:</br>\n",
    "`file_1` --> to download the `new_filter_by_column` DataFrame</br>\n",
    "`file_2` --> to download the `new_filter_year_operator` DataFrame</br>\n",
    "`file_3` --> to download the `new_filter_year_range` DataFrame"
   ]
  },
  {
   "cell_type": "code",
   "execution_count": 36,
   "id": "97f40620",
   "metadata": {
    "scrolled": true
   },
   "outputs": [
    {
     "data": {
      "application/vnd.jupyter.widget-view+json": {
       "model_id": "f544bab1e4f64f9ea0b352b6e60080fd",
       "version_major": 2,
       "version_minor": 0
      },
      "text/plain": [
       "Combobox(value='', description='Download:', ensure_option=True, options=('file_1', 'file_2', 'file_3'), placeh…"
      ]
     },
     "metadata": {},
     "output_type": "display_data"
    }
   ],
   "source": [
    "display(choose_output)"
   ]
  },
  {
   "cell_type": "markdown",
   "id": "e081e2cf",
   "metadata": {},
   "source": [
    "Run the cell below, then click on the download button. The download should start immediately."
   ]
  },
  {
   "cell_type": "code",
   "execution_count": 45,
   "id": "0c3d6b38",
   "metadata": {},
   "outputs": [
    {
     "data": {
      "application/vnd.jupyter.widget-view+json": {
       "model_id": "59e5e2925c48476686de91f1baa4f57c",
       "version_major": 2,
       "version_minor": 0
      },
      "text/plain": [
       "HTML(value='<html>\\n<head>\\n<meta name=\"viewport\" content=\"width=device-width, initial-scale=1\">\\n</head>\\n<bo…"
      ]
     },
     "metadata": {},
     "output_type": "display_data"
    }
   ],
   "source": [
    "try:\n",
    "    res_0 = new_filter_by_column.to_csv()\n",
    "    res_1 = new_filter_year_range.to_csv()\n",
    "    res_2 = new_filter_year_operator.to_csv()\n",
    "    #File\n",
    "    filename_multfilt = 'new_filtered_data.csv'\n",
    "    b64_0 = base64.b64encode(res_0.encode())\n",
    "    b64_1 = base64.b64encode(res_1.encode())\n",
    "    b64_2 = base64.b64encode(res_2.encode())\n",
    "    file_1 = b64_0.decode()\n",
    "    file_2 = b64_1.decode()\n",
    "    file_3 = b64_2.decode()\n",
    "except NameError:\n",
    "    print('Your file is empty. Check the previous cells.')\n",
    "\n",
    "\n",
    "\n",
    "#Display download button\n",
    "try:\n",
    "    html_button = html_buttons.format(payload=globals()[choose_output.value],filename=filename_multfilt)\n",
    "    display(HTML(html_button))\n",
    "except KeyError:\n",
    "    print('Choose a file and try again.')"
   ]
  },
  {
   "cell_type": "markdown",
   "id": "fbb13446-7705-4c43-a68b-4f2e173272ae",
   "metadata": {},
   "source": [
    "# Sorting Your Data <a id='sort'></a>\n",
    "***"
   ]
  },
  {
   "cell_type": "markdown",
   "id": "ccce1a5b-533c-478c-9ddb-54a29b0815b9",
   "metadata": {},
   "source": [
    "You can sort the data in a DataFrame by selecting a specific column name to organize the rows based on the values within that column. This section allows you to sort the data in ascending order.\n",
    "* Run the following cell to see the filtering tool.\n",
    "* **Choose the column** in the DataFrame by its name that you want to use for sorting in the dropdown menu."
   ]
  },
  {
   "cell_type": "code",
   "execution_count": 46,
   "id": "0cb6db4b",
   "metadata": {
    "scrolled": true
   },
   "outputs": [
    {
     "data": {
      "application/vnd.jupyter.widget-view+json": {
       "model_id": "bb5e7f2109674291851a25424534f46b",
       "version_major": 2,
       "version_minor": 0
      },
      "text/plain": [
       "Dropdown(description='Column:', index=4, options=('obj_id', 'obj_id_level2', 'artist', 'other_artist_attributi…"
      ]
     },
     "metadata": {},
     "output_type": "display_data"
    }
   ],
   "source": [
    "filter_column_widget.options=[column for column in photos_collection.dataframe_no_scan.columns]\n",
    "filter_column_widget.value=photos_collection.dataframe_no_scan.columns[4]\n",
    "display(filter_column_widget)"
   ]
  },
  {
   "cell_type": "markdown",
   "id": "9b5d2b76",
   "metadata": {},
   "source": [
    "Run the following cell to see the result:"
   ]
  },
  {
   "cell_type": "code",
   "execution_count": 47,
   "id": "67144cc1",
   "metadata": {
    "scrolled": true
   },
   "outputs": [
    {
     "data": {
      "text/html": [
       "<div>\n",
       "<style scoped>\n",
       "    .dataframe tbody tr th:only-of-type {\n",
       "        vertical-align: middle;\n",
       "    }\n",
       "\n",
       "    .dataframe tbody tr th {\n",
       "        vertical-align: top;\n",
       "    }\n",
       "\n",
       "    .dataframe thead th {\n",
       "        text-align: right;\n",
       "    }\n",
       "</style>\n",
       "<table border=\"1\" class=\"dataframe\">\n",
       "  <thead>\n",
       "    <tr style=\"text-align: right;\">\n",
       "      <th></th>\n",
       "      <th>obj_id</th>\n",
       "      <th>obj_id_level2</th>\n",
       "      <th>artist</th>\n",
       "      <th>other_artist_attribution</th>\n",
       "      <th>date</th>\n",
       "      <th>title</th>\n",
       "      <th>description_khi</th>\n",
       "      <th>status</th>\n",
       "      <th>genre</th>\n",
       "      <th>type_description</th>\n",
       "      <th>...</th>\n",
       "      <th>photo_file_format</th>\n",
       "      <th>photo_equipment</th>\n",
       "      <th>photo_dimension</th>\n",
       "      <th>photo_subject</th>\n",
       "      <th>photo_comment</th>\n",
       "      <th>photo_file_number</th>\n",
       "      <th>photo_availability</th>\n",
       "      <th>photo_credit_line</th>\n",
       "      <th>photo_old_archival_section</th>\n",
       "      <th>photo_preservation_status</th>\n",
       "    </tr>\n",
       "  </thead>\n",
       "  <tbody>\n",
       "    <tr>\n",
       "      <th>0</th>\n",
       "      <td>70014498</td>\n",
       "      <td>None</td>\n",
       "      <td>None</td>\n",
       "      <td>None</td>\n",
       "      <td>[Datierung: 1/50]</td>\n",
       "      <td>Schranken mit Rankenornament</td>\n",
       "      <td>None</td>\n",
       "      <td>None</td>\n",
       "      <td>Skulptur</td>\n",
       "      <td>Reliefplastik</td>\n",
       "      <td>...</td>\n",
       "      <td>None</td>\n",
       "      <td>None</td>\n",
       "      <td>[16,4 x 22,3 cm (Foto)]</td>\n",
       "      <td>Gesamtansicht</td>\n",
       "      <td>None</td>\n",
       "      <td>None</td>\n",
       "      <td>None</td>\n",
       "      <td>None</td>\n",
       "      <td>None</td>\n",
       "      <td>None</td>\n",
       "    </tr>\n",
       "    <tr>\n",
       "      <th>1</th>\n",
       "      <td>07502410</td>\n",
       "      <td>None</td>\n",
       "      <td>None</td>\n",
       "      <td>None</td>\n",
       "      <td>[Datierung: 1101/1200]</td>\n",
       "      <td>Christus in der Mandorla und die Evangelistens...</td>\n",
       "      <td>None</td>\n",
       "      <td>None</td>\n",
       "      <td>Portalskulptur</td>\n",
       "      <td>Reliefplastik</td>\n",
       "      <td>...</td>\n",
       "      <td>None</td>\n",
       "      <td>None</td>\n",
       "      <td>None</td>\n",
       "      <td>Detail: Markuslöwe von Türsturz und Teil des l...</td>\n",
       "      <td>None</td>\n",
       "      <td>None</td>\n",
       "      <td>None</td>\n",
       "      <td>None</td>\n",
       "      <td>None</td>\n",
       "      <td>None</td>\n",
       "    </tr>\n",
       "    <tr>\n",
       "      <th>2</th>\n",
       "      <td>07502410</td>\n",
       "      <td>None</td>\n",
       "      <td>None</td>\n",
       "      <td>None</td>\n",
       "      <td>[Datierung: 1101/1200]</td>\n",
       "      <td>Christus in der Mandorla und die Evangelistens...</td>\n",
       "      <td>None</td>\n",
       "      <td>None</td>\n",
       "      <td>Portalskulptur</td>\n",
       "      <td>Reliefplastik</td>\n",
       "      <td>...</td>\n",
       "      <td>None</td>\n",
       "      <td>None</td>\n",
       "      <td>None</td>\n",
       "      <td>Detail: Türsturz</td>\n",
       "      <td>None</td>\n",
       "      <td>None</td>\n",
       "      <td>None</td>\n",
       "      <td>None</td>\n",
       "      <td>None</td>\n",
       "      <td>None</td>\n",
       "    </tr>\n",
       "    <tr>\n",
       "      <th>3</th>\n",
       "      <td>07502410</td>\n",
       "      <td>None</td>\n",
       "      <td>None</td>\n",
       "      <td>None</td>\n",
       "      <td>[Datierung: 1101/1200]</td>\n",
       "      <td>Christus in der Mandorla und die Evangelistens...</td>\n",
       "      <td>None</td>\n",
       "      <td>None</td>\n",
       "      <td>Portalskulptur</td>\n",
       "      <td>Reliefplastik</td>\n",
       "      <td>...</td>\n",
       "      <td>None</td>\n",
       "      <td>None</td>\n",
       "      <td>[27,1 x 19,5 cm (Foto)]</td>\n",
       "      <td>Gesamtansicht (Zustand vor Zufügungen von 1890)</td>\n",
       "      <td>None</td>\n",
       "      <td>None</td>\n",
       "      <td>None</td>\n",
       "      <td>None</td>\n",
       "      <td>None</td>\n",
       "      <td>None</td>\n",
       "    </tr>\n",
       "    <tr>\n",
       "      <th>4</th>\n",
       "      <td>07502410</td>\n",
       "      <td>None</td>\n",
       "      <td>None</td>\n",
       "      <td>None</td>\n",
       "      <td>[Datierung: 1101/1200]</td>\n",
       "      <td>Christus in der Mandorla und die Evangelistens...</td>\n",
       "      <td>None</td>\n",
       "      <td>None</td>\n",
       "      <td>Portalskulptur</td>\n",
       "      <td>Reliefplastik</td>\n",
       "      <td>...</td>\n",
       "      <td>None</td>\n",
       "      <td>None</td>\n",
       "      <td>None</td>\n",
       "      <td>Gesamtansicht (oben: Reliefs 19.-20. Jh.)</td>\n",
       "      <td>None</td>\n",
       "      <td>None</td>\n",
       "      <td>None</td>\n",
       "      <td>None</td>\n",
       "      <td>None</td>\n",
       "      <td>None</td>\n",
       "    </tr>\n",
       "    <tr>\n",
       "      <th>...</th>\n",
       "      <td>...</td>\n",
       "      <td>...</td>\n",
       "      <td>...</td>\n",
       "      <td>...</td>\n",
       "      <td>...</td>\n",
       "      <td>...</td>\n",
       "      <td>...</td>\n",
       "      <td>...</td>\n",
       "      <td>...</td>\n",
       "      <td>...</td>\n",
       "      <td>...</td>\n",
       "      <td>...</td>\n",
       "      <td>...</td>\n",
       "      <td>...</td>\n",
       "      <td>...</td>\n",
       "      <td>...</td>\n",
       "      <td>...</td>\n",
       "      <td>...</td>\n",
       "      <td>...</td>\n",
       "      <td>...</td>\n",
       "      <td>...</td>\n",
       "    </tr>\n",
       "    <tr>\n",
       "      <th>137</th>\n",
       "      <td>07651021</td>\n",
       "      <td>None</td>\n",
       "      <td>None</td>\n",
       "      <td>None</td>\n",
       "      <td>[Datierung: 346/355]</td>\n",
       "      <td>Altchristlicher Sarkophag</td>\n",
       "      <td>None</td>\n",
       "      <td>None</td>\n",
       "      <td>Skulptur</td>\n",
       "      <td>None</td>\n",
       "      <td>...</td>\n",
       "      <td>None</td>\n",
       "      <td>None</td>\n",
       "      <td>[6x9]</td>\n",
       "      <td>Teilansicht: Darstellungen mit Putten und eine...</td>\n",
       "      <td>KHI Neg. 300</td>\n",
       "      <td>None</td>\n",
       "      <td>None</td>\n",
       "      <td>None</td>\n",
       "      <td>None</td>\n",
       "      <td>None</td>\n",
       "    </tr>\n",
       "    <tr>\n",
       "      <th>138</th>\n",
       "      <td>07651021</td>\n",
       "      <td>None</td>\n",
       "      <td>None</td>\n",
       "      <td>None</td>\n",
       "      <td>[Datierung: 346/355]</td>\n",
       "      <td>Altchristlicher Sarkophag</td>\n",
       "      <td>None</td>\n",
       "      <td>None</td>\n",
       "      <td>Skulptur</td>\n",
       "      <td>None</td>\n",
       "      <td>...</td>\n",
       "      <td>None</td>\n",
       "      <td>None</td>\n",
       "      <td>[6x9]</td>\n",
       "      <td>Teilansicht: linke Apostelgruppe</td>\n",
       "      <td>KHI Neg. 301</td>\n",
       "      <td>None</td>\n",
       "      <td>None</td>\n",
       "      <td>None</td>\n",
       "      <td>None</td>\n",
       "      <td>None</td>\n",
       "    </tr>\n",
       "    <tr>\n",
       "      <th>139</th>\n",
       "      <td>07651021</td>\n",
       "      <td>None</td>\n",
       "      <td>None</td>\n",
       "      <td>None</td>\n",
       "      <td>[Datierung: 346/355]</td>\n",
       "      <td>Altchristlicher Sarkophag</td>\n",
       "      <td>None</td>\n",
       "      <td>None</td>\n",
       "      <td>Skulptur</td>\n",
       "      <td>None</td>\n",
       "      <td>...</td>\n",
       "      <td>None</td>\n",
       "      <td>None</td>\n",
       "      <td>[16,6 x 22,5 cm (Foto)]</td>\n",
       "      <td>Gesamtansicht</td>\n",
       "      <td>None</td>\n",
       "      <td>None</td>\n",
       "      <td>None</td>\n",
       "      <td>None</td>\n",
       "      <td>None</td>\n",
       "      <td>None</td>\n",
       "    </tr>\n",
       "    <tr>\n",
       "      <th>140</th>\n",
       "      <td>07651021</td>\n",
       "      <td>None</td>\n",
       "      <td>None</td>\n",
       "      <td>None</td>\n",
       "      <td>[Datierung: 346/355]</td>\n",
       "      <td>Altchristlicher Sarkophag</td>\n",
       "      <td>None</td>\n",
       "      <td>None</td>\n",
       "      <td>Skulptur</td>\n",
       "      <td>None</td>\n",
       "      <td>...</td>\n",
       "      <td>tif</td>\n",
       "      <td>Scanner Imacon Flextight 848</td>\n",
       "      <td>[6x9]</td>\n",
       "      <td>Gesamtansicht</td>\n",
       "      <td>None</td>\n",
       "      <td>fln0594225x_p</td>\n",
       "      <td>None</td>\n",
       "      <td>Kunsthistorisches Institut in Florenz – Max-Pl...</td>\n",
       "      <td>None</td>\n",
       "      <td>None</td>\n",
       "    </tr>\n",
       "    <tr>\n",
       "      <th>141</th>\n",
       "      <td>07651021</td>\n",
       "      <td>None</td>\n",
       "      <td>None</td>\n",
       "      <td>None</td>\n",
       "      <td>[Datierung: 346/355]</td>\n",
       "      <td>Altchristlicher Sarkophag</td>\n",
       "      <td>None</td>\n",
       "      <td>None</td>\n",
       "      <td>Skulptur</td>\n",
       "      <td>None</td>\n",
       "      <td>...</td>\n",
       "      <td>None</td>\n",
       "      <td>None</td>\n",
       "      <td>[6x9]</td>\n",
       "      <td>Teilansicht: Darstellungen mit Putten und eine...</td>\n",
       "      <td>KHI Neg. 302</td>\n",
       "      <td>None</td>\n",
       "      <td>None</td>\n",
       "      <td>None</td>\n",
       "      <td>None</td>\n",
       "      <td>None</td>\n",
       "    </tr>\n",
       "  </tbody>\n",
       "</table>\n",
       "<p>142 rows × 53 columns</p>\n",
       "</div>"
      ],
      "text/plain": [
       "       obj_id obj_id_level2 artist other_artist_attribution  \\\n",
       "0    70014498          None   None                     None   \n",
       "1    07502410          None   None                     None   \n",
       "2    07502410          None   None                     None   \n",
       "3    07502410          None   None                     None   \n",
       "4    07502410          None   None                     None   \n",
       "..        ...           ...    ...                      ...   \n",
       "137  07651021          None   None                     None   \n",
       "138  07651021          None   None                     None   \n",
       "139  07651021          None   None                     None   \n",
       "140  07651021          None   None                     None   \n",
       "141  07651021          None   None                     None   \n",
       "\n",
       "                       date  \\\n",
       "0         [Datierung: 1/50]   \n",
       "1    [Datierung: 1101/1200]   \n",
       "2    [Datierung: 1101/1200]   \n",
       "3    [Datierung: 1101/1200]   \n",
       "4    [Datierung: 1101/1200]   \n",
       "..                      ...   \n",
       "137    [Datierung: 346/355]   \n",
       "138    [Datierung: 346/355]   \n",
       "139    [Datierung: 346/355]   \n",
       "140    [Datierung: 346/355]   \n",
       "141    [Datierung: 346/355]   \n",
       "\n",
       "                                                 title description_khi status  \\\n",
       "0                         Schranken mit Rankenornament            None   None   \n",
       "1    Christus in der Mandorla und die Evangelistens...            None   None   \n",
       "2    Christus in der Mandorla und die Evangelistens...            None   None   \n",
       "3    Christus in der Mandorla und die Evangelistens...            None   None   \n",
       "4    Christus in der Mandorla und die Evangelistens...            None   None   \n",
       "..                                                 ...             ...    ...   \n",
       "137                          Altchristlicher Sarkophag            None   None   \n",
       "138                          Altchristlicher Sarkophag            None   None   \n",
       "139                          Altchristlicher Sarkophag            None   None   \n",
       "140                          Altchristlicher Sarkophag            None   None   \n",
       "141                          Altchristlicher Sarkophag            None   None   \n",
       "\n",
       "              genre type_description  ... photo_file_format  \\\n",
       "0          Skulptur    Reliefplastik  ...              None   \n",
       "1    Portalskulptur    Reliefplastik  ...              None   \n",
       "2    Portalskulptur    Reliefplastik  ...              None   \n",
       "3    Portalskulptur    Reliefplastik  ...              None   \n",
       "4    Portalskulptur    Reliefplastik  ...              None   \n",
       "..              ...              ...  ...               ...   \n",
       "137        Skulptur             None  ...              None   \n",
       "138        Skulptur             None  ...              None   \n",
       "139        Skulptur             None  ...              None   \n",
       "140        Skulptur             None  ...               tif   \n",
       "141        Skulptur             None  ...              None   \n",
       "\n",
       "                  photo_equipment          photo_dimension  \\\n",
       "0                            None  [16,4 x 22,3 cm (Foto)]   \n",
       "1                            None                     None   \n",
       "2                            None                     None   \n",
       "3                            None  [27,1 x 19,5 cm (Foto)]   \n",
       "4                            None                     None   \n",
       "..                            ...                      ...   \n",
       "137                          None                    [6x9]   \n",
       "138                          None                    [6x9]   \n",
       "139                          None  [16,6 x 22,5 cm (Foto)]   \n",
       "140  Scanner Imacon Flextight 848                    [6x9]   \n",
       "141                          None                    [6x9]   \n",
       "\n",
       "                                         photo_subject photo_comment  \\\n",
       "0                                        Gesamtansicht          None   \n",
       "1    Detail: Markuslöwe von Türsturz und Teil des l...          None   \n",
       "2                                     Detail: Türsturz          None   \n",
       "3      Gesamtansicht (Zustand vor Zufügungen von 1890)          None   \n",
       "4            Gesamtansicht (oben: Reliefs 19.-20. Jh.)          None   \n",
       "..                                                 ...           ...   \n",
       "137  Teilansicht: Darstellungen mit Putten und eine...  KHI Neg. 300   \n",
       "138                   Teilansicht: linke Apostelgruppe  KHI Neg. 301   \n",
       "139                                      Gesamtansicht          None   \n",
       "140                                      Gesamtansicht          None   \n",
       "141  Teilansicht: Darstellungen mit Putten und eine...  KHI Neg. 302   \n",
       "\n",
       "    photo_file_number photo_availability  \\\n",
       "0                None               None   \n",
       "1                None               None   \n",
       "2                None               None   \n",
       "3                None               None   \n",
       "4                None               None   \n",
       "..                ...                ...   \n",
       "137              None               None   \n",
       "138              None               None   \n",
       "139              None               None   \n",
       "140     fln0594225x_p               None   \n",
       "141              None               None   \n",
       "\n",
       "                                     photo_credit_line  \\\n",
       "0                                                 None   \n",
       "1                                                 None   \n",
       "2                                                 None   \n",
       "3                                                 None   \n",
       "4                                                 None   \n",
       "..                                                 ...   \n",
       "137                                               None   \n",
       "138                                               None   \n",
       "139                                               None   \n",
       "140  Kunsthistorisches Institut in Florenz – Max-Pl...   \n",
       "141                                               None   \n",
       "\n",
       "    photo_old_archival_section photo_preservation_status  \n",
       "0                         None                      None  \n",
       "1                         None                      None  \n",
       "2                         None                      None  \n",
       "3                         None                      None  \n",
       "4                         None                      None  \n",
       "..                         ...                       ...  \n",
       "137                       None                      None  \n",
       "138                       None                      None  \n",
       "139                       None                      None  \n",
       "140                       None                      None  \n",
       "141                       None                      None  \n",
       "\n",
       "[142 rows x 53 columns]"
      ]
     },
     "metadata": {},
     "output_type": "display_data"
    }
   ],
   "source": [
    "sort_by_column = photos_collection.sort_columns_by(filter_column_widget.value)\n",
    "display(sort_by_column)"
   ]
  },
  {
   "cell_type": "markdown",
   "id": "ae4b1bd4",
   "metadata": {},
   "source": [
    "<div class=\"alert alert-block alert-warning\">\n",
    "<p style=\"display:inline-block \"><img style=\"display:inline-block; height:22px\" src= 'resources/download2.png' alt='Download icon'> <b>Download Section</b></p>\n",
    "</div>"
   ]
  },
  {
   "cell_type": "markdown",
   "id": "a90f0697",
   "metadata": {},
   "source": [
    "Follow the instructions to <b>download your DataFrame as CSV file:</b>\n",
    "\n",
    "- Run the cell below.\n",
    "- Click on the download button below. The download should start immediately."
   ]
  },
  {
   "cell_type": "code",
   "execution_count": 48,
   "id": "8e08a5e1",
   "metadata": {},
   "outputs": [
    {
     "data": {
      "application/vnd.jupyter.widget-view+json": {
       "model_id": "a8dad95c5ecb476f924fc395f63db3d4",
       "version_major": 2,
       "version_minor": 0
      },
      "text/plain": [
       "HTML(value='<html>\\n<head>\\n<meta name=\"viewport\" content=\"width=device-width, initial-scale=1\">\\n</head>\\n<bo…"
      ]
     },
     "metadata": {},
     "output_type": "display_data"
    }
   ],
   "source": [
    "try:\n",
    "    res_sort = sort_by_column.to_csv()\n",
    "\n",
    "    #File\n",
    "    filename_sort = 'table_sorted_by_column.csv'\n",
    "    b64_sort = base64.b64encode(res_sort.encode())\n",
    "    payload_sort = b64_sort.decode()\n",
    "except NameError:\n",
    "    print('Your file is empty. Check the previous cells and try again.')\n",
    "\n",
    "#Display download button\n",
    "try:\n",
    "    html_button = html_buttons.format(payload=payload_sort,filename=filename_sort)\n",
    "    display(HTML(html_button))\n",
    "except NameError:\n",
    "    print('')"
   ]
  },
  {
   "cell_type": "markdown",
   "id": "d367a53f",
   "metadata": {},
   "source": [
    "# Get Individual Artwork or Photograph Information<a id='specific'></a>\n",
    "***"
   ]
  },
  {
   "cell_type": "markdown",
   "id": "7a504755",
   "metadata": {},
   "source": [
    "### Get data about a specific artwork"
   ]
  },
  {
   "cell_type": "markdown",
   "id": "2b33b0de",
   "metadata": {},
   "source": [
    "You can view details about a **specific artwork** from your dataset without including data about the related photos - just the photograph ID.\n",
    "* **Run** the following cell to use the filtering tool.\n",
    "* Select an artwork from the DataFrame you've already extracted and paste the **artwork ID** from the `obj_id` column."
   ]
  },
  {
   "cell_type": "code",
   "execution_count": 56,
   "id": "2da0e388",
   "metadata": {
    "scrolled": true
   },
   "outputs": [
    {
     "data": {
      "application/vnd.jupyter.widget-view+json": {
       "model_id": "03e34bad4d8948e59f0e79f54cf2add3",
       "version_major": 2,
       "version_minor": 0
      },
      "text/plain": [
       "Text(value='', description='Artwork ID:', placeholder='Input artwork ID')"
      ]
     },
     "metadata": {},
     "output_type": "display_data"
    }
   ],
   "source": [
    "display(info_input_id_obj)"
   ]
  },
  {
   "cell_type": "markdown",
   "id": "f0cf3c08",
   "metadata": {},
   "source": [
    "Run the following cell to see the result. Remember that **each row of the DataFrame represents a photograph** of the artwork you are searching. You can see the photographs IDs in the last column."
   ]
  },
  {
   "cell_type": "code",
   "execution_count": 71,
   "id": "90dcf40e",
   "metadata": {
    "scrolled": true
   },
   "outputs": [
    {
     "name": "stdout",
     "output_type": "stream",
     "text": [
      "No results. Input a valid artwork ID in the cell above.\n"
     ]
    }
   ],
   "source": [
    "if len(single_artwork_data) > 1:\n",
    "    single_artwork_data = photos_collection.get_artwork_info(info_input_id_obj.value)\n",
    "    pd.set_option('display.max_colwidth', 0)\n",
    "    display(single_artwork_data)\n",
    "else:\n",
    "    print('No results. Input a valid artwork ID in the cell above.')    "
   ]
  },
  {
   "cell_type": "markdown",
   "id": "ae306053",
   "metadata": {},
   "source": [
    "<div class=\"alert alert-block alert-warning\">\n",
    "<p style=\"display:inline-block \"><img style=\"display:inline-block; height:22px\" src= 'resources/download2.png' alt='Download icon'> <b>Download Section</b></p>\n",
    "</div>"
   ]
  },
  {
   "cell_type": "markdown",
   "id": "6468281e",
   "metadata": {},
   "source": [
    "Follow the instructions to <b>download your DataFrame as CSV file:</b>\n",
    "\n",
    "- Run the cell below.\n",
    "- Click on the download button below. The download should start immediately."
   ]
  },
  {
   "cell_type": "code",
   "execution_count": 69,
   "id": "36619393",
   "metadata": {},
   "outputs": [
    {
     "data": {
      "application/vnd.jupyter.widget-view+json": {
       "model_id": "0c9a1ea58a4041fe9ecd81fee9e88cbd",
       "version_major": 2,
       "version_minor": 0
      },
      "text/plain": [
       "HTML(value='<html>\\n<head>\\n<meta name=\"viewport\" content=\"width=device-width, initial-scale=1\">\\n</head>\\n<bo…"
      ]
     },
     "metadata": {},
     "output_type": "display_data"
    }
   ],
   "source": [
    "try:\n",
    "    res_info = single_artwork_data.to_csv()\n",
    "\n",
    "    #File\n",
    "    filename_info = f'artwork_{info_input_id_obj.value}.csv'\n",
    "    b64_info = base64.b64encode(res_info.encode())\n",
    "    payload_info = b64_info.decode()\n",
    "except NameError:\n",
    "    print('Your file is empty. Check the previous cells and try again.')\n",
    "\n",
    "#Display download button\n",
    "\n",
    "try:\n",
    "    html_button = html_buttons.format(payload=payload_info,filename=filename_info)\n",
    "    display(HTML(html_button))\n",
    "except NameError:\n",
    "    print('')"
   ]
  },
  {
   "cell_type": "markdown",
   "id": "a89f5c50",
   "metadata": {},
   "source": [
    "### Get data about a specific photo"
   ]
  },
  {
   "cell_type": "markdown",
   "id": "53b59a19",
   "metadata": {},
   "source": [
    "If you'd like, you can also extract data about a single photo.\n",
    "\n",
    "* **Execute** the following cell to activate the filtering tool.\n",
    "* Then, paste the **photograph ID** from the `photo_id` column in your DataFrame."
   ]
  },
  {
   "cell_type": "code",
   "execution_count": 52,
   "id": "3a72a1e5",
   "metadata": {},
   "outputs": [
    {
     "data": {
      "application/vnd.jupyter.widget-view+json": {
       "model_id": "b0cfd9d2cbd04ab6b38efc12071b106b",
       "version_major": 2,
       "version_minor": 0
      },
      "text/plain": [
       "Text(value='', description='Photo ID:', placeholder='Input photo ID')"
      ]
     },
     "metadata": {},
     "output_type": "display_data"
    }
   ],
   "source": [
    "display(info_input_id_ph)"
   ]
  },
  {
   "cell_type": "markdown",
   "id": "56c3833c",
   "metadata": {},
   "source": [
    "Run the following cell to see **information about the photo**."
   ]
  },
  {
   "cell_type": "code",
   "execution_count": 66,
   "id": "0283d959",
   "metadata": {},
   "outputs": [
    {
     "name": "stdout",
     "output_type": "stream",
     "text": [
      "No results. Input a valid photo ID in the cell above.\n"
     ]
    }
   ],
   "source": [
    "try:\n",
    "    single_photo_data = photos_collection.get_photo_info(info_input_id_ph.value)\n",
    "    pd.set_option('display.max_colwidth', 0)\n",
    "    display(single_photo_data)\n",
    "except KeyError:\n",
    "    print('No results. Input a valid photo ID in the cell above.')"
   ]
  },
  {
   "cell_type": "markdown",
   "id": "67ec6ab7",
   "metadata": {},
   "source": [
    "<div class=\"alert alert-block alert-warning\">\n",
    "<p style=\"display:inline-block \"><img style=\"display:inline-block; height:22px\" src= 'resources/download2.png' alt='Download icon'> <b>Download Section</b></p>\n",
    "</div>"
   ]
  },
  {
   "cell_type": "markdown",
   "id": "180a9409",
   "metadata": {},
   "source": [
    "Follow the instructions to <b>download your DataFrame as CSV file:</b>\n",
    "\n",
    "- Run the cell below.\n",
    "- Click on the download button below. The download should start immediately."
   ]
  },
  {
   "cell_type": "code",
   "execution_count": 72,
   "id": "92c988f4",
   "metadata": {},
   "outputs": [
    {
     "name": "stdout",
     "output_type": "stream",
     "text": [
      "Your file is empty. Check the previous cells and try again.\n",
      "\n"
     ]
    }
   ],
   "source": [
    "try:\n",
    "    res_infoph = single_photo_data.to_csv()\n",
    "\n",
    "    #File\n",
    "    filename_infoph = f'photo_{info_input_id_ph.value}.csv'\n",
    "    b64_infoph = base64.b64encode(res_infoph.encode())\n",
    "    payload_infoph = b64_infoph.decode()\n",
    "except NameError:\n",
    "    print('Your file is empty. Check the previous cells and try again.')\n",
    "    \n",
    "\n",
    "#Display download button\n",
    "try:\n",
    "    html_button = html_buttons.format(payload=payload_infoph,filename=filename_infoph)\n",
    "    display(HTML(html_button))\n",
    "except NameError:\n",
    "    print('')"
   ]
  },
  {
   "cell_type": "markdown",
   "id": "e215c4da",
   "metadata": {},
   "source": [
    "# Data Visualization Tool<a id='visualization'></a>\n",
    "***"
   ]
  },
  {
   "cell_type": "markdown",
   "id": "7884605e-4f86-4e23-94ba-c4a25a519bcb",
   "metadata": {},
   "source": [
    "To obtain a visualization of the data in your dataset, **select a column** to display its content and the **type of chart** you want to use."
   ]
  },
  {
   "cell_type": "markdown",
   "id": "22e761b0",
   "metadata": {},
   "source": [
    "<div class=\"alert alert-block alert-info\">\n",
    "    <b>Note:</b> Keep in mind that not all visualization methods will work well with every dataset. Feel free to experiment with different visualization techniques to discover which one best suits your specific dataset and analysis needs.</div>"
   ]
  },
  {
   "cell_type": "markdown",
   "id": "c362035a",
   "metadata": {},
   "source": [
    "If you need inspiration, you can test the following pairs:"
   ]
  },
  {
   "cell_type": "markdown",
   "id": "3629617d",
   "metadata": {},
   "source": [
    "<table style=\"font-size:10pt; text-align:left; margin-left:0;\">\n",
    "  <tr style=\"border-bottom: 1px solid #ddd;\">\n",
    "    <th style=\"text-align:left; background-color: #c8e29d\">Column</th>\n",
    "    <th style=\"text-align:left; background-color: #c8e29d\">Plot type </th>\n",
    "  </tr>\n",
    "  <tr style=\"border-bottom: 1px solid #ddd;\">\n",
    "      <td style=\"text-align:left; background-color:white;\">artist<br>object_administrator<br>type_category</td>\n",
    "    <td style=\"text-align:left; background-color:white;\">Bar Chart (bar)</td>\n",
    "  </tr>\n",
    "  <tr style=\"border-bottom: 1px solid #ddd;\">\n",
    "    <td style=\"text-align:left; background-color:white;\">photo_date<br>photo_entry_archival_date</td>\n",
    "    <td style=\"text-align:left; background-color:white;\">Line Chart (line)</td>\n",
    "  </tr>\n",
    "  <tr style=\"border-bottom: 1px solid #ddd;\">\n",
    "    <td style=\"text-align:left; background-color:white;\">genre<br>type_description<br>photo_archival_section, material</td>\n",
    "    <td style=\"text-align:left; background-color:white;\">Pie Chart (pie) or Donut Chart (donut)</td>\n",
    "  </tr>\n",
    "</table>"
   ]
  },
  {
   "cell_type": "markdown",
   "id": "9c483a5e",
   "metadata": {},
   "source": [
    "The file you uploaded in the <a href='#upload'>first section of the notebook</a> will be used to provide data visualization. If you'd like to use another DataFrame (for example, the output of a filtering process), you can replace `photos_collection.dataframe_no_scan` with the name of the DataFrame in the cell below."
   ]
  },
  {
   "cell_type": "markdown",
   "id": "34ee0b69",
   "metadata": {},
   "source": [
    "- Execute the following cell to see the tools to create your data visualization.\n",
    "- Select the data to represent and the type of chart."
   ]
  },
  {
   "cell_type": "code",
   "execution_count": 73,
   "id": "e6088511-791f-4530-ac84-310bbbc9b1de",
   "metadata": {},
   "outputs": [
    {
     "data": {
      "application/vnd.jupyter.widget-view+json": {
       "model_id": "54e56e5018844b1197b1c3a8299a29a4",
       "version_major": 2,
       "version_minor": 0
      },
      "text/plain": [
       "Dropdown(description='Column:', index=2, options=('obj_id', 'obj_id_level2', 'artist', 'other_artist_attributi…"
      ]
     },
     "metadata": {},
     "output_type": "display_data"
    },
    {
     "data": {
      "application/vnd.jupyter.widget-view+json": {
       "model_id": "1a77d2870d274778b4f88d813826fae3",
       "version_major": 2,
       "version_minor": 0
      },
      "text/plain": [
       "Dropdown(description='Plot type:', options=('bar', 'line', 'pie', 'donut'), value='bar')"
      ]
     },
     "metadata": {},
     "output_type": "display_data"
    }
   ],
   "source": [
    "x_widget.options = photos_collection.dataframe_no_scan.columns\n",
    "x_widget.value = photos_collection.dataframe_no_scan.columns[2]\n",
    "display(x_widget, y_widget)"
   ]
  },
  {
   "cell_type": "markdown",
   "id": "71c46adb",
   "metadata": {},
   "source": [
    "Execute the cell below to see the result:"
   ]
  },
  {
   "cell_type": "code",
   "execution_count": 74,
   "id": "fcd62d90",
   "metadata": {
    "scrolled": false
   },
   "outputs": [
    {
     "data": {
      "image/png": "[encoded data removed]",
      "text/plain": [
       "<Figure size 1500x600 with 1 Axes>"
      ]
     },
     "metadata": {},
     "output_type": "display_data"
    }
   ],
   "source": [
    "try:\n",
    "    photos_collection.plot_values(x_widget.value, y_widget.value)\n",
    "except KeyError:\n",
    "    print('Select the data to display in the cell above.')"
   ]
  },
  {
   "cell_type": "markdown",
   "id": "10b184d9",
   "metadata": {},
   "source": [
    "<div class=\"alert alert-block alert-info\">\n",
    "    <b>Note:</b> To save the chart image directly to your device, simply right-click on the chart and choose the \"Save image as...\" option from the menu.</div>"
   ]
  },
  {
   "cell_type": "markdown",
   "id": "aad011a4",
   "metadata": {},
   "source": [
    "# Helpful Resources and Links <a id='useful'></a>\n",
    "***"
   ]
  },
  {
   "cell_type": "markdown",
   "id": "ccf5e35e",
   "metadata": {},
   "source": [
    "* Jupyter Notebook Documentation: <a href=\"https://docs.jupyter.org/en/latest/\" target=\"blank\"> https://docs.jupyter.org/en/latest/</a>\n",
    "* Python Documentation: <a href=\"https://docs.python.org/3/\" target=\"blank\">https://docs.python.org/3/</a>\n",
    "* Pandas Documentation: <a href=\"https://pandas.pydata.org/docs/\" target=\"blank\">https://pandas.pydata.org/docs/</a>\n",
    "\n"
   ]
  },
  {
   "cell_type": "markdown",
   "id": "18c1da18",
   "metadata": {},
   "source": [
    "# Contacts<a id='contact'></a>\n",
    "***\n",
    "* For assistance or questions please contact [alessandra.failla@hotmail.it](mailto:alessandra.failla@hotmail.it)\n",
    "* All resources related to this notebook are accessible on the associated GitHub Repository: </br><a href=\"https://github.com/AlessandraFa/photo-archive-data-analysis-framework.git\" target=\"blank\">https://github.com/AlessandraFa/photo-archive-data-analysis-framework.git</a>"
   ]
  },
  {
   "cell_type": "code",
   "execution_count": null,
   "id": "321710d8",
   "metadata": {},
   "outputs": [],
   "source": []
  }
 ],
 "metadata": {
  "kernelspec": {
   "display_name": "Python 3 (ipykernel)",
   "language": "python",
   "name": "python3"
  },
  "language_info": {
   "codemirror_mode": {
    "name": "ipython",
    "version": 3
   },
   "file_extension": ".py",
   "mimetype": "text/x-python",
   "name": "python",
   "nbconvert_exporter": "python",
   "pygments_lexer": "ipython3",
   "version": "3.10.9"
  }
 },
 "nbformat": 4,
 "nbformat_minor": 5
}
