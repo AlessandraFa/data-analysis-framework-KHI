{
 "cells": [
  {
   "cell_type": "markdown",
   "id": "db0d04b8",
   "metadata": {},
   "source": [
    "# Data Analysis Framework for Photographic Collection Data from the KHI"
   ]
  },
  {
   "cell_type": "markdown",
   "id": "e952f9c1",
   "metadata": {},
   "source": [
    "Introductory text"
   ]
  },
  {
   "cell_type": "markdown",
   "id": "882935e2",
   "metadata": {},
   "source": [
    "## Dataset introduction"
   ]
  },
  {
   "cell_type": "markdown",
   "id": "95dda3b1",
   "metadata": {},
   "source": [
    "Text content"
   ]
  },
  {
   "cell_type": "markdown",
   "id": "352ee69f",
   "metadata": {},
   "source": [
    "## Table of content"
   ]
  },
  {
   "cell_type": "markdown",
   "id": "a2941105",
   "metadata": {},
   "source": [
    "Table of content"
   ]
  },
  {
   "cell_type": "markdown",
   "id": "ecfdddd1",
   "metadata": {},
   "source": [
    "## 0. Preparation"
   ]
  },
  {
   "cell_type": "code",
   "execution_count": 7,
   "id": "db84a716",
   "metadata": {},
   "outputs": [
    {
     "name": "stdout",
     "output_type": "stream",
     "text": [
      "Requirement already satisfied: pathlib in /Users/alessandrafailla/anaconda3/lib/python3.10/site-packages (1.0.1)\n",
      "Requirement already satisfied: numpy in /Users/alessandrafailla/anaconda3/lib/python3.10/site-packages (1.23.5)\n",
      "Requirement already satisfied: matplotlib in /Users/alessandrafailla/anaconda3/lib/python3.10/site-packages (3.7.0)\n",
      "Requirement already satisfied: contourpy>=1.0.1 in /Users/alessandrafailla/anaconda3/lib/python3.10/site-packages (from matplotlib) (1.0.5)\n",
      "Requirement already satisfied: cycler>=0.10 in /Users/alessandrafailla/anaconda3/lib/python3.10/site-packages (from matplotlib) (0.11.0)\n",
      "Requirement already satisfied: fonttools>=4.22.0 in /Users/alessandrafailla/anaconda3/lib/python3.10/site-packages (from matplotlib) (4.25.0)\n",
      "Requirement already satisfied: kiwisolver>=1.0.1 in /Users/alessandrafailla/anaconda3/lib/python3.10/site-packages (from matplotlib) (1.4.4)\n",
      "Requirement already satisfied: numpy>=1.20 in /Users/alessandrafailla/anaconda3/lib/python3.10/site-packages (from matplotlib) (1.23.5)\n",
      "Requirement already satisfied: packaging>=20.0 in /Users/alessandrafailla/anaconda3/lib/python3.10/site-packages (from matplotlib) (23.1)\n",
      "Requirement already satisfied: pillow>=6.2.0 in /Users/alessandrafailla/anaconda3/lib/python3.10/site-packages (from matplotlib) (9.4.0)\n",
      "Requirement already satisfied: pyparsing>=2.3.1 in /Users/alessandrafailla/anaconda3/lib/python3.10/site-packages (from matplotlib) (3.0.9)\n",
      "Requirement already satisfied: python-dateutil>=2.7 in /Users/alessandrafailla/anaconda3/lib/python3.10/site-packages (from matplotlib) (2.8.2)\n",
      "Requirement already satisfied: six>=1.5 in /Users/alessandrafailla/anaconda3/lib/python3.10/site-packages (from python-dateutil>=2.7->matplotlib) (1.16.0)\n",
      "Requirement already satisfied: pandas in /Users/alessandrafailla/anaconda3/lib/python3.10/site-packages (1.5.3)\n",
      "Requirement already satisfied: python-dateutil>=2.8.1 in /Users/alessandrafailla/anaconda3/lib/python3.10/site-packages (from pandas) (2.8.2)\n",
      "Requirement already satisfied: pytz>=2020.1 in /Users/alessandrafailla/anaconda3/lib/python3.10/site-packages (from pandas) (2022.7)\n",
      "Requirement already satisfied: numpy>=1.21.0 in /Users/alessandrafailla/anaconda3/lib/python3.10/site-packages (from pandas) (1.23.5)\n",
      "Requirement already satisfied: six>=1.5 in /Users/alessandrafailla/anaconda3/lib/python3.10/site-packages (from python-dateutil>=2.8.1->pandas) (1.16.0)\n"
     ]
    }
   ],
   "source": [
    "!pip install pathlib\n",
    "!pip install numpy\n",
    "!pip install matplotlib\n",
    "!pip install pandas"
   ]
  },
  {
   "cell_type": "code",
   "execution_count": 3,
   "id": "b8b7ec65",
   "metadata": {},
   "outputs": [],
   "source": [
    "# To prevent SSL certificate failure\n",
    "import os, ssl\n",
    "if (not os.environ.get('PYTHONHTTPSVERIFY', '') and\n",
    "    getattr(ssl, '_create_unverified_context', None)):\n",
    "    ssl._create_default_https_context = ssl._create_unverified_context\n",
    "\n",
    "import pathlib\n",
    "import xml.etree.ElementTree as ET\n",
    "import re\n",
    "from pprint import pprint\n",
    "from resources.PhotoAttributes import PhotoAttributes\n",
    "from resources.dictionaries_file import *\n",
    "from resources.classes_file import *\n",
    "import numpy\n",
    "import matplotlib.pyplot as plt\n",
    "import pandas as pd\n",
    "from pandas.api.types import is_datetime64_any_dtype as is_datetime"
   ]
  },
  {
   "cell_type": "code",
   "execution_count": 4,
   "id": "19cd995c",
   "metadata": {},
   "outputs": [],
   "source": [
    "%run /Users/alessandrafailla/Desktop/TESI_DHDK_2024/thesis_code/jupyter_notebook_project/resources/dataclasses_creation.py"
   ]
  },
  {
   "cell_type": "markdown",
   "id": "317b450a",
   "metadata": {},
   "source": [
    "## Upload your KHI dataset"
   ]
  },
  {
   "cell_type": "markdown",
   "id": "d78694c6",
   "metadata": {},
   "source": [
    "Replace ___ with the name of your file?"
   ]
  },
  {
   "cell_type": "code",
   "execution_count": null,
   "id": "c9bd11a3",
   "metadata": {},
   "outputs": [],
   "source": []
  },
  {
   "cell_type": "markdown",
   "id": "ba9a7440",
   "metadata": {},
   "source": [
    "### Dataset Information"
   ]
  },
  {
   "cell_type": "code",
   "execution_count": null,
   "id": "520dbb8e",
   "metadata": {},
   "outputs": [],
   "source": []
  },
  {
   "cell_type": "markdown",
   "id": "257aef54",
   "metadata": {},
   "source": []
  },
  {
   "cell_type": "markdown",
   "id": "c9bdae34",
   "metadata": {},
   "source": [
    "## Filter photograph dataset"
   ]
  },
  {
   "cell_type": "code",
   "execution_count": null,
   "id": "b78dd67d",
   "metadata": {},
   "outputs": [],
   "source": []
  },
  {
   "cell_type": "markdown",
   "id": "e215c4da",
   "metadata": {},
   "source": [
    "## Data visualization"
   ]
  },
  {
   "cell_type": "code",
   "execution_count": null,
   "id": "fcd62d90",
   "metadata": {},
   "outputs": [],
   "source": []
  },
  {
   "cell_type": "markdown",
   "id": "fd7cfd51",
   "metadata": {},
   "source": [
    "## Download results"
   ]
  },
  {
   "cell_type": "code",
   "execution_count": null,
   "id": "8803464a",
   "metadata": {},
   "outputs": [],
   "source": []
  }
 ],
 "metadata": {
  "kernelspec": {
   "display_name": "Python 3 (ipykernel)",
   "language": "python",
   "name": "python3"
  },
  "language_info": {
   "codemirror_mode": {
    "name": "ipython",
    "version": 3
   },
   "file_extension": ".py",
   "mimetype": "text/x-python",
   "name": "python",
   "nbconvert_exporter": "python",
   "pygments_lexer": "ipython3",
   "version": "3.10.9"
  }
 },
 "nbformat": 4,
 "nbformat_minor": 5
}
