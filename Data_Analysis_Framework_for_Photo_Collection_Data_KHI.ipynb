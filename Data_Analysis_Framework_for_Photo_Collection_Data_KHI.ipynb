{
 "cells": [
  {
   "cell_type": "markdown",
   "id": "db0d04b8",
   "metadata": {},
   "source": [
    "# Data Analysis Framework for Photographic Collection Data from the KHI"
   ]
  },
  {
   "cell_type": "markdown",
   "id": "caa51baf",
   "metadata": {},
   "source": []
  },
  {
   "cell_type": "markdown",
   "id": "352ee69f",
   "metadata": {},
   "source": [
    "# Table of contents"
   ]
  },
  {
   "cell_type": "markdown",
   "id": "a2941105",
   "metadata": {},
   "source": [
    "<ol start=\"1\">\n",
    "    <p><a href='#start'>Getting started: How to use this notebook</a></p>\n",
    "    <p style=\"margin-top:0\"><a href='#jnglossary'>Notebook Glossary</a></p>\n",
    "    <p style=\"margin-top:0\"><a href='#preparation'>Preparation</a></p>\n",
    "    <li><a href='#upload'>Upload your KHI dataset</a></li>\n",
    "    <li><a href='#refining'>Refining your photograph dataset: applying filters</a></li>\n",
    "    <li><a href='#sort'>Sort your data</a></li>\n",
    "    <li><a href='#visualization'>Data visualization</a></li>\n",
    "    <li><a href='#download'>Download results</a></li>\n",
    "    <p style=\"margin-top:0\"><a href='#useful'>Useful links</a></p>\n",
    "    <p style=\"margin-top:0\"><a href='#contact'>Contact information</a></p>\n",
    "</ol>"
   ]
  },
  {
   "cell_type": "markdown",
   "id": "882935e2",
   "metadata": {},
   "source": [
    "# Getting Started: How to Use This Notebook<a id='howto'></a>"
   ]
  },
  {
   "cell_type": "markdown",
   "id": "e952f9c1",
   "metadata": {},
   "source": [
    "Welcome to this interactive data analysis experience!</br>\n",
    "This Jupyter Notebook is designed to help you analyze archival data efficiently, even if you're new to programming. Follow the instructions carefully to execute your analysis. If you want more information on <a href=\"https://docs.jupyter.org/en/latest/#\" target=\"_blank\">what a Jupyter Notebook is</a>, you can visit this link. Here's how to get started:"
   ]
  },
  {
   "cell_type": "markdown",
   "id": "fcd60934",
   "metadata": {},
   "source": [
    "<h3 style=\"display:inline-block \"><img style=\"display:inline-block; height:24px\" src= 'resources/magn.png' alt='Download icon'> <b>Understanding Jupyter Notebooks:</b></h3></br>"
   ]
  },
  {
   "cell_type": "markdown",
   "id": "e0ccb6ce",
   "metadata": {},
   "source": [
    "- Each section in this notebook is contained within a **\"cell\"**. Cells can contain explanatory text (like this), Python code, or both.\n",
    "- To **execute** a cell and see its output, select the cell and press `Shift + Enter` or click on the `Run` button in the menu above.\n",
    "- When you execute a cell, you may notice a **\\* symbol** next to the cell. This indicates that the cell is currently running. Once the cell has finished executing, the * symbol will be **replaced by a number**, which represents the order of execution for that particular cell.\n",
    "- The notebook operates using a computational engine known as a **\"kernel\"**, responsible for executing code and maintaining variable states.\n",
    "- Sometimes it may be necessary to **restart the kernel**, especially if you encounter unexpected behavior or want to clear all previous variable assignments. You can restart the kernel by clicking on the \"Kernel\" menu above and selecting \"Restart Kernel\" or \"Restart & Clear Output\"."
   ]
  },
  {
   "cell_type": "markdown",
   "id": "d0d60575",
   "metadata": {},
   "source": [
    "<h3 style=\"display:inline-block \"><img style=\"display:inline-block; height:28px\" src= 'resources/interact.png' alt='Download icon'> <b> Interacting with the Notebook:</b></h3></br>"
   ]
  },
  {
   "cell_type": "markdown",
   "id": "dd557810",
   "metadata": {},
   "source": [
    "- Use the provided cells to **upload** your archival data files (in XML format) using the upload button.\n",
    "- **Run the cells in order** to execute the pre-written code and perform data analysis tasks."
   ]
  },
  {
   "cell_type": "markdown",
   "id": "d6221d82",
   "metadata": {},
   "source": [
    "<h3 style=\"display:inline-block \"><img style=\"display:inline-block; height:28px\" src= 'resources/download2.png' alt='Download icon'> <b> Download results:</b></h3></br>"
   ]
  },
  {
   "cell_type": "markdown",
   "id": "09a32c22",
   "metadata": {},
   "source": [
    "- This notebook allows you to download the results of your analysis to your device. The data will be saved in **CSV format** (see the Notebook Glossary for more details)."
   ]
  },
  {
   "cell_type": "markdown",
   "id": "6d4ba8ee",
   "metadata": {},
   "source": [
    "<h3 style=\"display:inline-block \"><img style=\"display:inline-block; height:32px\" src= 'resources/help.png' alt='help icon'> <b> Getting help</b></h3></br>"
   ]
  },
  {
   "cell_type": "markdown",
   "id": "3ef1b023",
   "metadata": {},
   "source": [
    "- If you encounter any **issues or have questions**, refer to the explanatory texts, comments, glossary, and links section for clarification.\n",
    "- Feel free to **modify and experiment** with the code to suit your specific research needs. Just be careful when making changes, especially if you're new to coding. Tweaking the code can **affect how it works** and might cause unexpected issues or errors. It's a good idea to save a backup of your notebook before making big changes to avoid any problems with your original work.\n",
    "- For additional assistance or inquiries, please see the <a href=\"#contact\">Contact information</a> section."
   ]
  },
  {
   "cell_type": "markdown",
   "id": "98ae30f9",
   "metadata": {},
   "source": [
    "<div class=\"alert alert-block alert-info\">\n",
    "<b>Note:</b> Don't worry about the technical details - simply execute the cells and observe the outputs that are generated. The notebook is designed to handle the computational tasks behind the scenes, allowing you to focus on exploring and interpreting the results.\n",
    "</div>"
   ]
  },
  {
   "cell_type": "markdown",
   "id": "96fc4ba1",
   "metadata": {},
   "source": [
    "# Notebook Glossary<a id='jnglossary'></a>"
   ]
  },
  {
   "cell_type": "markdown",
   "id": "3e2df656",
   "metadata": {},
   "source": [
    "<b>Cell: </b>\n",
    ">A cell is a container within a Jupyter Notebook where you can write and execute code, display text or include other content like images and multimedia. Each cell can be individually executed to see its output."
   ]
  },
  {
   "cell_type": "markdown",
   "id": "9a255444",
   "metadata": {},
   "source": [
    "<b>Execute/Run:</b>\n",
    ">In the context of programming and Jupyter Notebooks, \"execute\" or \"run\" refers to the process of running a cell containing code to perform the actions specified within that code. Pressing Shift+Enter in a Jupyter Notebook or using the \"Run\" button in the notebook interface cell executes the code and displays the output."
   ]
  },
  {
   "cell_type": "markdown",
   "id": "d0e35d74",
   "metadata": {},
   "source": [
    "<b><a id='dataset'></a>Dataset:</b>\n",
    ">A dataset is a collection of organized data used for analysis or research. It consists of structured or semi-structured information presented in a specific format, such as rows and columns. Datasets are important for tasks like analyzing trends, drawing conclusions, and conducting research in various fields."
   ]
  },
  {
   "cell_type": "markdown",
   "id": "3c5e737f",
   "metadata": {},
   "source": [
    "<b>Python:</b>\n",
    ">Python is a popular programming language known for its simplicity and readability. It is widely used for various purposes, including web development, data analysis, and automation. Python's clear and straightforward syntax makes it beginner-friendly and accessible for people learning to code."
   ]
  },
  {
   "cell_type": "markdown",
   "id": "7b4e6336",
   "metadata": {},
   "source": [
    "<b><a id='string'></a>String:</b>\n",
    ">A string is a sequence of characters enclosed in quotes (e.g., 'hello', \"world\"). Strings are used to represent textual data in programming and can be manipulated using various string operations."
   ]
  },
  {
   "cell_type": "markdown",
   "id": "c83828c7",
   "metadata": {},
   "source": [
    "<b>List:</b>\n",
    ">A list is a data structure that represents an ordered collection of items, where each item can be of any data type (e.g., numbers, strings, other lists). Lists are versatile and widely used for storing and manipulating data."
   ]
  },
  {
   "cell_type": "markdown",
   "id": "e5eb70d2",
   "metadata": {},
   "source": [
    "<b>DataFrame:</b>\n",
    ">A DataFrame is a two-dimensional tabular data structure in pandas (a Python library for data manipulation and analysis). It consists of rows and columns, where each column can have a different <a href=\"https://docs.python.org/3/library/datatypes.html\" target=\"_blank\">data type</a> (e.g., integer, string, float). DataFrames are widely used for data analysis and manipulation tasks."
   ]
  },
  {
   "cell_type": "markdown",
   "id": "75860b18",
   "metadata": {},
   "source": [
    "<b>CSV:</b>\n",
    ">CSV (Comma-Separated Values) is a simple file format used to store tabular data, where each line in the file corresponds to a row of data, and fields are separated by commas. CSV files are commonly used for data exchange between different software applications."
   ]
  },
  {
   "cell_type": "markdown",
   "id": "bba0b129",
   "metadata": {},
   "source": [
    "<b>Library:</b>\n",
    ">In programming, a library refers to a collection of reusable code and functions that can be imported and used in your own programs. Libraries like pandas, matplotlib, and numpy are commonly used in data analysis with Python."
   ]
  },
  {
   "cell_type": "markdown",
   "id": "9e208998",
   "metadata": {},
   "source": [
    "<b>Function:</b>\n",
    ">A function is a block of reusable code that performs a specific task. Functions are designed to take inputs (arguments) and produce outputs, allowing you to modularize code and make it more organized and reusable."
   ]
  },
  {
   "cell_type": "markdown",
   "id": "a1d382d9",
   "metadata": {},
   "source": [
    "<b>Argument:</b> \n",
    ">An argument (or parameter) is a value passed to a function or method when it is called. Arguments provide input data that the function can operate on, allowing for customization and flexibility in function behavior"
   ]
  },
  {
   "cell_type": "markdown",
   "id": "f0d88f38",
   "metadata": {},
   "source": [
    "<b>Error/Exception:</b>\n",
    ">An error or exception is a problem that occurs during the execution of a program, causing it to behave unexpectedly or fail. Errors can arise due to syntax mistakes, logical errors, or issues with input data. Common examples are syntax errors (e.g., typos in code), runtime errors (e.g., division by zero), or name errors (e.g., referencing undefined variables)."
   ]
  },
  {
   "cell_type": "markdown",
   "id": "c8856bdb",
   "metadata": {},
   "source": [
    "<b>Widget:</b>\n",
    ">A widget in Jupyter Notebook is a graphical tool that allows users to interact with and control elements in the notebook environment. Widgets can be used to input data, make selections, or trigger actions."
   ]
  },
  {
   "cell_type": "markdown",
   "id": "7b2171fb",
   "metadata": {},
   "source": [
    "<b>XML:</b>\n",
    ">XML is a markup language that defines a set of rules for encoding documents in a format that is both human-readable and machine-readable. XML uses tags to define the structure and meaning of data elements, making it suitable for representing structured data with nested hierarchies."
   ]
  },
  {
   "cell_type": "markdown",
   "id": "7df42f74",
   "metadata": {},
   "source": [
    "# KHI Dataset Glossary"
   ]
  },
  {
   "cell_type": "markdown",
   "id": "9af53694",
   "metadata": {},
   "source": [
    "**Photo ID `(photo_id)`:** Unique ID identifying photographs within the dataset."
   ]
  },
  {
   "cell_type": "markdown",
   "id": "634f3bc7",
   "metadata": {},
   "source": [
    "**Art Object ID `(object_id)`:** Unique ID identifying artworks within the dataset."
   ]
  },
  {
   "cell_type": "markdown",
   "id": "fbcf68dc",
   "metadata": {},
   "source": [
    "**Iconography `(iconography)`:** IconClass"
   ]
  },
  {
   "cell_type": "markdown",
   "id": "efc9eea0",
   "metadata": {},
   "source": [
    "**Photo ID `(photo_id)`:** Unique ID identifying photographs within the dataset."
   ]
  },
  {
   "cell_type": "markdown",
   "id": "527d7138",
   "metadata": {},
   "source": [
    "**Photo ID `(photo_id)`:** Unique ID identifying photographs within the dataset."
   ]
  },
  {
   "cell_type": "markdown",
   "id": "fa9d6561",
   "metadata": {},
   "source": [
    "**Photo ID `(photo_id)`:** Unique ID identifying photographs within the dataset."
   ]
  },
  {
   "cell_type": "markdown",
   "id": "c9d7f08e-e3d9-4f9b-9b68-133f3ace508e",
   "metadata": {},
   "source": [
    "# Environment Setup<a id='preparation'></a>"
   ]
  },
  {
   "cell_type": "markdown",
   "id": "7a1d1115",
   "metadata": {},
   "source": [
    "The cells below are responsible for downloading necessary libraries (dependencies) and importing them into our notebook environment. Dependencies are additional pieces of code that provide specific functionality, such as data manipulation, visualization, or analysis tools."
   ]
  },
  {
   "cell_type": "markdown",
   "id": "899bf999",
   "metadata": {},
   "source": [
    "When you run these cells by pressing `Shift + Enter`, the notebook will automatically download the required dependencies if they are not already installed on your system. This process may take a moment, but it ensures that all the tools we need to analyze and work with data are readily available."
   ]
  },
  {
   "cell_type": "markdown",
   "id": "a429fb03",
   "metadata": {},
   "source": [
    "Once the dependencies are downloaded and imported, you can proceed with the rest of the notebook."
   ]
  },
  {
   "cell_type": "code",
   "execution_count": null,
   "id": "db84a716",
   "metadata": {
    "scrolled": true
   },
   "outputs": [],
   "source": [
    "!pip install pathlib\n",
    "!pip install numpy\n",
    "!pip install matplotlib\n",
    "!pip install pandas\n",
    "!pip install seaborn\n",
    "%load_ext autoreload\n",
    "%autoreload 2"
   ]
  },
  {
   "cell_type": "code",
   "execution_count": null,
   "id": "d2ba76ec",
   "metadata": {},
   "outputs": [],
   "source": [
    "# To prevent SSL certificate failure\n",
    "import os, ssl\n",
    "if (not os.environ.get('PYTHONHTTPSVERIFY', '') and\n",
    "    getattr(ssl, '_create_unverified_context', None)):\n",
    "    ssl._create_default_https_context = ssl._create_unverified_context\n",
    "import pathlib\n",
    "import xml.etree.ElementTree as ET\n",
    "import re\n",
    "from pprint import pprint\n",
    "import codecs\n",
    "from resources.PhotoAttributes import PhotoAttributes\n",
    "from resources.dictionaries_file import *\n",
    "from resources.Classes_file import *\n",
    "from Thesis_project_main import *\n",
    "from module import *\n",
    "import numpy\n",
    "import matplotlib.pyplot as plt\n",
    "import seaborn as sns\n",
    "import pandas as pd\n",
    "from pandas.api.types import is_datetime64_any_dtype as is_datetime\n",
    "import ipywidgets as widgets\n",
    "from ipywidgets import HTML\n",
    "from IPython.display import display\n",
    "import base64\n",
    "from ipywidgets import interact, interactive, fixed, interact_manual\n",
    "%run ./resources/dataclasses_creation.py"
   ]
  },
  {
   "cell_type": "markdown",
   "id": "317b450a",
   "metadata": {},
   "source": [
    "# 1. Upload Your KHI Data<a id='upload'></a>\n",
    "***"
   ]
  },
  {
   "cell_type": "markdown",
   "id": "15027bf9",
   "metadata": {},
   "source": [
    "This section allows you to **upload your XML file** containing data about the collections of the KHI.\n",
    "\n",
    "Follow these steps to upload your file:\n",
    "\n",
    "1. Run the following cell.\n",
    "2. Click on the \"Upload\" button that will appear below.\n",
    "3. Choose the XML file from your device.\n",
    "4. **Important:** Executing the cell by pressing Shift+Enter will reset your file upload."
   ]
  },
  {
   "cell_type": "code",
   "execution_count": null,
   "id": "49942d5e",
   "metadata": {},
   "outputs": [],
   "source": [
    "display(upload)"
   ]
  },
  {
   "cell_type": "markdown",
   "id": "f46862ba",
   "metadata": {},
   "source": [
    "If you prefer, you can explore a test file with data about <b>Candido Verri's photographic collection</b> and other  photographs depicting the same artworks within the Photothek's archive without the need to upload any additional file. Just run the cell below, and the test data will load automatically. This way, you can start exploring and analyzing the dataset right away following the notebook's instructions."
   ]
  },
  {
   "cell_type": "markdown",
   "id": "29345dd7-1d3d-4b03-99de-fcbccd669e9d",
   "metadata": {},
   "source": [
    "**Execute the following cell** by pressing `Shift + Enter` to decode your data and save the content in a text file. This file will be used for the next steps of the analysis."
   ]
  },
  {
   "cell_type": "code",
   "execution_count": null,
   "id": "5bcbce67",
   "metadata": {
    "scrolled": true
   },
   "outputs": [],
   "source": [
    "try:\n",
    "    if upload.value and len(upload.value) > 0 and upload.value[0] is not None:\n",
    "        uploaded_file = upload.value[0]\n",
    "        codecs.decode(uploaded_file.content, encoding=\"windows-1252\")\n",
    "        with open(\"./saved-output.txt\", \"wb\") as fp:\n",
    "            fp.write(uploaded_file.content)\n",
    "        print('Your file has been uploaded successfully!')\n",
    "    else:\n",
    "        with open(\"metadata/Verri_1908_test_data.xml\", \"rb\") as testfile:\n",
    "            uploaded_file = testfile.read()\n",
    "            codecs.decode(uploaded_file, encoding=\"windows-1252\")\n",
    "            with open(\"./saved-output.txt\", \"wb\") as fp:\n",
    "                fp.write(uploaded_file)\n",
    "        print('You can start exploring the test file!')\n",
    "except IndexError:\n",
    "    print(\"Error: Please upload an XML file in the 'Upload' cell above and try again.\")\n",
    "\n"
   ]
  },
  {
   "cell_type": "markdown",
   "id": "e27c798a",
   "metadata": {},
   "source": [
    "### Overview of your <a href=\"#dataset\">dataset</a>"
   ]
  },
  {
   "cell_type": "markdown",
   "id": "f1d86204",
   "metadata": {},
   "source": [
    "Execute the following cell to get an overview of your dataset. The data will be presented within a **DataFrame**, which is a structured way to organize and manipulate tabular data in computer programming and data analysis, particularly with large datasets. In this DataFrame:\n",
    "\n",
    "- Each **row** represents an individual entry or record in your dataset.\n",
    "- Each **column** represents a specific type of information, specified in the column name.\n",
    "\n",
    "DataFrames let you organize, explore, and manipulate data easily, allowing tasks such as **filtering**, **sorting**, and **summarizing data**. You can also perform statistical analysis, create visualizations, and prepare data for machine learning models using DataFrames in Python and other programming languages. \n",
    "\n"
   ]
  },
  {
   "cell_type": "code",
   "execution_count": null,
   "id": "bc6a1acc",
   "metadata": {
    "scrolled": true
   },
   "outputs": [],
   "source": [
    "# Convert the text file into a dataframe.\n",
    "photos_collection = functions_for_KHI_data_extraction.get_dataframe(\"./saved-output.txt\")\n",
    "\n",
    "# The dataframe \"photos_dataframe\" also includes entries of the photographs' digital version. \n",
    "photos_dataframe = photos_collection.dataframe\n",
    "\n",
    "# The dataframe \"photos_dataframe_no_digital\" excludes entries of digital photos.\n",
    "# If you prefer not to include data about digital versions of photographs in your results,\n",
    "# this dataframe will provide more accurate outcomes for your analysis\n",
    "photos_dataframe_no_digital = photos_collection.dataframe_no_scan\n",
    "photos_dataframe_no_digital = photos_dataframe_no_digital.set_index('photo_id')\n",
    "\n",
    "# Display the first 100 rows of the dataset\n",
    "display(photos_dataframe_no_digital.head(100).style.set_sticky(axis=\"index\"))"
   ]
  },
  {
   "cell_type": "markdown",
   "id": "864c1b71",
   "metadata": {},
   "source": [
    "<div class=\"alert alert-block alert-warning\">\n",
    "<p style=\"display:inline-block \"><img style=\"display:inline-block; height:22px\" src= 'resources/download2.png' alt='Download icon'> <b>Download Section</b></p>\n",
    "</div>"
   ]
  },
  {
   "cell_type": "markdown",
   "id": "b1e9a063",
   "metadata": {},
   "source": [
    "Notice that only the first 100 rows of the DataFrame are shown above. If you want to see the whole DataFrame or work with it outside of this notebook, you can <b>download your table as CSV file</b>\n",
    "\n",
    "- Run the cell below.\n",
    "- Click on the download button below. The download should start immediately."
   ]
  },
  {
   "cell_type": "code",
   "execution_count": null,
   "id": "a0a5472c",
   "metadata": {},
   "outputs": [],
   "source": [
    "res = photos_dataframe_no_digital.to_csv()\n",
    "\n",
    "#File\n",
    "filename = 'photos_data_table.csv'\n",
    "b64 = base64.b64encode(res.encode())\n",
    "payload = b64.decode()\n",
    "\n",
    "#Display download button\n",
    "html_button = html_buttons.format(payload=payload,filename=filename)\n",
    "display(HTML(html_button))"
   ]
  },
  {
   "cell_type": "markdown",
   "id": "9dcdab93",
   "metadata": {},
   "source": [
    "<div class=\"alert alert-block alert-info\">\n",
    "<b>Note:</b> You can change the file name by replacing the <a href='#string'>string</a> \"photos_data_table.csv\" within brackets.</br>You can explore the documentation on the pandas.DataFrame.to_csv() download method here: <a href=\"https://pandas.pydata.org/pandas-docs/stable/reference/api/pandas.DataFrame.to_csv.html\" target=\"_blank\">pandas.Dataframe.to_csv()</a> (official documentation).</div>"
   ]
  },
  {
   "cell_type": "markdown",
   "id": "ba9a7440",
   "metadata": {},
   "source": [
    "### Dataset Information"
   ]
  },
  {
   "cell_type": "markdown",
   "id": "eaaeeae1-99b1-4382-9967-4ff618366d74",
   "metadata": {},
   "source": [
    "Execute the cell below to view a brief <b>description of the dataset</b> you're analysing."
   ]
  },
  {
   "cell_type": "code",
   "execution_count": null,
   "id": "5ab7963a",
   "metadata": {},
   "outputs": [],
   "source": [
    "print(photos_collection.get_dataset_description())"
   ]
  },
  {
   "cell_type": "markdown",
   "id": "c9bdae34",
   "metadata": {},
   "source": [
    "# 2. Refining your photograph dataset: applying  filters <a id='refining'></a>\n",
    "***"
   ]
  },
  {
   "cell_type": "markdown",
   "id": "d22915b5-d526-44a8-a1ad-b04ff17ab20d",
   "metadata": {},
   "source": [
    "DataFrames are a powerful data structure that allow easy manipulation and filtering of data. In this section, you can filter the dataset by specifying a search text and the column in which you want to perform the search."
   ]
  },
  {
   "cell_type": "markdown",
   "id": "08c58b63",
   "metadata": {},
   "source": [
    "<div class=\"alert alert-block alert-info\">\n",
    "<b>Note:</b> The KHI dataset is typically in German, as German is the default language used for photo cataloguing within the KHI.\n",
    "</div>"
   ]
  },
  {
   "cell_type": "markdown",
   "id": "87fef4c3-bda8-4caa-96b9-5a486f702fe3",
   "metadata": {},
   "source": [
    "### Filter by any column"
   ]
  },
  {
   "cell_type": "markdown",
   "id": "cb34b7ed-0a31-47e3-ac55-30d23d75d955",
   "metadata": {},
   "source": [
    "* Execute the following cell to <b>display your filter tools</b>.</br>\n",
    "* Choose the column you want to filter from the dropdown menu and write your search text in the dedicated field:"
   ]
  },
  {
   "cell_type": "code",
   "execution_count": null,
   "id": "3faefc8c-50e7-4dff-86a7-a7ce96a25471",
   "metadata": {
    "scrolled": true
   },
   "outputs": [],
   "source": [
    "filter_column_widget.options=[column for column in photos_collection.dataframe_no_scan.columns if column != 'date']\n",
    "filter_column_widget.value=photos_collection.dataframe_no_scan.columns[2]\n",
    "display(filter_column_widget)\n",
    "display(text_to_filter)"
   ]
  },
  {
   "cell_type": "markdown",
   "id": "c6689f15",
   "metadata": {},
   "source": [
    "Execute the following cell to **see the results**.</br>\n",
    "Notice that, **if you leave the search text box blank**, no filter will be applied and you will see an overview of the whole DataFrame."
   ]
  },
  {
   "cell_type": "markdown",
   "id": "59b8963f",
   "metadata": {},
   "source": [
    "<div class=\"alert alert-block alert-info\">\n",
    "    <b>Note:</b> When you filter data in a DataFrame, the numbers that label each row (indices) might not stay in order. This happens if some rows are left out when you filter the data. But don't worry! Even if the numbers aren't in order, you can still look at and work with the filtered data just fine. Each row still has all the same information it had before, so you can use it for whatever you need, like analyzing or comparing different pieces of data.</div>"
   ]
  },
  {
   "cell_type": "code",
   "execution_count": null,
   "id": "f02af7d4-b75e-4071-a452-be8fa038a891",
   "metadata": {
    "scrolled": true
   },
   "outputs": [],
   "source": [
    "filter_by_column = photos_collection.filter_by(filter_column_widget.value, text_to_filter.value)\n",
    "filter_by_column"
   ]
  },
  {
   "cell_type": "markdown",
   "id": "2a93e843",
   "metadata": {},
   "source": [
    "<div class=\"alert alert-block alert-warning\">\n",
    "<p style=\"display:inline-block \"><img style=\"display:inline-block; height:22px\" src= 'resources/download2.png' alt='Download icon'> <b>Download Section</b></p>\n",
    "</div>"
   ]
  },
  {
   "cell_type": "markdown",
   "id": "524a023e",
   "metadata": {},
   "source": [
    "Notice that only the first 100 rows of the DataFrame are shown above. If you want to see the whole DataFrame or work with it outside of this notebook, you can <b>download your table as CSV file</b>\n",
    "\n",
    "- Run the cell below.\n",
    "- Click on the download button below. The download should start immediately."
   ]
  },
  {
   "cell_type": "code",
   "execution_count": null,
   "id": "a7432229",
   "metadata": {},
   "outputs": [],
   "source": [
    "res = filter_by_column.to_csv()\n",
    "\n",
    "#File\n",
    "filename = 'table_filtered_by_column.csv'\n",
    "b64 = base64.b64encode(res.encode())\n",
    "payload = b64.decode()\n",
    "\n",
    "#Display download button\n",
    "html_button = html_buttons.format(payload=payload,filename=filename)\n",
    "display(HTML(html_button))"
   ]
  },
  {
   "cell_type": "markdown",
   "id": "7cbf12c4-1622-43c8-be60-06c467e4c27e",
   "metadata": {},
   "source": [
    "### Filter between two years"
   ]
  },
  {
   "cell_type": "markdown",
   "id": "9799e9fa",
   "metadata": {},
   "source": [
    "In this section, you can filter photographs based on a **year range** to find photos with artwork dates within that range."
   ]
  },
  {
   "cell_type": "markdown",
   "id": "257aef54",
   "metadata": {},
   "source": [
    "- Run the following cell to see the filtering tools.\n",
    "- Use the tools to enter two years to specify the range of years you want to filter."
   ]
  },
  {
   "cell_type": "code",
   "execution_count": null,
   "id": "47f203a3-f112-4a18-81e4-fc4212533e11",
   "metadata": {
    "scrolled": true
   },
   "outputs": [],
   "source": [
    "display(text_date_to_filter, text_date_to_filter_2)"
   ]
  },
  {
   "cell_type": "markdown",
   "id": "e3d2355c",
   "metadata": {},
   "source": [
    "Execute the following cell to see the result:"
   ]
  },
  {
   "cell_type": "code",
   "execution_count": null,
   "id": "4fde23ef",
   "metadata": {
    "scrolled": true
   },
   "outputs": [],
   "source": [
    "if text_date_to_filter.value and text_date_to_filter_2.value:\n",
    "    filter_with_two_dates = photos_collection.filter_by('date', text_date_to_filter.value, text_date_to_filter_2.value)\n",
    "    display(filter_with_two_dates)\n",
    "else:\n",
    "    print('Write a valid year in the cells above to see the filtered result.')"
   ]
  },
  {
   "cell_type": "markdown",
   "id": "470d16f9",
   "metadata": {},
   "source": [
    "<div class=\"alert alert-block alert-warning\">\n",
    "<p style=\"display:inline-block \"><img style=\"display:inline-block; height:22px\" src= 'resources/download2.png' alt='Download icon'> <b>Download Section</b></p>\n",
    "</div>"
   ]
  },
  {
   "cell_type": "markdown",
   "id": "8f3cbd61",
   "metadata": {},
   "source": [
    "Follow the instructions to <b>download your DataFrame as CSV file:</b>\n",
    "\n",
    "\n",
    "- Run the cell below.\n",
    "- Click on the download button below. The download should start immediately."
   ]
  },
  {
   "cell_type": "code",
   "execution_count": null,
   "id": "e7d51822",
   "metadata": {},
   "outputs": [],
   "source": [
    "res = filter_with_two_dates.to_csv()\n",
    "\n",
    "#File\n",
    "filename = 'table_filtered_with_two_years.csv'\n",
    "b64 = base64.b64encode(res.encode())\n",
    "payload = b64.decode()\n",
    "\n",
    "#Display download button\n",
    "html_button = html_buttons.format(payload=payload,filename=filename)\n",
    "display(HTML(html_button))"
   ]
  },
  {
   "cell_type": "markdown",
   "id": "8b80bbf7",
   "metadata": {},
   "source": [
    "### Filter by year and operator"
   ]
  },
  {
   "cell_type": "markdown",
   "id": "73ec02dc",
   "metadata": {},
   "source": [
    "You can filter photographs by artwork year by selecting a year and decide if you want to see exact match results, or before or after the specified year.\n",
    "* Run the following cell to see the filtering tools.\n",
    "* Use the widgets below to specify a **year** and an **operator**."
   ]
  },
  {
   "cell_type": "code",
   "execution_count": null,
   "id": "b0396f30",
   "metadata": {
    "scrolled": false
   },
   "outputs": [],
   "source": [
    "display(text_date_to_filter, year_operator)"
   ]
  },
  {
   "cell_type": "markdown",
   "id": "e78eddbc",
   "metadata": {},
   "source": [
    "Run the next cell to show the filtered result:"
   ]
  },
  {
   "cell_type": "code",
   "execution_count": null,
   "id": "bb500717-3bdc-4d07-b741-641f25f2f164",
   "metadata": {
    "scrolled": true
   },
   "outputs": [],
   "source": [
    "if text_date_to_filter.value and year_operator.value:\n",
    "    filter_by_date_and_operator = photos_collection.filter_by('date', text_date_to_filter.value, year_operator.value)\n",
    "    display(filter_by_date_and_operator)\n",
    "else:\n",
    "    print('Write a valid year and choose an operator in the cells above to see the filtered result.')"
   ]
  },
  {
   "cell_type": "markdown",
   "id": "964ed28c",
   "metadata": {},
   "source": [
    "<div class=\"alert alert-block alert-warning\">\n",
    "<p style=\"display:inline-block \"><img style=\"display:inline-block; height:22px\" src= 'resources/download2.png' alt='Download icon'> <b>Download Section</b></p>\n",
    "</div>"
   ]
  },
  {
   "cell_type": "markdown",
   "id": "00a0352a",
   "metadata": {},
   "source": [
    "Follow the instructions to <b>download your DataFrame as CSV file:</b>\n",
    "\n",
    "- Run the cell below.\n",
    "- Click on the download button below. The download should start immediately."
   ]
  },
  {
   "cell_type": "code",
   "execution_count": null,
   "id": "6695f981",
   "metadata": {},
   "outputs": [],
   "source": [
    "res = filter_by_date_and_operator.to_csv()\n",
    "\n",
    "#File\n",
    "filename = 'table_filtered_year_and_operator.csv'\n",
    "b64 = base64.b64encode(res.encode())\n",
    "payload = b64.decode()\n",
    "\n",
    "#Display download button\n",
    "html_button = html_buttons.format(payload=payload,filename=filename)\n",
    "display(HTML(html_button))"
   ]
  },
  {
   "cell_type": "markdown",
   "id": "3d76f129-c553-4e48-9972-fb70b27e1571",
   "metadata": {},
   "source": [
    "### Combining multiple filters"
   ]
  },
  {
   "cell_type": "markdown",
   "id": "272d831e",
   "metadata": {},
   "source": [
    "If you've completed the filtering tasks in the above sections, you should have three DataFrames:\n",
    "* `filter_by_column`: This DataFrame has data filtered based on a specific column and input text.\n",
    "* `filter_with_two_dates`: This DataFrame is filtered to show data between two specified years.\n",
    "* `filter_by_date_and_operator`: This DataFrame shows data filtered by artwork date using a specified operator."
   ]
  },
  {
   "cell_type": "markdown",
   "id": "55562f63",
   "metadata": {},
   "source": [
    "You can apply more filters on these DataFrames. Execute the following cell to prepare your data."
   ]
  },
  {
   "cell_type": "code",
   "execution_count": null,
   "id": "e7b37ccc",
   "metadata": {},
   "outputs": [],
   "source": [
    "additional_filter_by_column = photos_collection.filter_by(filter_column_widget.value,\n",
    "                                                          text_to_filter.value,\n",
    "                                                          filter_by_column)\n",
    "additional_filter_by_date_operator = photos_collection.filter_by(filter_column_widget.value,\n",
    "                                                                 text_to_filter.value,\n",
    "                                                                 filter_by_date_and_operator)\n",
    "additional_filter_with_two_dates = photos_collection.filter_by(filter_column_widget.value,\n",
    "                                                               text_to_filter.value,\n",
    "                                                               filter_with_two_dates)"
   ]
  },
  {
   "cell_type": "markdown",
   "id": "ca218946",
   "metadata": {},
   "source": [
    "Choose between the following DataFrames:\n",
    "* To filter the `filter_by_column` DataFrame, replace `'INPUT TEXT'` with `additional_filter_by_column` in the brackets below (remove the quotes '').\n",
    "* To filter the `filter_with_two_dates` DataFrame, replace `'INPUT TEXT'` with `additional_filter_by_date_operator` in the brackets below (remove the quotes '').\n",
    "* To filter the `filter_by_date_and_operator` DataFrame, replace `'INPUT TEXT'` with `additional_filter_with_two_dates` in the brackets below (remove the quotes '')."
   ]
  },
  {
   "cell_type": "code",
   "execution_count": null,
   "id": "859a6b9b",
   "metadata": {},
   "outputs": [],
   "source": [
    "display(filter_column_widget)\n",
    "display(text_to_filter)"
   ]
  },
  {
   "cell_type": "code",
   "execution_count": null,
   "id": "9501b610",
   "metadata": {
    "scrolled": true
   },
   "outputs": [],
   "source": [
    "# Replace 'INPUT TEXT' with one of the DataFrames mentioned in the above cell. Make sure to remove the quotes.\n",
    "display('INPUT TEXT')"
   ]
  },
  {
   "cell_type": "markdown",
   "id": "8499dc61",
   "metadata": {},
   "source": [
    "<div class=\"alert alert-block alert-warning\">\n",
    "<p style=\"display:inline-block \"><img style=\"display:inline-block; height:22px\" src= 'resources/download2.png' alt='Download icon'> <b>Download Section</b></p>\n",
    "</div>"
   ]
  },
  {
   "cell_type": "markdown",
   "id": "6f9f1d0e",
   "metadata": {},
   "source": [
    "Follow the instructions to <b>download your DataFrame as CSV file:</b>\n",
    "\n",
    "- Run the cell below.\n",
    "- Choose the file to download between:</br>\n",
    "`file_1` --> to download the `additional_filter_by_column` DataFrame</br>\n",
    "`file_2` --> to download the `additional_filter_by_date_operator` DataFrame</br>\n",
    "`file_3` --> to download the `additional_filter_with_two_dates` DataFrame\n",
    "- If necessary, replace `file_1` inside `html_button = html_buttons.format(payload=file_1,filename=filename)` with `file_2` or `file_3`.\n",
    "- Click on the download button below. The download should start immediately."
   ]
  },
  {
   "cell_type": "code",
   "execution_count": null,
   "id": "2f043254",
   "metadata": {},
   "outputs": [],
   "source": [
    "res = additional_filter_by_column.to_csv()\n",
    "res_1 = additional_filter_by_column.to_csv()\n",
    "res_2 = additional_filter_by_column.to_csv()\n",
    "\n",
    "#File\n",
    "filename = 'additional_filter_by_column.csv'\n",
    "b64 = base64.b64encode(res.encode())\n",
    "b64_1 = base64.b64encode(res_1.encode())\n",
    "b64_2 = base64.b64encode(res_2.encode())\n",
    "file_1 = b64.decode()\n",
    "file_2 = b64_1.decode()\n",
    "file_3 = b64_2.decode()\n",
    "\n",
    "#Display download button\n",
    "html_button = html_buttons.format(payload=file_1,filename=filename)\n",
    "display(HTML(html_button))"
   ]
  },
  {
   "cell_type": "markdown",
   "id": "fbb13446-7705-4c43-a68b-4f2e173272ae",
   "metadata": {},
   "source": [
    "# 3. Sort your data <a id='sort'></a>\n",
    "***"
   ]
  },
  {
   "cell_type": "markdown",
   "id": "ccce1a5b-533c-478c-9ddb-54a29b0815b9",
   "metadata": {},
   "source": [
    "You can sort the data in a DataFrame by selecting a specific column name to organize the rows based on the values within that column. This section allows you to sort the data in ascending order.\n",
    "* Run the following cell to see the filtering tool.\n",
    "* **Choose the column** in the DataFrame by its name that you want to use for sorting in the dropdown menu."
   ]
  },
  {
   "cell_type": "code",
   "execution_count": null,
   "id": "a4292dd4",
   "metadata": {
    "scrolled": true
   },
   "outputs": [],
   "source": [
    "filter_column_widget.options=[column for column in photos_collection.dataframe_no_scan.columns]\n",
    "filter_column_widget.value=photos_collection.dataframe_no_scan.columns[4]\n",
    "display(filter_column_widget)"
   ]
  },
  {
   "cell_type": "markdown",
   "id": "f18b35cf",
   "metadata": {},
   "source": [
    "Run the following cell to see the result:"
   ]
  },
  {
   "cell_type": "code",
   "execution_count": null,
   "id": "ed2a7263",
   "metadata": {
    "scrolled": true
   },
   "outputs": [],
   "source": [
    "sort_by_column = photos_collection.sort_columns_by(filter_column_widget.value)\n",
    "display(sort_by_column)"
   ]
  },
  {
   "cell_type": "markdown",
   "id": "d2d10b72",
   "metadata": {},
   "source": [
    "<div class=\"alert alert-block alert-warning\">\n",
    "<p style=\"display:inline-block \"><img style=\"display:inline-block; height:22px\" src= 'resources/download2.png' alt='Download icon'> <b>Download Section</b></p>\n",
    "</div>"
   ]
  },
  {
   "cell_type": "markdown",
   "id": "4433b9e3",
   "metadata": {},
   "source": [
    "Follow the instructions to <b>download your DataFrame as CSV file:</b>\n",
    "\n",
    "- Run the cell below.\n",
    "- Click on the download button below. The download should start immediately."
   ]
  },
  {
   "cell_type": "code",
   "execution_count": null,
   "id": "ede4c4fb",
   "metadata": {},
   "outputs": [],
   "source": [
    "res = sort_by_column.to_csv()\n",
    "\n",
    "#File\n",
    "filename = 'table_sorted_by_column.csv'\n",
    "b64 = base64.b64encode(res.encode())\n",
    "payload = b64.decode()\n",
    "\n",
    "#Display download button\n",
    "html_button = html_buttons.format(payload=payload,filename=filename)\n",
    "display(HTML(html_button))"
   ]
  },
  {
   "cell_type": "markdown",
   "id": "e215c4da",
   "metadata": {},
   "source": [
    "# 4. Data visualization<a id='visualization'></a>\n",
    "***"
   ]
  },
  {
   "cell_type": "markdown",
   "id": "7884605e-4f86-4e23-94ba-c4a25a519bcb",
   "metadata": {},
   "source": [
    "To obtain a visualization of the data in your dataset, **select a column** to display its content and the **type of chart** you want to use."
   ]
  },
  {
   "cell_type": "markdown",
   "id": "a443564a",
   "metadata": {},
   "source": [
    "<div class=\"alert alert-block alert-info\">\n",
    "    <b>Note:</b> Keep in mind that not all visualization methods will work well with every dataset. Feel free to experiment with different visualization techniques to discover which one best suits your specific dataset and analysis needs.</div>"
   ]
  },
  {
   "cell_type": "markdown",
   "id": "321977bb",
   "metadata": {},
   "source": [
    "If you need inspiration, you can test the following pairs:"
   ]
  },
  {
   "cell_type": "markdown",
   "id": "f638c717",
   "metadata": {},
   "source": [
    "<table style=\"font-size:10pt; text-align:left; margin-left:0;\">\n",
    "  <tr style=\"border-bottom: 1px solid #ddd;\">\n",
    "    <th style=\"text-align:left; background-color: #c8e29d\">Column</th>\n",
    "    <th style=\"text-align:left; background-color: #c8e29d\">Plot type </th>\n",
    "  </tr>\n",
    "  <tr style=\"border-bottom: 1px solid #ddd;\">\n",
    "    <td style=\"text-align:left; background-color:white;\">artist</td>\n",
    "    <td style=\"text-align:left; background-color:white;\">Bar Chart (bar)</td>\n",
    "  </tr>\n",
    "  <tr style=\"border-bottom: 1px solid #ddd;\">\n",
    "    <td style=\"text-align:left; background-color:white;\">object_administrator</td>\n",
    "    <td style=\"text-align:left; background-color:white;\">Bar Chart (bar)</td>\n",
    "  </tr>\n",
    "  <tr style=\"border-bottom: 1px solid #ddd;\">\n",
    "    <td style=\"text-align:left; background-color:white;\">type_category</td>\n",
    "    <td style=\"text-align:left; background-color:white;\">Bar Chart (bar)</td>\n",
    "  </tr>\n",
    "  <tr style=\"border-bottom: 1px solid #ddd;\">\n",
    "    <td style=\"text-align:left; background-color:white;\">photo_date</td>\n",
    "    <td style=\"text-align:left; background-color:white;\">Line Chart (line)</td>\n",
    "  </tr>\n",
    "  <tr style=\"border-bottom: 1px solid #ddd;\">\n",
    "    <td style=\"text-align:left; background-color:white;\">photo_entry_archival_date</td>\n",
    "    <td style=\"text-align:left; background-color:white;\">Line Chart (line)</td>\n",
    "  </tr>\n",
    "  <tr style=\"border-bottom: 1px solid #ddd;\">\n",
    "    <td style=\"text-align:left; background-color:white;\">genre</td>\n",
    "    <td style=\"text-align:left; background-color:white;\">Pie Chart (pie) or Donut Chart (donut)</td>\n",
    "  </tr>\n",
    "  <tr style=\"border-bottom: 1px solid #ddd;\">\n",
    "    <td style=\"text-align:left; background-color:white;\">type_description</td>\n",
    "    <td style=\"text-align:left; background-color:white;\">Pie Chart (pie) or Donut Chart (donut)</td>\n",
    "  </tr>\n",
    "  <tr style=\"border-bottom: 1px solid #ddd;\">\n",
    "    <td style=\"text-align:left; background-color:white;\">photo_archival_section</td>\n",
    "    <td style=\"text-align:left; background-color:white;\">Pie Chart (pie) or Donut Chart (donut)</td>\n",
    "  </tr>\n",
    "  <tr style=\"border-bottom: 1px solid #ddd;\">\n",
    "    <td style=\"text-align:left; background-color:white;\">material</td>\n",
    "    <td style=\"text-align:left; background-color:white;\">Pie Chart (pie) or Donut Chart (donut)</td>\n",
    "  </tr>\n",
    "</table>"
   ]
  },
  {
   "cell_type": "markdown",
   "id": "4f04e4f2",
   "metadata": {},
   "source": [
    "The file you uploaded in the <a href='#upload'>first section of the notebook</a> will be used to provide data visualization. If you'd like to use another DataFrame (for example, the output of a filtering process), you can replace `photos_collection.dataframe_no_scan` with the name of the DataFrame in the cell below."
   ]
  },
  {
   "cell_type": "markdown",
   "id": "a89d7798",
   "metadata": {},
   "source": [
    "- Execute the following cell to see the tools to create your data visualization.\n",
    "- Select the data to represent and the type of chart."
   ]
  },
  {
   "cell_type": "code",
   "execution_count": null,
   "id": "e6088511-791f-4530-ac84-310bbbc9b1de",
   "metadata": {},
   "outputs": [],
   "source": [
    "x_widget.options = photos_collection.dataframe_no_scan.columns\n",
    "x_widget.value = photos_collection.dataframe_no_scan.columns[2]\n",
    "display(x_widget, y_widget)"
   ]
  },
  {
   "cell_type": "markdown",
   "id": "0b390d27",
   "metadata": {},
   "source": [
    "Execute the cell below to see the result:"
   ]
  },
  {
   "cell_type": "code",
   "execution_count": null,
   "id": "fcd62d90",
   "metadata": {
    "scrolled": false
   },
   "outputs": [],
   "source": [
    "photos_collection.plot_values(x_widget.value, y_widget.value)"
   ]
  },
  {
   "cell_type": "markdown",
   "id": "61597a49",
   "metadata": {},
   "source": [
    "<div class=\"alert alert-block alert-info\">\n",
    "    <b>Note:</b> To save the chart image directly to your device, simply right-click on the chart and choose the \"Save image as...\" option from the menu.</div>"
   ]
  },
  {
   "cell_type": "markdown",
   "id": "40728fa5",
   "metadata": {},
   "source": [
    "# Useful links<a id='useful'></a>\n",
    "***"
   ]
  },
  {
   "cell_type": "markdown",
   "id": "f30a5eae",
   "metadata": {},
   "source": [
    "* Jupyter Notebook Documentation: <a href=\"https://docs.jupyter.org/en/latest/\" target=\"blank\"> https://docs.jupyter.org/en/latest/</a>\n",
    "* Python Documentation: <a href=\"https://docs.python.org/3/\" target=\"blank\">https://docs.python.org/3/</a>\n",
    "* Pandas Documentation: <a href=\"https://pandas.pydata.org/docs/\" target=\"blank\">https://pandas.pydata.org/docs/</a>\n",
    "\n"
   ]
  },
  {
   "cell_type": "markdown",
   "id": "1b9bfbec",
   "metadata": {},
   "source": [
    "# Contact information<a id='contact'></a>\n",
    "***\n",
    "* For assistance or questions please contact [alessandra.failla@hotmail.it](mailto:alessandra.failla@hotmail.it)\n",
    "* All resources related to this notebook are accessible on the associated GitHub Repository: </br><a href=\"https://github.com/AlessandraFa/photo-archive-data-analysis-framework.git\" target=\"blank\">https://github.com/AlessandraFa/photo-archive-data-analysis-framework.git</a>"
   ]
  }
 ],
 "metadata": {
  "kernelspec": {
   "display_name": "Python 3 (ipykernel)",
   "language": "python",
   "name": "python3"
  },
  "language_info": {
   "codemirror_mode": {
    "name": "ipython",
    "version": 3
   },
   "file_extension": ".py",
   "mimetype": "text/x-python",
   "name": "python",
   "nbconvert_exporter": "python",
   "pygments_lexer": "ipython3",
   "version": "3.10.9"
  }
 },
 "nbformat": 4,
 "nbformat_minor": 5
}
